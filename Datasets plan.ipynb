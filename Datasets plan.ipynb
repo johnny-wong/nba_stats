{
 "cells": [
  {
   "cell_type": "markdown",
   "metadata": {},
   "source": [
    "# Datasets\n",
    "A brainstorm of what datasets would be useful"
   ]
  },
  {
   "cell_type": "markdown",
   "metadata": {},
   "source": [
    "## By player per game\n",
    "A dictionary of player's and their stats in all their games"
   ]
  },
  {
   "cell_type": "markdown",
   "metadata": {},
   "source": [
    "## By team per game\n",
    "A dictionary of all teams and overall stats for each game they've played"
   ]
  },
  {
   "cell_type": "markdown",
   "metadata": {},
   "source": [
    "## Ratings\n",
    "A dictionary of all players and their current ratings. Not on a game by game basis, but an aggregate.\n",
    "Sources could include:\n",
    "* NBA official stats\n",
    "* 2K\n",
    "* Other free stats sources"
   ]
  },
  {
   "cell_type": "markdown",
   "metadata": {},
   "source": [
    "## Data structure\n",
    "It might be useful to have custom data structures to access all this data. For example, I could have a specific data structure for box score, player stats, team stats."
   ]
  },
  {
   "cell_type": "code",
   "execution_count": 43,
   "metadata": {},
   "outputs": [],
   "source": [
    "import datetime as dt\n",
    "from bs4 import BeautifulSoup\n",
    "import requests\n",
    "import re"
   ]
  },
  {
   "cell_type": "code",
   "execution_count": 74,
   "metadata": {},
   "outputs": [],
   "source": [
    "# ESPN\n",
    "START_DATE = dt.datetime(2018, 10, 17)\n",
    "url_start = 'http://www.espn.com.au/nba/scoreboard/_/date/'\n",
    "\n",
    "data_day = dt.datetime(2018, 10, 17)\n",
    "\n",
    "date_string = str(data_day.year) + str(data_day.month).zfill(2) + str(data_day.day).zfill(2) # zfill for leading 0 if necessary\n",
    "url = url_start + date_string\n",
    "\n",
    "if len(date_string) != 8:\n",
    "    raise ValueError('date_string needs to be in yyyymmdd format, date_string is ' + date_string)\n",
    "\n",
    "source = requests.get(url).text\n",
    "soup = BeautifulSoup(source, 'lxml')"
   ]
  },
  {
   "cell_type": "code",
   "execution_count": 87,
   "metadata": {},
   "outputs": [],
   "source": [
    "# NBA\n",
    "START_DATE = dt.datetime(2018, 10, 17)\n",
    "url_start = 'https://au.global.nba.com/schedule/#!/'\n",
    "\n",
    "data_day = dt.datetime(2018, 10, 17)\n",
    "# zfill for leading 0 if necessary\n",
    "date_string = str(data_day.year) + '-' + str(data_day.month).zfill(2) + '-' + str(data_day.day).zfill(2) \n",
    "url = url_start + date_string\n",
    "\n",
    "if len(date_string) != 10:\n",
    "    raise ValueError('date_string needs to be in yyyy-mm-dd format, date_string is ' + date_string)\n",
    "\n",
    "source = requests.get(url).text\n",
    "soup = BeautifulSoup(source, 'lxml')"
   ]
  },
  {
   "cell_type": "code",
   "execution_count": 124,
   "metadata": {
    "scrolled": false
   },
   "outputs": [],
   "source": [
    "# games = soup.findAll('a', attrs={'href': re.compile('boxscore')})\n",
    "# games = soup.findAll('div', attrs={'id': 'events'})\n",
    "games = soup.findAll('table', attrs={'id':'sib-league-schedule'})\n",
    "assert len(games) == 1\n",
    "games_table = games[0]"
   ]
  },
  {
   "cell_type": "code",
   "execution_count": 125,
   "metadata": {},
   "outputs": [
    {
     "data": {
      "text/plain": [
       "<table class=\"sib-zebra-stripes\" id=\"sib-league-schedule\">\n",
       "<thead class=\"not-sortable\">\n",
       "<tr class=\"headers\">\n",
       "<th class=\"not-sortable col-time\" data-ng-i18next=\"schedulePage.time\" data-ng-show=\"!paginate || currentpage==1\"></th>\n",
       "<th class=\"col-matchup\" data-ng-i18next=\"schedulePage.matchup\" data-ng-show=\"!paginate || currentpage==1\"></th>\n",
       "<th class=\"col-score\" data-ng-i18next=\"schedulePage.score\" data-ng-show=\"!paginate || currentpage==1\"></th>\n",
       "<th class=\"col-location\" data-ng-i18next=\"schedulePage.location\" data-ng-show=\"!paginate\"></th>\n",
       "<th class=\"col-broadcaster\" data-ng-i18next=\"schedulePage.broadcast\" data-ng-show=\"group.status == 'Incomplete' &amp;&amp; (!paginate || currentpage==2)\"></th>\n",
       "<th class=\"col-location\" data-ng-i18next=\"schedulePage.location\" data-ng-show=\"paginate &amp;&amp; currentpage==2\"></th>\n",
       "<th class=\"col-links\" data-ng-i18next=\"schedulePage.links\" data-ng-show=\"!paginate || currentpage==1\"></th>\n",
       "</tr>\n",
       "</thead>\n",
       "<tbody data-ng-repeat=\"date in group.dates\">\n",
       "<tr class=\"caption\">\n",
       "<td colspan=\"100%\">\n",
       "<h6>{{ date.games[0].profile.utcMillis | date:'monthDay' }}</h6>\n",
       "</td>\n",
       "</tr>\n",
       "<tr data-ng-repeat=\"game in date.games\">\n",
       "<td class=\"col-time\" data-ng-show=\"!paginate || currentpage==1\">\n",
       "<span bo-show=\"game.profile.scheduleCode \">{{ game.boxscore.statusDesc  }}</span>\n",
       "<span bo-hide=\"game.profile.scheduleCode \">{{ game.profile.utcMillis | date:'shortTime' }}</span>\n",
       "</td>\n",
       "<td class=\"col-matchup\" data-ng-show=\"!paginate || currentpage==1\"><a bo-href=\"'/teams/#!/' + game.awayTeam.profile.code\" bo-text=\"game.awayTeam.profile.displayAbbr\" sib-team-urls=\"\" team=\"game.awayTeam.profile\"></a> @ <a bo-href=\"'/teams/#!/' + game.homeTeam.profile.code \" bo-text=\"game.homeTeam.profile.displayAbbr\" sib-team-urls=\"\" team=\"game.homeTeam.profile\"></a></td>\n",
       "<td data-ng-show=\"!paginate || currentpage==1\">\n",
       "<span bo-show=\"game.boxscore.status &gt; 1\"><span bo-class=\"{'red': game.boxscore.awayScore &gt; game.boxscore.homeScore }\" bo-text=\" game.boxscore.awayScore\"></span> - <span bo-class=\"{'red': game.boxscore.awayScore &lt; game.boxscore.homeScore }\" bo-text=\" game.boxscore.homeScore\"></span></span>\n",
       "<span bo-show=\"game.boxscore.status == 1\">-</span>\n",
       "</td>\n",
       "<td bo-text=\"game.profile.arenaName\" data-ng-show=\"!paginate\"></td>\n",
       "<td data-ng-show=\"group.status == 'Incomplete' &amp;&amp; (!paginate || currentpage==2)\">\n",
       "<sib-broadcaster-urls broadcasters=\"game.broadcasters\"></sib-broadcaster-urls>\n",
       "<span class=\"broadcaster\">\n",
       "<span class=\"live\"><span bo-text=\"url.displayText\" data-ng-repeat=\"url in game.urls | filter: { type : 'Live' }\"></span></span>\n",
       "</span>\n",
       "</td>\n",
       "<td bo-text=\"game.profile.arenaName\" data-ng-show=\"paginate &amp;&amp; currentpage==2\"></td>\n",
       "<td class=\"links\" data-ng-show=\"!paginate || currentpage==1\">\n",
       "<sib3-game-urls class=\"dark-theme\" game=\"game\" types=\"live,leaguepass,stats-boxscore,stats-preview,stats-playbyplay,highlights\"></sib3-game-urls>\n",
       "</td>\n",
       "</tr>\n",
       "</tbody>\n",
       "</table>"
      ]
     },
     "execution_count": 125,
     "metadata": {},
     "output_type": "execute_result"
    }
   ],
   "source": [
    "games_table"
   ]
  },
  {
   "cell_type": "code",
   "execution_count": 126,
   "metadata": {},
   "outputs": [
    {
     "name": "stdout",
     "output_type": "stream",
     "text": [
      "<tr data-ng-repeat=\"game in date.games\">\n",
      "<td class=\"col-time\" data-ng-show=\"!paginate || currentpage==1\">\n",
      "<span bo-show=\"game.profile.scheduleCode \">{{ game.boxscore.statusDesc  }}</span>\n",
      "<span bo-hide=\"game.profile.scheduleCode \">{{ game.profile.utcMillis | date:'shortTime' }}</span>\n",
      "</td>\n",
      "<td class=\"col-matchup\" data-ng-show=\"!paginate || currentpage==1\"><a bo-href=\"'/teams/#!/' + game.awayTeam.profile.code\" bo-text=\"game.awayTeam.profile.displayAbbr\" sib-team-urls=\"\" team=\"game.awayTeam.profile\"></a> @ <a bo-href=\"'/teams/#!/' + game.homeTeam.profile.code \" bo-text=\"game.homeTeam.profile.displayAbbr\" sib-team-urls=\"\" team=\"game.homeTeam.profile\"></a></td>\n",
      "<td data-ng-show=\"!paginate || currentpage==1\">\n",
      "<span bo-show=\"game.boxscore.status &gt; 1\"><span bo-class=\"{'red': game.boxscore.awayScore &gt; game.boxscore.homeScore }\" bo-text=\" game.boxscore.awayScore\"></span> - <span bo-class=\"{'red': game.boxscore.awayScore &lt; game.boxscore.homeScore }\" bo-text=\" game.boxscore.homeScore\"></span></span>\n",
      "<span bo-show=\"game.boxscore.status == 1\">-</span>\n",
      "</td>\n",
      "<td bo-text=\"game.profile.arenaName\" data-ng-show=\"!paginate\"></td>\n",
      "<td data-ng-show=\"group.status == 'Incomplete' &amp;&amp; (!paginate || currentpage==2)\">\n",
      "<sib-broadcaster-urls broadcasters=\"game.broadcasters\"></sib-broadcaster-urls>\n",
      "<span class=\"broadcaster\">\n",
      "<span class=\"live\"><span bo-text=\"url.displayText\" data-ng-repeat=\"url in game.urls | filter: { type : 'Live' }\"></span></span>\n",
      "</span>\n",
      "</td>\n",
      "<td bo-text=\"game.profile.arenaName\" data-ng-show=\"paginate &amp;&amp; currentpage==2\"></td>\n",
      "<td class=\"links\" data-ng-show=\"!paginate || currentpage==1\">\n",
      "<sib3-game-urls class=\"dark-theme\" game=\"game\" types=\"live,leaguepass,stats-boxscore,stats-preview,stats-playbyplay,highlights\"></sib3-game-urls>\n",
      "</td>\n",
      "</tr>\n",
      "-------------------------------\n"
     ]
    }
   ],
   "source": [
    "for row in games_table.findAll('tr', attrs={'data-ng-repeat':\"game in date.games\"}):\n",
    "    print(row)\n",
    "    print ('-------------------------------')"
   ]
  }
 ],
 "metadata": {
  "kernelspec": {
   "display_name": "Python [conda env:Anaconda3]",
   "language": "python",
   "name": "conda-env-Anaconda3-py"
  },
  "language_info": {
   "codemirror_mode": {
    "name": "ipython",
    "version": 3
   },
   "file_extension": ".py",
   "mimetype": "text/x-python",
   "name": "python",
   "nbconvert_exporter": "python",
   "pygments_lexer": "ipython3",
   "version": "3.6.3"
  }
 },
 "nbformat": 4,
 "nbformat_minor": 2
}

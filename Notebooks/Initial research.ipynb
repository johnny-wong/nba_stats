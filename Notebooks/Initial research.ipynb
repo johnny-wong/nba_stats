{
 "cells": [
  {
   "cell_type": "markdown",
   "metadata": {},
   "source": [
    "# Background research"
   ]
  },
  {
   "cell_type": "markdown",
   "metadata": {},
   "source": [
    "## Researching how others profit from sports betting\n",
    "[First source](https://www.blog.tradematesports.com/sports-betting-strategy/2017/6/28/how-to-make-a-living-from-sports-betting-part-13)\n",
    "\n",
    "**2 main ways to make money**\n",
    "*  Being able to pick winners\n",
    "*  [Find values in odds](https://www.blog.tradematesports.com/sports-betting-strategy/2017/12/12/3-different-strategies-of-making-money-from-sports-betting-that-actually-work-matched-betting-arbitrage-betting-and-value-betting?rq=matched%20betting)\n",
    " 1. Matched betting, taking advantage of promotions and deals to create arbitrage\n",
    " 2. Arb betting, typically very few opportunities, easily spotted, not entirely risk free in theory (\n",
    " 3. Value betting, betting on one side of an arb, most risky, most opportunity. Pricing the probability better\n",
    "There are some links to how bookmakers prevent winners from making too much money, but that is a reading for way further down the track.\n",
    "\n"
   ]
  },
  {
   "cell_type": "markdown",
   "metadata": {},
   "source": [
    "## Soft (European) vs Sharp (Asian) bookies\n",
    "Sharp bookmakers use models to calculate odds and adjust them automatically. They offer lower spreads than soft book makers.\n",
    "Soft bookmakers are slower and more manual, but have wider spreads. They will also shut you down if you're too profitable. These are the ones that spend a lot on advertising, so are probably the ones you know best.\n",
    "\n",
    "Sharp bookmakers are hard to consistently make money from since their prices are very sophisticated. Soft bookies can have bad pricing due to their lack of speed, creating opportunities for arbs and value bets."
   ]
  },
  {
   "cell_type": "markdown",
   "metadata": {},
   "source": [
    "## Available markets\n",
    "\n",
    "I want to do some research into the markets I am able to participate in. The two that I have in the past are ladbroke and sportsbet. In hindsight, these are probably soft bookies.\n",
    "\n",
    "[This](https://sportsarbitrage.com.au/how-to-arbitrage/arb204-sharp-soft-bookmakers-whats-difference/) suggests all Australian bookmakers are soft.\n",
    "\n",
    "Pinnacle sports seem to be the most highly regarded sharp bookie, but is unavailable to Australian residents.\n",
    "\n",
    "Betfair is a literal exchange where people can back or lay (similar to bids and offers). When backing, you want the team to win, when laying, you want the team to lose. This allows you to take the position of a traditional bookmaker. "
   ]
  },
  {
   "cell_type": "markdown",
   "metadata": {},
   "source": [
    "## Takeaways\n",
    "\n",
    "The whole point of this exercise, is to push my brain into innovating, instead of learning set methods well. For that reason, arbing isn't a good way to try and participate in sports betting. It is very well understood, rigorous, and time consuming. I am much more interested in value betting, finding odds that aren't fair, and developing models for my own odds."
   ]
  },
  {
   "cell_type": "code",
   "execution_count": null,
   "metadata": {
    "collapsed": true
   },
   "outputs": [],
   "source": []
  }
 ],
 "metadata": {
  "kernelspec": {
   "display_name": "Python 3",
   "language": "python",
   "name": "python3"
  },
  "language_info": {
   "codemirror_mode": {
    "name": "ipython",
    "version": 3
   },
   "file_extension": ".py",
   "mimetype": "text/x-python",
   "name": "python",
   "nbconvert_exporter": "python",
   "pygments_lexer": "ipython3",
   "version": "3.6.1"
  }
 },
 "nbformat": 4,
 "nbformat_minor": 2
}

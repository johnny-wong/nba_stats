{
 "cells": [
  {
   "cell_type": "code",
   "execution_count": 1,
   "metadata": {},
   "outputs": [
    {
     "name": "stdout",
     "output_type": "stream",
     "text": [
      "C:\\Users\\johnn\\Desktop\\github\\nba_stats\\Data\\nba_stats.pickle\n"
     ]
    }
   ],
   "source": [
    "# Import class\n",
    "import os\n",
    "import pickle\n",
    "import sys\n",
    "parent_dir = os.path.dirname(os.path.dirname(os.getcwd()))\n",
    "class_dir = os.path.join(parent_dir, 'Scripts')\n",
    "sys.path.insert(0, class_dir)\n",
    "import NBAStats\n",
    "stats_file = os.path.join(parent_dir, 'Data', 'nba_stats.pickle')\n",
    "print(stats_file)\n",
    "nba_stats = pickle.load(open(stats_file, 'rb'))\n",
    "\n",
    "import player_market_class\n",
    "import scraper_SB\n",
    "import empirical\n",
    "import pandas as pd"
   ]
  },
  {
   "cell_type": "code",
   "execution_count": 2,
   "metadata": {},
   "outputs": [
    {
     "name": "stdout",
     "output_type": "stream",
     "text": [
      "https://www.sportsbet.com.au/betting/basketball-us/nba-matches/san-antonio-spurs-at-detroit-pistons-4451964\n",
      "https://www.sportsbet.com.au/betting/basketball-us/nba-matches/brooklyn-nets-at-boston-celtics-4451967\n",
      "https://www.sportsbet.com.au/betting/basketball-us/nba-matches/memphis-grizzlies-at-new-orleans-pelicans-4451968\n",
      "https://www.sportsbet.com.au/betting/basketball-us/nba-matches/utah-jazz-at-milwaukee-bucks-4451974\n",
      "https://www.sportsbet.com.au/betting/basketball-us/nba-matches/denver-nuggets-at-houston-rockets-4451975\n",
      "https://www.sportsbet.com.au/betting/basketball-us/nba-matches/los-angeles-lakers-at-dallas-mavericks-4451976\n",
      "https://www.sportsbet.com.au/betting/basketball-us/nba-matches/orlando-magic-at-sacramento-kings-4451977\n",
      "https://www.sportsbet.com.au/betting/basketball-us/nba-matches/new-york-knicks-at-portland-trail-blazers-4451978\n"
     ]
    }
   ],
   "source": [
    "links = scraper_SB.get_links_SB('08/01/19')\n",
    "for link in links:\n",
    "    print(link)"
   ]
  },
  {
   "cell_type": "code",
   "execution_count": 3,
   "metadata": {
    "collapsed": true
   },
   "outputs": [],
   "source": [
    "past_n_games = 30"
   ]
  },
  {
   "cell_type": "code",
   "execution_count": 10,
   "metadata": {
    "scrolled": false
   },
   "outputs": [
    {
     "name": "stdout",
     "output_type": "stream",
     "text": [
      "https://www.sportsbet.com.au/betting/basketball-us/nba-matches/san-antonio-spurs-at-detroit-pistons-4451964\n",
      "Empty DataFrame\n",
      "Columns: [Edge, Player, over_under, Baseline, Stat, Odds, Theo]\n",
      "Index: []\n",
      "\n",
      "https://www.sportsbet.com.au/betting/basketball-us/nba-matches/brooklyn-nets-at-boston-celtics-4451967\n",
      "        Edge             Player over_under  Baseline Stat  Odds      Theo\n",
      "19  0.232000       Jayson Tatum      under       2.5  AST  1.54  1.250000\n",
      "21  0.206000         Al Horford      under       3.5  AST  2.01  1.666667\n",
      "6   0.146667     Gordon Hayward      under      13.5  PTS  1.72  1.500000\n",
      "7   0.110667       Jaylen Brown      under      12.5  PTS  1.96  1.764706\n",
      "20  0.108333     Gordon Hayward       over       3.5  AST  1.75  1.578947\n",
      "15  0.086000         Al Horford      under       6.5  REB  1.81  1.666667\n",
      "2   0.072000      Jarrett Allen       over      11.5  PTS  2.01  1.875000\n",
      "14  0.060000     Gordon Hayward       over       4.5  REB  2.12  2.000000\n",
      "13  0.054000      Marcus Morris       over       5.5  REB  1.86  1.764706\n",
      "5   0.050667      Marcus Morris       over      15.5  PTS  1.97  1.875000\n",
      "8   0.042667         Al Horford      under      12.5  PTS  1.84  1.764706\n",
      "4   0.025667       Jayson Tatum       over      15.5  PTS  1.81  1.764706\n",
      "9   0.025000   D'Angelo Russell      under       3.5  REB  2.05  2.000000\n",
      "0   0.000000   D'Angelo Russell       over      18.5  PTS  2.00  2.000000\n",
      "16 -0.002667   D'Angelo Russell      under       6.5  AST  1.87  1.875000\n",
      "1  -0.005000  Spencer Dinwiddie       over      17.5  PTS  1.99  2.000000\n",
      "11 -0.014000       Kyrie Irving       over       4.5  REB  1.74  1.764706\n",
      "18 -0.024667       Kyrie Irving       over       6.5  AST  2.09  2.142857\n",
      "12 -0.034000       Jayson Tatum       over       6.5  REB  2.07  2.142857\n",
      "10 -0.036667      Jarrett Allen       over       8.5  REB  1.70  1.764706\n",
      "17 -0.060000  Spencer Dinwiddie       over       5.5  AST  1.88  2.000000\n",
      "3  -0.061333       Kyrie Irving      under      24.5  PTS  1.76  1.875000\n",
      "\n",
      "https://www.sportsbet.com.au/betting/basketball-us/nba-matches/memphis-grizzlies-at-new-orleans-pelicans-4451968\n"
     ]
    },
    {
     "ename": "KeyboardInterrupt",
     "evalue": "",
     "output_type": "error",
     "traceback": [
      "\u001b[1;31m---------------------------------------------------------------------------\u001b[0m",
      "\u001b[1;31mKeyboardInterrupt\u001b[0m                         Traceback (most recent call last)",
      "\u001b[1;32m<ipython-input-10-ce7e1e6e3fa3>\u001b[0m in \u001b[0;36m<module>\u001b[1;34m()\u001b[0m\n\u001b[0;32m      1\u001b[0m \u001b[1;32mfor\u001b[0m \u001b[0mlink\u001b[0m \u001b[1;32min\u001b[0m \u001b[0mlinks\u001b[0m\u001b[1;33m:\u001b[0m\u001b[1;33m\u001b[0m\u001b[0m\n\u001b[0;32m      2\u001b[0m     \u001b[0mprint\u001b[0m\u001b[1;33m(\u001b[0m\u001b[0mlink\u001b[0m\u001b[1;33m)\u001b[0m\u001b[1;33m\u001b[0m\u001b[0m\n\u001b[1;32m----> 3\u001b[1;33m     \u001b[0mplayer_markets\u001b[0m \u001b[1;33m=\u001b[0m \u001b[0mscraper_SB\u001b[0m\u001b[1;33m.\u001b[0m\u001b[0mget_player_markets_SB\u001b[0m\u001b[1;33m(\u001b[0m\u001b[0mlink\u001b[0m\u001b[1;33m)\u001b[0m\u001b[1;33m\u001b[0m\u001b[0m\n\u001b[0m\u001b[0;32m      4\u001b[0m \u001b[1;33m\u001b[0m\u001b[0m\n\u001b[0;32m      5\u001b[0m     \u001b[0medge_list\u001b[0m \u001b[1;33m=\u001b[0m \u001b[1;33m[\u001b[0m\u001b[1;33m]\u001b[0m\u001b[1;33m\u001b[0m\u001b[0m\n",
      "\u001b[1;32m~\\Desktop\\github\\nba_stats\\Scripts\\scraper_SB.py\u001b[0m in \u001b[0;36mget_player_markets_SB\u001b[1;34m(link, chrome_path)\u001b[0m\n\u001b[0;32m     46\u001b[0m     \u001b[1;32mfor\u001b[0m \u001b[0mmarket\u001b[0m \u001b[1;32min\u001b[0m \u001b[0mmain_markets\u001b[0m\u001b[1;33m:\u001b[0m\u001b[1;33m\u001b[0m\u001b[0m\n\u001b[0;32m     47\u001b[0m         \u001b[0mmarket\u001b[0m\u001b[1;33m.\u001b[0m\u001b[0mclick\u001b[0m\u001b[1;33m(\u001b[0m\u001b[1;33m)\u001b[0m\u001b[1;33m\u001b[0m\u001b[0m\n\u001b[1;32m---> 48\u001b[1;33m         \u001b[0mtime\u001b[0m\u001b[1;33m.\u001b[0m\u001b[0msleep\u001b[0m\u001b[1;33m(\u001b[0m\u001b[1;36m1\u001b[0m\u001b[1;33m)\u001b[0m\u001b[1;33m\u001b[0m\u001b[0m\n\u001b[0m\u001b[0;32m     49\u001b[0m \u001b[1;33m\u001b[0m\u001b[0m\n\u001b[0;32m     50\u001b[0m     \u001b[1;31m# Find player markets e.g. Donovan Mitchell - Points\u001b[0m\u001b[1;33m\u001b[0m\u001b[1;33m\u001b[0m\u001b[0m\n",
      "\u001b[1;31mKeyboardInterrupt\u001b[0m: "
     ]
    }
   ],
   "source": [
    "for link in links:\n",
    "    print(link)\n",
    "    player_markets = scraper_SB.get_player_markets_SB(link)\n",
    "\n",
    "    edge_list = []\n",
    "    player_list = []\n",
    "    over_under_list = []\n",
    "    baseline_list = []\n",
    "    stat_list = []\n",
    "    odds_list = []\n",
    "    theo_list = []\n",
    "\n",
    "    for player_market in player_markets:\n",
    "        # Convert Sportsbet odds into class\n",
    "        try:\n",
    "            # If unable to parse info to class, move onto next one\n",
    "            p_mrkt = player_market_class.PlayerMarketSportsBet(player_market)\n",
    "        except:\n",
    "            continue\n",
    "            \n",
    "        # Calculate theo odds\n",
    "        theo_odds_over, theo_odds_under = empirical.empirical_odds(p_mrkt.get_player(), p_mrkt.get_stat(), \n",
    "                                 p_mrkt.get_baseline(), past_n_games)\n",
    "\n",
    "        theo_pr_over = 1/theo_odds_over\n",
    "        theo_pr_under = 1 - theo_pr_over\n",
    "\n",
    "        # Calculate edge\n",
    "        edge_over = theo_pr_over * p_mrkt.get_odds_over() - 1\n",
    "        edge_under = theo_pr_under * p_mrkt.get_odds_under() - 1\n",
    "\n",
    "        if edge_over > edge_under:\n",
    "            best_edge = edge_over\n",
    "            over_under = 'over'\n",
    "            theo_list.append(theo_odds_over)\n",
    "            odds_list.append(p_mrkt.get_odds_over())\n",
    "        else:\n",
    "            best_edge = edge_under\n",
    "            over_under = 'under'\n",
    "            theo_list.append(theo_odds_under)\n",
    "            odds_list.append(p_mrkt.get_odds_under())\n",
    "        \n",
    "        edge_list.append(best_edge)\n",
    "        player_list.append(p_mrkt.get_player())\n",
    "        over_under_list.append(over_under)\n",
    "        baseline_list.append(p_mrkt.get_baseline())\n",
    "        stat_list.append(p_mrkt.get_stat())\n",
    "    \n",
    "    # Create df, sort by edge and print\n",
    "    df_game_mrkts_edge = pd.DataFrame({\n",
    "        'Edge':edge_list,\n",
    "        'Player':player_list,\n",
    "        'over_under':over_under_list,\n",
    "        'Baseline':baseline_list,\n",
    "        'Stat':stat_list,\n",
    "        'Odds':odds_list,\n",
    "        'Theo':theo_list\n",
    "    }, columns = ['Edge', 'Player', 'over_under', 'Baseline', 'Stat', 'Odds', 'Theo'])\n",
    "    \n",
    "    df_game_mrkts_edge = df_game_mrkts_edge.sort_values(by='Edge', ascending=False)\n",
    "    print(df_game_mrkts_edge)\n",
    "    print('')"
   ]
  }
 ],
 "metadata": {
  "kernelspec": {
   "display_name": "Python 3",
   "language": "python",
   "name": "python3"
  },
  "language_info": {
   "codemirror_mode": {
    "name": "ipython",
    "version": 3
   },
   "file_extension": ".py",
   "mimetype": "text/x-python",
   "name": "python",
   "nbconvert_exporter": "python",
   "pygments_lexer": "ipython3",
   "version": "3.6.3"
  }
 },
 "nbformat": 4,
 "nbformat_minor": 2
}

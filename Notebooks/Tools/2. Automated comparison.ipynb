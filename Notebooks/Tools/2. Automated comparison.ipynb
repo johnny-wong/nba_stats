{
 "cells": [
  {
   "cell_type": "code",
   "execution_count": 1,
   "metadata": {},
   "outputs": [
    {
     "name": "stdout",
     "output_type": "stream",
     "text": [
      "C:\\Users\\johnn\\Desktop\\github\\nba_stats\\Data\\nba_stats.pickle\n"
     ]
    }
   ],
   "source": [
    "# Import class\n",
    "import os\n",
    "import pickle\n",
    "import sys\n",
    "parent_dir = os.path.dirname(os.path.dirname(os.getcwd()))\n",
    "class_dir = os.path.join(parent_dir, 'Scripts')\n",
    "sys.path.insert(0, class_dir)\n",
    "import NBAStats\n",
    "stats_file = os.path.join(parent_dir, 'Data', 'nba_stats.pickle')\n",
    "print(stats_file)\n",
    "nba_stats = pickle.load(open(stats_file, 'rb'))\n",
    "\n",
    "import player_market_class\n",
    "import scraper_SB\n",
    "import empirical\n",
    "import pandas as pd"
   ]
  },
  {
   "cell_type": "code",
   "execution_count": 2,
   "metadata": {},
   "outputs": [
    {
     "name": "stdout",
     "output_type": "stream",
     "text": [
      "https://www.sportsbet.com.au/betting/basketball-us/nba-matches/memphis-grizzlies-at-new-orleans-pelicans-4451968\n",
      "https://www.sportsbet.com.au/betting/basketball-us/nba-matches/utah-jazz-at-milwaukee-bucks-4451974\n",
      "https://www.sportsbet.com.au/betting/basketball-us/nba-matches/denver-nuggets-at-houston-rockets-4451975\n",
      "https://www.sportsbet.com.au/betting/basketball-us/nba-matches/los-angeles-lakers-at-dallas-mavericks-4451976\n",
      "https://www.sportsbet.com.au/betting/basketball-us/nba-matches/orlando-magic-at-sacramento-kings-4451977\n",
      "https://www.sportsbet.com.au/betting/basketball-us/nba-matches/new-york-knicks-at-portland-trail-blazers-4451978\n"
     ]
    }
   ],
   "source": [
    "links = scraper_SB.get_links_SB('08/01/19')\n",
    "for link in links:\n",
    "    print(link)"
   ]
  },
  {
   "cell_type": "code",
   "execution_count": 3,
   "metadata": {
    "collapsed": true
   },
   "outputs": [],
   "source": [
    "past_n_games = 30"
   ]
  },
  {
   "cell_type": "code",
   "execution_count": 4,
   "metadata": {
    "scrolled": false
   },
   "outputs": [
    {
     "name": "stdout",
     "output_type": "stream",
     "text": [
      "https://www.sportsbet.com.au/betting/basketball-us/nba-matches/memphis-grizzlies-at-new-orleans-pelicans-4451968\n",
      "Unable to calculate theo for MIKE gONLEY PTS\n",
      "Unable to calculate theo for MIKE gONLEY REB\n",
      "Unable to calculate theo for MIKE gONLEY AST\n",
      "        Edge             Player over_under  Baseline Stat  Odds      Theo\n",
      "11  0.358333       Jrue Holiday       over       3.5  REB  1.63  1.200000\n",
      "15  0.320000       Jrue Holiday       over       6.5  AST  1.80  1.363636\n",
      "13  0.224000      Anthony Davis       over       3.5  AST  2.04  1.666667\n",
      "16  0.188000      Elfrid Payton       over       5.5  AST  1.98  1.666667\n",
      "5   0.171667       Jrue Holiday       over      19.5  PTS  1.85  1.578947\n",
      "12  0.120000         Marc Gasol      under       5.5  AST  1.60  1.428571\n",
      "4   0.102000      Julius Randle       over      20.5  PTS  1.74  1.578947\n",
      "8   0.072000  Jaren Jackson Jr.      under       5.5  REB  2.01  1.875000\n",
      "0   0.056000         Marc Gasol      under      15.5  PTS  1.98  1.875000\n",
      "1   0.037000  Jaren Jackson Jr.      under      14.5  PTS  1.83  1.764706\n",
      "2   0.029333     Garrett Temple      under       9.5  PTS  1.93  1.875000\n",
      "3  -0.005000      Anthony Davis      under      27.5  PTS  1.99  2.000000\n",
      "7  -0.010000         Marc Gasol      under       8.5  REB  1.98  2.000000\n",
      "14 -0.010667      Julius Randle      under       2.5  AST  2.12  2.142857\n",
      "6  -0.025333      Elfrid Payton      under      12.5  PTS  1.72  1.764706\n",
      "9  -0.045000      Anthony Davis       over      12.5  REB  1.91  2.000000\n",
      "10 -0.059333      Julius Randle      under      10.5  REB  1.66  1.764706\n",
      "\n",
      "https://www.sportsbet.com.au/betting/basketball-us/nba-matches/utah-jazz-at-milwaukee-bucks-4451974\n"
     ]
    },
    {
     "ename": "KeyboardInterrupt",
     "evalue": "",
     "output_type": "error",
     "traceback": [
      "\u001b[1;31m---------------------------------------------------------------------------\u001b[0m",
      "\u001b[1;31mKeyboardInterrupt\u001b[0m                         Traceback (most recent call last)",
      "\u001b[1;32m<ipython-input-4-b7ecc4271412>\u001b[0m in \u001b[0;36m<module>\u001b[1;34m()\u001b[0m\n\u001b[0;32m      1\u001b[0m \u001b[1;32mfor\u001b[0m \u001b[0mlink\u001b[0m \u001b[1;32min\u001b[0m \u001b[0mlinks\u001b[0m\u001b[1;33m:\u001b[0m\u001b[1;33m\u001b[0m\u001b[0m\n\u001b[0;32m      2\u001b[0m     \u001b[0mprint\u001b[0m\u001b[1;33m(\u001b[0m\u001b[0mlink\u001b[0m\u001b[1;33m)\u001b[0m\u001b[1;33m\u001b[0m\u001b[0m\n\u001b[1;32m----> 3\u001b[1;33m     \u001b[0mplayer_markets\u001b[0m \u001b[1;33m=\u001b[0m \u001b[0mscraper_SB\u001b[0m\u001b[1;33m.\u001b[0m\u001b[0mget_player_markets_SB\u001b[0m\u001b[1;33m(\u001b[0m\u001b[0mlink\u001b[0m\u001b[1;33m)\u001b[0m\u001b[1;33m\u001b[0m\u001b[0m\n\u001b[0m\u001b[0;32m      4\u001b[0m \u001b[1;33m\u001b[0m\u001b[0m\n\u001b[0;32m      5\u001b[0m     \u001b[0medge_list\u001b[0m \u001b[1;33m=\u001b[0m \u001b[1;33m[\u001b[0m\u001b[1;33m]\u001b[0m\u001b[1;33m\u001b[0m\u001b[0m\n",
      "\u001b[1;32m~\\Desktop\\github\\nba_stats\\Scripts\\scraper_SB.py\u001b[0m in \u001b[0;36mget_player_markets_SB\u001b[1;34m(link, chrome_path)\u001b[0m\n\u001b[0;32m     58\u001b[0m     \u001b[1;31m# Scroll to top so that the first box isn't hidden by Sportsbet's ribbon\u001b[0m\u001b[1;33m\u001b[0m\u001b[1;33m\u001b[0m\u001b[0m\n\u001b[0;32m     59\u001b[0m     \u001b[0mdriver\u001b[0m\u001b[1;33m.\u001b[0m\u001b[0mfind_element_by_tag_name\u001b[0m\u001b[1;33m(\u001b[0m\u001b[1;34m'body'\u001b[0m\u001b[1;33m)\u001b[0m\u001b[1;33m.\u001b[0m\u001b[0msend_keys\u001b[0m\u001b[1;33m(\u001b[0m\u001b[0mKeys\u001b[0m\u001b[1;33m.\u001b[0m\u001b[0mCONTROL\u001b[0m \u001b[1;33m+\u001b[0m \u001b[0mKeys\u001b[0m\u001b[1;33m.\u001b[0m\u001b[0mHOME\u001b[0m\u001b[1;33m)\u001b[0m\u001b[1;33m\u001b[0m\u001b[0m\n\u001b[1;32m---> 60\u001b[1;33m     \u001b[0mtime\u001b[0m\u001b[1;33m.\u001b[0m\u001b[0msleep\u001b[0m\u001b[1;33m(\u001b[0m\u001b[1;36m1\u001b[0m\u001b[1;33m)\u001b[0m \u001b[1;31m# Wait for page to finish scrolling\u001b[0m\u001b[1;33m\u001b[0m\u001b[0m\n\u001b[0m\u001b[0;32m     61\u001b[0m \u001b[1;33m\u001b[0m\u001b[0m\n\u001b[0;32m     62\u001b[0m     \u001b[1;31m# Open all the markets to see odds and record them\u001b[0m\u001b[1;33m\u001b[0m\u001b[1;33m\u001b[0m\u001b[0m\n",
      "\u001b[1;31mKeyboardInterrupt\u001b[0m: "
     ]
    }
   ],
   "source": [
    "for link in links:\n",
    "    print(link)\n",
    "    player_markets = scraper_SB.get_player_markets_SB(link)\n",
    "\n",
    "    edge_list = []\n",
    "    player_list = []\n",
    "    over_under_list = []\n",
    "    baseline_list = []\n",
    "    stat_list = []\n",
    "    odds_list = []\n",
    "    theo_list = []\n",
    "\n",
    "    for player_market in player_markets:\n",
    "        # Convert Sportsbet odds into class\n",
    "        try:\n",
    "            # If unable to parse info to class, move onto next one\n",
    "            p_mrkt = player_market_class.PlayerMarketSportsBet(player_market)\n",
    "        except:\n",
    "            print('Unable to parse:\\n {}'.format(player_market))\n",
    "        \n",
    "        try:\n",
    "            # If unable to calculate theo (e.g. if player's name not correct), move onto next one\n",
    "            # Calculate theo odds\n",
    "            theo_odds_over, theo_odds_under = empirical.empirical_odds(p_mrkt.get_player(), p_mrkt.get_stat(), \n",
    "                                     p_mrkt.get_baseline(), past_n_games)\n",
    "        except:\n",
    "            print('Unable to calculate theo for {} {}'.format(p_mrkt.get_player(),\n",
    "                                                          p_mrkt.get_stat()))\n",
    "            continue\n",
    "            \n",
    "        theo_pr_over = 1/theo_odds_over\n",
    "        theo_pr_under = 1 - theo_pr_over\n",
    "\n",
    "        # Calculate edge\n",
    "        edge_over = theo_pr_over * p_mrkt.get_odds_over() - 1\n",
    "        edge_under = theo_pr_under * p_mrkt.get_odds_under() - 1\n",
    "\n",
    "        if edge_over > edge_under:\n",
    "            best_edge = edge_over\n",
    "            over_under = 'over'\n",
    "            theo_list.append(theo_odds_over)\n",
    "            odds_list.append(p_mrkt.get_odds_over())\n",
    "        else:\n",
    "            best_edge = edge_under\n",
    "            over_under = 'under'\n",
    "            theo_list.append(theo_odds_under)\n",
    "            odds_list.append(p_mrkt.get_odds_under())\n",
    "        \n",
    "        edge_list.append(best_edge)\n",
    "        player_list.append(p_mrkt.get_player())\n",
    "        over_under_list.append(over_under)\n",
    "        baseline_list.append(p_mrkt.get_baseline())\n",
    "        stat_list.append(p_mrkt.get_stat())\n",
    "    \n",
    "    # Create df, sort by edge and print\n",
    "    df_game_mrkts_edge = pd.DataFrame({\n",
    "        'Edge':edge_list,\n",
    "        'Player':player_list,\n",
    "        'over_under':over_under_list,\n",
    "        'Baseline':baseline_list,\n",
    "        'Stat':stat_list,\n",
    "        'Odds':odds_list,\n",
    "        'Theo':theo_list\n",
    "    }, columns = ['Edge', 'Player', 'over_under', 'Baseline', 'Stat', 'Odds', 'Theo'])\n",
    "    \n",
    "    df_game_mrkts_edge = df_game_mrkts_edge.sort_values(by='Edge', ascending=False)\n",
    "    print(df_game_mrkts_edge)\n",
    "    print('')"
   ]
  }
 ],
 "metadata": {
  "kernelspec": {
   "display_name": "Python 3",
   "language": "python",
   "name": "python3"
  },
  "language_info": {
   "codemirror_mode": {
    "name": "ipython",
    "version": 3
   },
   "file_extension": ".py",
   "mimetype": "text/x-python",
   "name": "python",
   "nbconvert_exporter": "python",
   "pygments_lexer": "ipython3",
   "version": "3.6.3"
  }
 },
 "nbformat": 4,
 "nbformat_minor": 2
}

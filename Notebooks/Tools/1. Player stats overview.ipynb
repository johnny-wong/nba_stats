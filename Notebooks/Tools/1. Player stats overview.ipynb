{
 "cells": [
  {
   "cell_type": "code",
   "execution_count": null,
   "metadata": {},
   "outputs": [],
   "source": [
    "import sys\n",
    "import os\n",
    "import matplotlib.pyplot as plt\n",
    "%matplotlib inline\n",
    "import pickle\n",
    "# Import class\n",
    "parent_dir = os.path.dirname(os.path.dirname(os.getcwd()))\n",
    "class_dir = os.path.join(parent_dir, 'Scripts')\n",
    "sys.path.insert(0, class_dir)\n",
    "import NBAStats\n",
    "import numpy as np\n",
    "import datetime as dt\n",
    "import pandas as pd\n",
    "stats_file = os.path.join(parent_dir, 'Data', 'nba_stats.pickle')\n",
    "print(stats_file)\n",
    "nba_stats = pickle.load(open(stats_file, 'rb'))"
   ]
  },
  {
   "cell_type": "code",
   "execution_count": null,
   "metadata": {},
   "outputs": [],
   "source": [
    "def get_player_df(nba_stats, player, player_id=False):\n",
    "    ''' Get the dataframe containing info on referenced player. If player_id=True, player id given instead of name'''\n",
    "    if player_id:\n",
    "        if player not in nba_stats.get_player_stats().keys():\n",
    "            raise ValueError('player_id {} not found'.format(player))\n",
    "        \n",
    "        return nba_stats.get_player_stats()[player].sort_index(ascending=False)\n",
    "    else:\n",
    "        if player not in nba_stats.get_player_name_id_dict().keys():\n",
    "            raise ValueError('player name {} not found'.format(player))\n",
    "        \n",
    "        return nba_stats.get_player_stats()[nba_stats.get_player_name_id_dict()[player]].sort_index(ascending=False)"
   ]
  },
  {
   "cell_type": "code",
   "execution_count": null,
   "metadata": {},
   "outputs": [],
   "source": [
    "def player_df_convert_numeric(player_df):\n",
    "    ''' Returns a dataframe that converts relevant columns to numeric \n",
    "    Columns converted:\n",
    "    MIN\n",
    "    '''\n",
    "    player_df['MIN'] = player_df['MIN'].apply(\n",
    "        lambda str_min: int(str_min[:-3]) + int(str_min[-2:])/60.0 if str_min is not None else 0 )\n",
    "\n",
    "    return player_df"
   ]
  },
  {
   "cell_type": "markdown",
   "metadata": {},
   "source": [
    "# Motivation\n",
    "\n",
    "Bet on the spread between the team's winning odds and the player points odds. If we can find a significant relationship between how much a player scores and the result of the game, we can capture deviations from the implied probabilities. Suppose in the case below, it seems like the probability that James Harden scores more than 25.5 points is significantly higher for wins that for losses.\n",
    "\n",
    "Using this, we can work out our theo probability based off the game's implied probability. We can then either back the player and lay the team or vice versa (assuming there is a positive relationship). Although this probability can be reversed (working out team's odds based on player's odds), the spread for the team odds would be much tighter, and with more turnover, it is likely to be more accurate.\n",
    "\n",
    "Suppose we back the player and lay the team. What we are essentially betting on is either the team is overpriced or the player is underpriced. More likely than not, the player is underpriced. The worst case scenario here is that the team wins and the player doesn't score the baseline."
   ]
  },
  {
   "cell_type": "markdown",
   "metadata": {},
   "source": [
    "## Use\n",
    "From what I've seen, there doesn't seem to be a very active market in the player points market. So I might try to use this as a market making tool."
   ]
  },
  {
   "cell_type": "code",
   "execution_count": null,
   "metadata": {},
   "outputs": [],
   "source": [
    "def pl_pts_odds_WL(player_name, stat, baseline, past_n_games, opp_team=None):\n",
    "\n",
    "    player_df = get_player_df(nba_stats, player_name)\n",
    "    player_df = player_df_convert_numeric(player_df)\n",
    "    player_df_played = player_df[player_df.MIN > 0]\n",
    "    player_df_recent = player_df_played.head(past_n_games)\n",
    "\n",
    "    # Remove any duplicates (don't know why there are duplicates)\n",
    "    # UPDATE: Shouldn't be any more duplicates due to fixing issue #2\n",
    "#     player_df_recent = player_df_recent[~player_df_past_100_wl.duplicated()]\n",
    "    assert player_df_recent.duplicated().sum() == 0\n",
    "    \n",
    "    ## Create figure\n",
    "    fig, ax = plt.subplots(2, 2, figsize=(20, 10))\n",
    "\n",
    "    ############## PLOT 100 EMPIRICAL\n",
    "    n_overs = (player_df_recent[stat] > baseline).sum()\n",
    "    n = len(player_df_recent)\n",
    "    player_df_recent[stat].plot(kind='hist', ax=ax[0, 0])\n",
    "    ax[0, 0].axvline(x=baseline, color='black')\n",
    "    pr_over_baseline = n_overs/float(n)\n",
    "\n",
    "    ax[0, 0].set_title('Based on past {} games empirical\\nCan back over at {:.2f} and unders at {:.2f}'.format(\n",
    "        past_n_games, 1/pr_over_baseline, 1/(1-pr_over_baseline)))\n",
    "\n",
    "    ############## PLOT stat time series\n",
    "    player_df_played.plot(y=stat, ax=ax[1, 1], marker='o')\n",
    "    ax1 = ax[1, 1].twinx()\n",
    "    player_df_played.plot(y='MIN', ax=ax1, color='green', alpha=0.4, drawstyle='steps-mid')\n",
    "    \n",
    "    ax[1, 1].axhline(y=baseline, color='black')\n",
    "    ax[1, 1].axvline(x=player_df_recent.index.min(), color='red')\n",
    "    ax1.set_ylim(ymin=0)\n",
    "    ax[1,1].set_title('All games')\n",
    "    \n",
    "    ############## PLOT stat time series recent\n",
    "    df_player_teams = player_df_recent[['TEAM_ABBREVIATION']].drop_duplicates('TEAM_ABBREVIATION', keep='last')   \n",
    "    player_df_recent.plot(y=stat, ax=ax[0, 1], marker='o')\n",
    "    ax1 = ax[0, 1].twinx()\n",
    "    player_df_recent.plot(y='MIN', ax=ax1, color='green', alpha=0.4, drawstyle='steps-mid')\n",
    "    ax1.set_ylim(ymin=0)\n",
    "    ax[0,1].axhline(y=baseline, color='black')\n",
    "    ax[0,1].set_title('Past {} games'.format(past_n_games))\n",
    "    \n",
    "    # Plot different teams the player has played for\n",
    "    for i, row in df_player_teams.iterrows():\n",
    "        ax[0, 1].axvline(x=row.name, color='red', linestyle='dashed')\n",
    "        ax[0, 1].text(x=row.name+dt.timedelta(2), y=0, s=row.TEAM_ABBREVIATION, color='red')\n",
    "    \n",
    "    # Plot points of player's previous games against this opponent\n",
    "    \n",
    "    ############## Get player's statistics from last game against opponent\n",
    "    if opp_team is not None:\n",
    "        df_opp_team = pd.DataFrame(player_df_played[player_df_played['OPP_TEAM_ABBREVIATION'] == opp_team])\n",
    "        df_opp_team_recent = pd.DataFrame(player_df_recent[player_df_recent['OPP_TEAM_ABBREVIATION'] == opp_team])\n",
    "        if len(df_opp_team) > 0:\n",
    "            # Plot points on recent games\n",
    "            ax[0,1].scatter(df_opp_team_recent.index, df_opp_team_recent[stat], color='red', \n",
    "                        marker='x', s=120)\n",
    "            \n",
    "            # Plot all previous games with opp\n",
    "            ax[1,0].plot(df_opp_team.index, df_opp_team[stat],\n",
    "                        color='red', marker='o')\n",
    "            ax1 = ax[1, 0].twinx()\n",
    "            ax1.plot(df_opp_team.index, df_opp_team['MIN'],\n",
    "                        drawstyle='steps-mid', color='green', alpha=0.4)\n",
    "            ax1.set_ylim(ymin=0)\n",
    "            ax[1,0].set_title('All previous games against {}'.format(opp_team))\n",
    "            ax[1,0].axhline(y=baseline, color='black')\n",
    "            ax[1,0].set_ylim(ymin=0)\n",
    "            \n",
    "    return player_df_recent"
   ]
  },
  {
   "cell_type": "code",
   "execution_count": null,
   "metadata": {},
   "outputs": [],
   "source": [
    "player_name = 'Stephen Curry'\n",
    "baseline = 27.5\n",
    "opp_team = 'NYK'\n",
    "stat = 'PTS'\n",
    "past_n_games = 30\n",
    "df = pl_pts_odds_WL(player_name, stat, baseline, past_n_games, opp_team)"
   ]
  }
 ],
 "metadata": {
  "kernelspec": {
   "display_name": "Python 3",
   "language": "python",
   "name": "python3"
  },
  "language_info": {
   "codemirror_mode": {
    "name": "ipython",
    "version": 3
   },
   "file_extension": ".py",
   "mimetype": "text/x-python",
   "name": "python",
   "nbconvert_exporter": "python",
   "pygments_lexer": "ipython3",
   "version": "3.7.1"
  }
 },
 "nbformat": 4,
 "nbformat_minor": 2
}

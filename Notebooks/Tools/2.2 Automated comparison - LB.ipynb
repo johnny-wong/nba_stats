{
 "cells": [
  {
   "cell_type": "code",
   "execution_count": null,
   "metadata": {},
   "outputs": [],
   "source": [
    "# Import class\n",
    "import os\n",
    "import pickle\n",
    "import sys\n",
    "parent_dir = os.path.dirname(os.path.dirname(os.getcwd()))\n",
    "class_dir = os.path.join(parent_dir, 'Scripts')\n",
    "sys.path.insert(0, class_dir)\n",
    "import NBAStats\n",
    "stats_file = os.path.join(parent_dir, 'Data', 'nba_stats.pickle')\n",
    "print(stats_file)\n",
    "nba_stats = pickle.load(open(stats_file, 'rb'))\n",
    "\n",
    "import player_market_class\n",
    "import scraper_LB\n",
    "import empirical\n",
    "import pandas as pd"
   ]
  },
  {
   "cell_type": "code",
   "execution_count": null,
   "metadata": {},
   "outputs": [],
   "source": [
    "links = scraper_LB.get_links_LB() #'17/01/2019'\n",
    "for link in links:\n",
    "    print(link)"
   ]
  },
  {
   "cell_type": "code",
   "execution_count": null,
   "metadata": {
    "collapsed": true
   },
   "outputs": [],
   "source": [
    "past_n_games = 60"
   ]
  },
  {
   "cell_type": "code",
   "execution_count": null,
   "metadata": {
    "scrolled": false
   },
   "outputs": [],
   "source": [
    "for link in links:\n",
    "    print(link)\n",
    "    player_markets = scraper_LB.get_player_markets_LB(link)\n",
    "\n",
    "    edge_list = []\n",
    "    player_list = []\n",
    "    over_under_list = []\n",
    "    baseline_list = []\n",
    "    stat_list = []\n",
    "    odds_list = []\n",
    "    theo_list = []\n",
    "\n",
    "    for player_market in player_markets:\n",
    "        # Convert Ladbrokes odds into class\n",
    "        try:\n",
    "            # If unable to parse info to class, move onto next one\n",
    "            p_mrkt = player_market_class.PlayerMarketLadbrokes(player_market)\n",
    "        except:\n",
    "            print('Unable to parse:\\n{}\\n'.format(player_market))\n",
    "            continue\n",
    "        \n",
    "        try:\n",
    "            # If unable to calculate theo (e.g. if player's name not correct), move onto next one\n",
    "            # Calculate theo odds\n",
    "            theo_odds_over, theo_odds_under = empirical.empirical_odds(p_mrkt.get_player(), p_mrkt.get_stat(), \n",
    "                                     p_mrkt.get_baseline(), past_n_games)\n",
    "        except:\n",
    "            print('Unable to calculate theo for {} {}'.format(p_mrkt.get_player(),\n",
    "                                                          p_mrkt.get_stat()))\n",
    "            continue\n",
    "            \n",
    "        theo_pr_over = 1/theo_odds_over\n",
    "        theo_pr_under = 1 - theo_pr_over\n",
    "\n",
    "        # Calculate edge\n",
    "        edge_over = theo_pr_over * p_mrkt.get_odds_over() - 1\n",
    "        edge_under = theo_pr_under * p_mrkt.get_odds_under() - 1\n",
    "\n",
    "        if edge_over > edge_under:\n",
    "            best_edge = edge_over\n",
    "            over_under = 'over'\n",
    "            theo_list.append(theo_odds_over)\n",
    "            odds_list.append(p_mrkt.get_odds_over())\n",
    "        else:\n",
    "            best_edge = edge_under\n",
    "            over_under = 'under'\n",
    "            theo_list.append(theo_odds_under)\n",
    "            odds_list.append(p_mrkt.get_odds_under())\n",
    "        \n",
    "        edge_list.append(best_edge)\n",
    "        player_list.append(p_mrkt.get_player())\n",
    "        over_under_list.append(over_under)\n",
    "        baseline_list.append(p_mrkt.get_baseline())\n",
    "        stat_list.append(p_mrkt.get_stat())\n",
    "    \n",
    "    # Create df, sort by edge and print\n",
    "    df_game_mrkts_edge = pd.DataFrame({\n",
    "        'Edge':edge_list,\n",
    "        'Player':player_list,\n",
    "        'over_under':over_under_list,\n",
    "        'Baseline':baseline_list,\n",
    "        'Stat':stat_list,\n",
    "        'Odds':odds_list,\n",
    "        'Theo':theo_list\n",
    "    }, columns = ['Edge', 'Player', 'over_under', 'Baseline', 'Stat', 'Odds', 'Theo'])\n",
    "    \n",
    "    df_game_mrkts_edge = df_game_mrkts_edge.sort_values(by='Edge', ascending=False)\n",
    "    print(df_game_mrkts_edge)\n",
    "    print('')"
   ]
  },
  {
   "cell_type": "code",
   "execution_count": null,
   "metadata": {
    "collapsed": true
   },
   "outputs": [],
   "source": []
  }
 ],
 "metadata": {
  "kernelspec": {
   "display_name": "Python 3",
   "language": "python",
   "name": "python3"
  },
  "language_info": {
   "codemirror_mode": {
    "name": "ipython",
    "version": 3
   },
   "file_extension": ".py",
   "mimetype": "text/x-python",
   "name": "python",
   "nbconvert_exporter": "python",
   "pygments_lexer": "ipython3",
   "version": "3.6.3"
  }
 },
 "nbformat": 4,
 "nbformat_minor": 2
}

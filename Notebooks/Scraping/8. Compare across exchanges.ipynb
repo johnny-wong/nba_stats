{
 "cells": [
  {
   "cell_type": "code",
   "execution_count": null,
   "metadata": {},
   "outputs": [],
   "source": [
    "# Import class\n",
    "import os\n",
    "import pickle\n",
    "import sys\n",
    "parent_dir = os.path.dirname(os.path.dirname(os.getcwd()))\n",
    "class_dir = os.path.join(parent_dir, 'Scripts')\n",
    "sys.path.insert(0, class_dir)\n",
    "import NBAStats\n",
    "stats_file = os.path.join(parent_dir, 'Data', 'nba_stats.pickle')\n",
    "print(stats_file)\n",
    "nba_stats = pickle.load(open(stats_file, 'rb'))\n",
    "\n",
    "import player_market_class\n",
    "import scraper_SB\n",
    "import scraper_LB\n",
    "import empirical\n",
    "import pandas as pd\n",
    "import datetime as dt"
   ]
  },
  {
   "cell_type": "markdown",
   "metadata": {},
   "source": [
    "# Motivation\n",
    "Being able to see the best prices across multiple exchanges.\n",
    "* Find arbs\n",
    "* Save manual search\n",
    "\n",
    "# Plan\n",
    "* Get lists of PlayerMarket class items\n",
    "* Write a function to return a consolidated list of the best odds"
   ]
  },
  {
   "cell_type": "code",
   "execution_count": null,
   "metadata": {
    "collapsed": true
   },
   "outputs": [],
   "source": [
    "market_date = dt.date(2019, 1, 18)\n",
    "market_date_LB = market_date.strftime(\"%d/%m/%Y\")\n",
    "market_date_SB = market_date.strftime(\"%d/%m/%y\")\n",
    "\n",
    "links_LB = scraper_LB.get_links_LB(market_date_LB)\n",
    "links_SB = scraper_SB.get_links_SB(market_date_SB)\n"
   ]
  },
  {
   "cell_type": "code",
   "execution_count": null,
   "metadata": {
    "collapsed": true
   },
   "outputs": [],
   "source": [
    "odds_str_LB = []\n",
    "for link in links_LB:\n",
    "    odds_str_LB.extend(scraper_LB.get_player_markets_LB(link))"
   ]
  },
  {
   "cell_type": "code",
   "execution_count": null,
   "metadata": {
    "collapsed": true
   },
   "outputs": [],
   "source": [
    "odds_str_SB = []\n",
    "for link in links_SB:\n",
    "    odds_str_SB.extend(scraper_SB.get_player_markets_SB(link))"
   ]
  },
  {
   "cell_type": "code",
   "execution_count": null,
   "metadata": {},
   "outputs": [],
   "source": [
    "odds_str_LB.remove('Nicolas Batum Total Assists')"
   ]
  },
  {
   "cell_type": "code",
   "execution_count": null,
   "metadata": {},
   "outputs": [],
   "source": [
    "player_markets_LB = [player_market_class.PlayerMarketLadbrokes(odds_str) for odds_str in odds_str_LB]\n",
    "player_markets_SB = [player_market_class.PlayerMarketSportsBet(odds_str) for odds_str in odds_str_SB]\n",
    "\n",
    "market_names_LB = [player_market.get_market_name() for player_market in player_markets_LB]\n",
    "market_names_SB = [player_market.get_market_name() for player_market in player_markets_SB]\n",
    "\n",
    "common_market_names = list(set(market_names_LB).intersection(set(market_names_SB)))"
   ]
  },
  {
   "cell_type": "code",
   "execution_count": null,
   "metadata": {
    "collapsed": true
   },
   "outputs": [],
   "source": [
    "best_markets = []\n",
    "for market in common_market_names:\n",
    "    i_LB = market_names_LB.index(market)\n",
    "    i_SB = market_names_SB.index(market)\n",
    "    \n",
    "    p_market_LB = player_markets_LB[i_LB]\n",
    "    p_market_SB = player_markets_SB[i_SB]\n",
    "    \n",
    "    best_market = p_market_LB.combine_odds(p_market_SB)\n",
    "    best_markets.append(best_market)\n",
    "\n",
    "for market in player_markets_LB:\n",
    "    if market.get_market_name() in common_market_names:\n",
    "        continue\n",
    "    else:\n",
    "        best_markets.append(market)\n",
    "\n",
    "for market in player_markets_SB:\n",
    "    if market.get_market_name() in common_market_names:\n",
    "        continue\n",
    "    else:\n",
    "        best_markets.append(market)    "
   ]
  },
  {
   "cell_type": "code",
   "execution_count": null,
   "metadata": {},
   "outputs": [],
   "source": [
    "for market in best_markets:\n",
    "    print(market, end='\\n\\n')"
   ]
  },
  {
   "cell_type": "markdown",
   "metadata": {},
   "source": [
    "## Arb finder"
   ]
  },
  {
   "cell_type": "code",
   "execution_count": null,
   "metadata": {},
   "outputs": [],
   "source": [
    "bookie_pr_edge_list = []\n",
    "for market in best_markets:\n",
    "    odds_over = market.get_odds_over()\n",
    "    odds_under = market.get_odds_under()\n",
    "    \n",
    "    bookie_pr_edge = 1/float(odds_over) + 1/float(odds_under) - 1\n",
    "    bookie_pr_edge_list.append(bookie_pr_edge)\n",
    "\n",
    "for edge, market in sorted(zip(bookie_pr_edge_list, best_markets), key=lambda t:t[0]):\n",
    "    print('Bookie edge {:.2f}'.format(edge))\n",
    "    print(market, end='\\n\\n')\n",
    "    "
   ]
  }
 ],
 "metadata": {
  "kernelspec": {
   "display_name": "Python 3",
   "language": "python",
   "name": "python3"
  },
  "language_info": {
   "codemirror_mode": {
    "name": "ipython",
    "version": 3
   },
   "file_extension": ".py",
   "mimetype": "text/x-python",
   "name": "python",
   "nbconvert_exporter": "python",
   "pygments_lexer": "ipython3",
   "version": "3.6.3"
  }
 },
 "nbformat": 4,
 "nbformat_minor": 2
}

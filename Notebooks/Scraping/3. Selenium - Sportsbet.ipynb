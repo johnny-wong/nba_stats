{
 "cells": [
  {
   "cell_type": "code",
   "execution_count": 1,
   "metadata": {
    "collapsed": true
   },
   "outputs": [],
   "source": [
    "from selenium import webdriver\n",
    "from selenium.webdriver.common.keys import Keys\n",
    "import time\n",
    "import datetime as dt"
   ]
  },
  {
   "cell_type": "markdown",
   "metadata": {},
   "source": [
    "Get the links for today's markets"
   ]
  },
  {
   "cell_type": "code",
   "execution_count": 10,
   "metadata": {
    "collapsed": true
   },
   "outputs": [],
   "source": [
    "def get_links_SB(date=dt.date.today().strftime(\"%d/%m/%y\"),\n",
    "                chrome_path=r\"C:\\Users\\johnn\\chromedriver\\chromedriver.exe\",\n",
    "                url=\"https://www.sportsbet.com.au/betting/basketball-us/nba-matches\"):\n",
    "    ''' \n",
    "    date in dd/mm/yy format\n",
    "    Goes through sportsbet's NBA games page and returns a list of links to all open markets.\n",
    "    Open meaning of the day specified and not in play\n",
    "    '''\n",
    "\n",
    "    driver = webdriver.Chrome(chrome_path)\n",
    "    driver.get(url)\n",
    "\n",
    "    games = driver.find_elements_by_class_name(\"link_ft4u1lp\")\n",
    "    \n",
    "    # Filter for date's games that haven't started already\n",
    "    today_games = [game for game in games if date in game.find_element_by_class_name('time_fbgyqei').text]\n",
    "    \n",
    "    links = [game.get_attribute('href') for game in today_games]\n",
    "    driver.close()\n",
    "    return links"
   ]
  },
  {
   "cell_type": "markdown",
   "metadata": {},
   "source": [
    "Go through link and get player markets"
   ]
  },
  {
   "cell_type": "code",
   "execution_count": 18,
   "metadata": {
    "collapsed": true
   },
   "outputs": [],
   "source": [
    "def get_player_markets_SB(link,\n",
    "                         chrome_path=r\"C:\\Users\\johnn\\chromedriver\\chromedriver.exe\"):\n",
    "    '''\n",
    "    Returns a list of strings parsed from sportsbets player markets.\n",
    "    '''\n",
    "    options = webdriver.ChromeOptions()\n",
    "    options.add_argument(\"--start-maximized\")\n",
    "\n",
    "    link = links[0]\n",
    "\n",
    "    driver = webdriver.Chrome(chrome_path, options=options)\n",
    "    driver.get(link)\n",
    "\n",
    "    markets = driver.find_elements_by_class_name(\"touchArea_fgteabt\")\n",
    "\n",
    "    markets_of_interest = ['Top Markets', # To minimise\n",
    "                           'Player Points Markets', \n",
    "                           'Player Rebounds Markets', \n",
    "                           'Player Assists Markets']\n",
    "    main_markets = [market for market in markets if market.text in markets_of_interest]\n",
    "\n",
    "    for market in main_markets:\n",
    "        market.click()\n",
    "        time.sleep(1)\n",
    "\n",
    "    # Find player markets e.g. Donovan Mitchell - Points\n",
    "    # Must be maximised windows for class name accordionItemDesktop_f1pa6f05\n",
    "    player_markets = driver.find_elements_by_class_name(\"accordionItemDesktop_f1pa6f05\")\n",
    "\n",
    "    player_markets_of_interest = ['- Points', '- Rebounds', '- Assists']\n",
    "    main_player_markets = [market for market in player_markets if any(\n",
    "        stat in market.text for stat in player_markets_of_interest)]\n",
    "\n",
    "    # Scroll to top so that the first box isn't hidden by Sportsbet's ribbon\n",
    "    driver.find_element_by_tag_name('body').send_keys(Keys.CONTROL + Keys.HOME)\n",
    "    time.sleep(1) # Wait for page to finish scrolling\n",
    "\n",
    "    # Open all the markets to see odds and record them\n",
    "    market_list = []\n",
    "    for player_market in main_player_markets:\n",
    "        player_market.click()\n",
    "        time.sleep(0.5)\n",
    "\n",
    "        market_list.append(player_market.text)\n",
    "    \n",
    "    driver.close()\n",
    "    \n",
    "    return market_list"
   ]
  },
  {
   "cell_type": "code",
   "execution_count": 13,
   "metadata": {},
   "outputs": [
    {
     "name": "stdout",
     "output_type": "stream",
     "text": [
      "found 8 games\n"
     ]
    }
   ],
   "source": [
    "links = get_links_SB('06/01/19')"
   ]
  },
  {
   "cell_type": "code",
   "execution_count": 19,
   "metadata": {},
   "outputs": [],
   "source": [
    "player_markets = get_player_markets_SB(links[3])"
   ]
  },
  {
   "cell_type": "code",
   "execution_count": 23,
   "metadata": {},
   "outputs": [
    {
     "data": {
      "text/plain": [
       "['Kemba Walker - Points\\nKemba Walker Over (+23.5)\\nKemba Walker Under (+23.5)\\n1.90\\n1.83',\n",
       " 'Marvin Williams - Points\\nMarvin Williams Over (+11.5)\\nMarvin Williams Under (+11.5)\\n1.78\\n1.96',\n",
       " 'Nicolas Batum - Points\\nNicolas Batum Over (+8.5)\\nNicolas Batum Under (+8.5)\\n1.91\\n1.82',\n",
       " 'Nikola Jokic - Points\\nNikola Jokic Over (+20.5)\\nNikola Jokic Under (+20.5)\\n1.99\\n1.76',\n",
       " 'Jamal Murray - Points\\nJamal Murray Over (+19.5)\\nJamal Murray Under (+19.5)\\n1.74\\n2.01',\n",
       " 'Gary Harris - Points\\nGary Harris Over (+15.5)\\nGary Harris Under (+15.5)\\n1.91\\n1.82',\n",
       " 'Paul Millsap - Points\\nPaul Millsap Over (+11.5)\\nPaul Millsap Under (+11.5)\\n2.04\\n1.72',\n",
       " 'Kemba Walker - Rebounds\\nKemba Walker Over (+3.5)\\nKemba Walker Under (+3.5)\\n1.61\\n2.22',\n",
       " 'Marvin Williams - Rebounds\\nMarvin Williams Over (+6.5)\\nMarvin Williams Under (+6.5)\\n1.93\\n1.80',\n",
       " 'Nicolas Batum - Rebounds\\nNicolas Batum Over (+5.5)\\nNicolas Batum Under (+5.5)\\n2.01\\n1.74',\n",
       " 'Nikola Jokic - Rebounds\\nNikola Jokic Over (+11.5)\\nNikola Jokic Under (+11.5)\\n1.81\\n1.92',\n",
       " 'Jamal Murray - Rebounds\\nJamal Murray Over (+4.5)\\nJamal Murray Under (+4.5)\\n2.11\\n1.67',\n",
       " 'Paul Millsap - Rebounds\\nPaul Millsap Over (+5.5)\\nPaul Millsap Under (+5.5)\\n1.64\\n2.17',\n",
       " 'Kemba Walker - Assists\\nKemba Walker Over (+5.5)\\nKemba Walker Under (+5.5)\\n1.94\\n1.80',\n",
       " 'Nicolas Batum - Assists\\nNicolas Batum Over (+3.5)\\nNicolas Batum Under (+3.5)\\n1.78\\n1.96',\n",
       " 'Nikola Jokic - Assists\\nNikola Jokic Over (+8.5)\\nNikola Jokic Under (+8.5)\\n1.93\\n1.81',\n",
       " 'Jamal Murray - Assists\\nJamal Murray Over (+5.5)\\nJamal Murray Under (+5.5)\\n1.93\\n1.80']"
      ]
     },
     "execution_count": 23,
     "metadata": {},
     "output_type": "execute_result"
    }
   ],
   "source": [
    "player_markets"
   ]
  },
  {
   "cell_type": "markdown",
   "metadata": {},
   "source": [
    "Figure out how to parse the above format into useful information"
   ]
  },
  {
   "cell_type": "code",
   "execution_count": 56,
   "metadata": {},
   "outputs": [
    {
     "data": {
      "text/plain": [
       "'Kemba Walker - Points\\nKemba Walker Over (+23.5)\\nKemba Walker Under (+23.5)\\n1.90\\n1.83'"
      ]
     },
     "execution_count": 56,
     "metadata": {},
     "output_type": "execute_result"
    }
   ],
   "source": [
    "import re\n",
    "s = 'Kemba Walker - Points\\nKemba Walker Over (+23.5)\\nKemba Walker Under (+23.5)\\n1.90\\n1.83'\n",
    "s"
   ]
  },
  {
   "cell_type": "code",
   "execution_count": 49,
   "metadata": {},
   "outputs": [
    {
     "data": {
      "text/plain": [
       "'Kemba Walker'"
      ]
     },
     "execution_count": 49,
     "metadata": {},
     "output_type": "execute_result"
    }
   ],
   "source": [
    "re_name = r'(.+) - '\n",
    "re.match(re_name, s).group(1)"
   ]
  },
  {
   "cell_type": "code",
   "execution_count": 53,
   "metadata": {},
   "outputs": [
    {
     "data": {
      "text/plain": [
       "'Points'"
      ]
     },
     "execution_count": 53,
     "metadata": {},
     "output_type": "execute_result"
    }
   ],
   "source": [
    "re_stat = r' - (.+)\\n'\n",
    "re.search(re_stat, s).group(1)"
   ]
  },
  {
   "cell_type": "code",
   "execution_count": 58,
   "metadata": {},
   "outputs": [
    {
     "data": {
      "text/plain": [
       "'23.5'"
      ]
     },
     "execution_count": 58,
     "metadata": {},
     "output_type": "execute_result"
    }
   ],
   "source": [
    "re_baseline = r'\\+(\\d+\\.5)'\n",
    "re.search(re_baseline, s).group(1)"
   ]
  },
  {
   "cell_type": "code",
   "execution_count": 64,
   "metadata": {},
   "outputs": [
    {
     "data": {
      "text/plain": [
       "'1.90'"
      ]
     },
     "execution_count": 64,
     "metadata": {},
     "output_type": "execute_result"
    }
   ],
   "source": [
    "re_odds_over = r'^(\\d\\.\\d{2})$'\n",
    "re.search(re_odds_over, s, re.M).group(1)"
   ]
  },
  {
   "cell_type": "code",
   "execution_count": 66,
   "metadata": {},
   "outputs": [
    {
     "data": {
      "text/plain": [
       "'1.83'"
      ]
     },
     "execution_count": 66,
     "metadata": {},
     "output_type": "execute_result"
    }
   ],
   "source": [
    "re_odds_under = r'(\\d\\.\\d{2})$'\n",
    "re.search(re_odds_under, s).group(1)"
   ]
  }
 ],
 "metadata": {
  "kernelspec": {
   "display_name": "Python 3",
   "language": "python",
   "name": "python3"
  },
  "language_info": {
   "codemirror_mode": {
    "name": "ipython",
    "version": 3
   },
   "file_extension": ".py",
   "mimetype": "text/x-python",
   "name": "python",
   "nbconvert_exporter": "python",
   "pygments_lexer": "ipython3",
   "version": "3.6.3"
  }
 },
 "nbformat": 4,
 "nbformat_minor": 2
}

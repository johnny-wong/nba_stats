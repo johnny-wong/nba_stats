{
 "cells": [
  {
   "cell_type": "code",
   "execution_count": null,
   "metadata": {
    "collapsed": true
   },
   "outputs": [],
   "source": [
    "from selenium import webdriver\n",
    "from selenium.webdriver.common.keys import Keys\n",
    "import time\n",
    "import datetime as dt"
   ]
  },
  {
   "cell_type": "markdown",
   "metadata": {},
   "source": [
    "Get the links for today's markets"
   ]
  },
  {
   "cell_type": "code",
   "execution_count": null,
   "metadata": {
    "collapsed": true
   },
   "outputs": [],
   "source": [
    "def get_links_SB(date=dt.date.today().strftime(\"%d/%m/%y\"),\n",
    "                chrome_path=r\"C:\\Users\\johnn\\chromedriver\\chromedriver.exe\",\n",
    "                url=\"https://www.sportsbet.com.au/betting/basketball-us/nba-matches\"):\n",
    "    ''' \n",
    "    date in dd/mm/yy format\n",
    "    Goes through sportsbet's NBA games page and returns a list of links to all open markets.\n",
    "    Open meaning of the day specified and not in play\n",
    "    '''\n",
    "\n",
    "    driver = webdriver.Chrome(chrome_path)\n",
    "    driver.get(url)\n",
    "\n",
    "    games = driver.find_elements_by_class_name(\"link_ft4u1lp\")\n",
    "    \n",
    "    # Filter for date's games that haven't started already\n",
    "    today_games = [game for game in games if date in game.find_element_by_class_name('time_fbgyqei').text]\n",
    "    \n",
    "    links = [game.get_attribute('href') for game in today_games]\n",
    "    driver.close()\n",
    "    return links"
   ]
  },
  {
   "cell_type": "markdown",
   "metadata": {},
   "source": [
    "Go through link and get player markets"
   ]
  },
  {
   "cell_type": "code",
   "execution_count": null,
   "metadata": {
    "collapsed": true
   },
   "outputs": [],
   "source": [
    "def get_player_markets_SB(link,\n",
    "                         chrome_path=r\"C:\\Users\\johnn\\chromedriver\\chromedriver.exe\"):\n",
    "    '''\n",
    "    Returns a list of strings parsed from sportsbets player markets.\n",
    "    '''\n",
    "    options = webdriver.ChromeOptions()\n",
    "    options.add_argument(\"--start-maximized\")\n",
    "\n",
    "    link = links[0]\n",
    "\n",
    "    driver = webdriver.Chrome(chrome_path, options=options)\n",
    "    driver.get(link)\n",
    "\n",
    "    markets = driver.find_elements_by_class_name(\"touchArea_fgteabt\")\n",
    "\n",
    "    markets_of_interest = ['Top Markets', # To minimise\n",
    "                           'Player Points Markets', \n",
    "                           'Player Rebounds Markets', \n",
    "                           'Player Assists Markets']\n",
    "    main_markets = [market for market in markets if market.text in markets_of_interest]\n",
    "\n",
    "    for market in main_markets:\n",
    "        market.click()\n",
    "        time.sleep(1)\n",
    "\n",
    "    # Find player markets e.g. Donovan Mitchell - Points\n",
    "    # Must be maximised windows for class name accordionItemDesktop_f1pa6f05\n",
    "    player_markets = driver.find_elements_by_class_name(\"accordionItemDesktop_f1pa6f05\")\n",
    "\n",
    "    player_markets_of_interest = ['- Points', '- Rebounds', '- Assists']\n",
    "    main_player_markets = [market for market in player_markets if any(\n",
    "        stat in market.text for stat in player_markets_of_interest)]\n",
    "\n",
    "    # Scroll to top so that the first box isn't hidden by Sportsbet's ribbon\n",
    "    driver.find_element_by_tag_name('body').send_keys(Keys.CONTROL + Keys.HOME)\n",
    "    time.sleep(1) # Wait for page to finish scrolling\n",
    "\n",
    "    # Open all the markets to see odds and record them\n",
    "    market_list = []\n",
    "    for player_market in main_player_markets:\n",
    "        player_market.click()\n",
    "        time.sleep(0.5)\n",
    "\n",
    "        market_list.append(player_market.text)\n",
    "    \n",
    "    driver.close()\n",
    "    \n",
    "    return market_list"
   ]
  },
  {
   "cell_type": "code",
   "execution_count": null,
   "metadata": {
    "collapsed": true
   },
   "outputs": [],
   "source": [
    "links = get_links_SB('06/01/19')"
   ]
  },
  {
   "cell_type": "code",
   "execution_count": null,
   "metadata": {
    "collapsed": true
   },
   "outputs": [],
   "source": [
    "player_markets = get_player_markets_SB(links[3])"
   ]
  },
  {
   "cell_type": "code",
   "execution_count": null,
   "metadata": {},
   "outputs": [],
   "source": [
    "player_markets"
   ]
  },
  {
   "cell_type": "code",
   "execution_count": null,
   "metadata": {},
   "outputs": [],
   "source": [
    "chrome_path=r\"C:\\Users\\johnn\\chromedriver\\chromedriver.exe\"\n",
    "url=\"https://www.sportsbet.com.au/betting/basketball-us/nba-matches\"\n",
    "date=dt.date.today().strftime(\"%d/%m/%y\")\n",
    "\n",
    "driver = webdriver.Chrome(chrome_path)\n",
    "driver.get(url)\n",
    "\n",
    "games = driver.find_elements_by_class_name(\"link_ft4u1lp\")\n",
    "\n",
    "# Filter for date's games that haven't started already\n",
    "today_games = [game for game in games if date in game.find_element_by_class_name('time_fbgyqei').text]\n",
    "\n",
    "for game in today_games:\n",
    "    print(game.find_element_by_class_name('time_fbgyqei').text)"
   ]
  },
  {
   "cell_type": "code",
   "execution_count": null,
   "metadata": {
    "collapsed": true
   },
   "outputs": [],
   "source": []
  }
 ],
 "metadata": {
  "kernelspec": {
   "display_name": "Python 3",
   "language": "python",
   "name": "python3"
  },
  "language_info": {
   "codemirror_mode": {
    "name": "ipython",
    "version": 3
   },
   "file_extension": ".py",
   "mimetype": "text/x-python",
   "name": "python",
   "nbconvert_exporter": "python",
   "pygments_lexer": "ipython3",
   "version": "3.6.3"
  }
 },
 "nbformat": 4,
 "nbformat_minor": 2
}

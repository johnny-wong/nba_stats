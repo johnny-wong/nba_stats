{
 "cells": [
  {
   "cell_type": "code",
   "execution_count": null,
   "metadata": {},
   "outputs": [],
   "source": [
    "# Import class\n",
    "import os\n",
    "import sys\n",
    "parent_dir = os.path.dirname(os.path.dirname(os.getcwd()))\n",
    "class_dir = os.path.join(parent_dir, 'Scripts')\n",
    "sys.path.insert(0, class_dir)\n",
    "import datetime as dt\n",
    "import scraper\n",
    "import empirical\n",
    "import pandas as pd"
   ]
  },
  {
   "cell_type": "code",
   "execution_count": null,
   "metadata": {},
   "outputs": [],
   "source": [
    "best_markets = scraper.get_best_player_markets() #dt.date(2019, 1, 31)"
   ]
  },
  {
   "cell_type": "markdown",
   "metadata": {},
   "source": [
    "## Show markets and order by bookie edge"
   ]
  },
  {
   "cell_type": "code",
   "execution_count": null,
   "metadata": {},
   "outputs": [],
   "source": [
    "bookie_pr_edge_list = []\n",
    "for market in best_markets:\n",
    "    bookie_pr_edge_list.append(market.calc_spread())\n",
    "\n",
    "for edge, market in sorted(zip(bookie_pr_edge_list, best_markets), key=lambda t:t[0]):\n",
    "    print('Bookie edge {:.2%}'.format(edge))\n",
    "    print(market, end='\\n\\n')"
   ]
  },
  {
   "cell_type": "markdown",
   "metadata": {},
   "source": [
    "## Calculate theos for best markets"
   ]
  },
  {
   "cell_type": "code",
   "execution_count": null,
   "metadata": {},
   "outputs": [],
   "source": [
    "past_n_games = 40\n",
    "edge_list = []\n",
    "player_list = []\n",
    "over_under_list = []\n",
    "baseline_list = []\n",
    "stat_list = []\n",
    "odds_list = []\n",
    "theo_list = []\n",
    "bookie_edge_list = []\n",
    "exchange_list = []\n",
    "for p_mrkt in best_markets:\n",
    "        \n",
    "    try:\n",
    "        # If unable to calculate theo (e.g. if player's name not correct), move onto next one\n",
    "        # Calculate theo odds\n",
    "        theo_odds_over, theo_odds_under = empirical.empirical_odds(p_mrkt.player, p_mrkt.stat, \n",
    "                                 p_mrkt.baseline, past_n_games)\n",
    "    except:\n",
    "        print('Unable to calculate theo for {} {}'.format(p_mrkt.player,\n",
    "                                                      p_mrkt.stat))\n",
    "        continue\n",
    "\n",
    "    theo_pr_over = 1/theo_odds_over\n",
    "    theo_pr_under = 1 - theo_pr_over\n",
    "\n",
    "    # Calculate edge\n",
    "    edge_over = theo_pr_over * p_mrkt.odds_over - 1\n",
    "    edge_under = theo_pr_under * p_mrkt.odds_under - 1\n",
    "\n",
    "    if edge_over > edge_under:\n",
    "        best_edge = edge_over\n",
    "        over_under = 'over'\n",
    "        theo_list.append(round(theo_odds_over,2))\n",
    "        odds_list.append(p_mrkt.odds_over)\n",
    "        exchange_list.append(p_mrkt.overs_exchange)\n",
    "    else:\n",
    "        best_edge = edge_under\n",
    "        over_under = 'under'\n",
    "        theo_list.append(round(theo_odds_under, 2))\n",
    "        odds_list.append(p_mrkt.odds_under)\n",
    "        exchange_list.append(p_mrkt.unders_exchange)\n",
    "\n",
    "    bookie_edge = 1/float(p_mrkt.odds_over) + 1/float(p_mrkt.odds_under) - 1\n",
    "    \n",
    "    bookie_edge_list.append(round(bookie_edge, 2))\n",
    "    edge_list.append(round(best_edge, 2))\n",
    "    player_list.append(p_mrkt.player)\n",
    "    over_under_list.append(over_under)\n",
    "    baseline_list.append(p_mrkt.baseline)\n",
    "    stat_list.append(p_mrkt.stat)\n",
    "    \n",
    "# Create df, sort by edge and print\n",
    "df_game_mrkts_edge = pd.DataFrame({\n",
    "    'Edge':edge_list,\n",
    "    'Spread':bookie_edge_list,\n",
    "    'Player':player_list,\n",
    "    'Over_under':over_under_list,\n",
    "    'Baseline':baseline_list,\n",
    "    'Stat':stat_list,\n",
    "    'Odds':odds_list,\n",
    "    'Theo':theo_list,\n",
    "    'Exchange':exchange_list\n",
    "}, columns = ['Edge', 'Spread', 'Player', 'Over_under', 'Baseline', 'Stat', 'Odds', 'Theo', 'Exchange'])\n",
    "\n",
    "df_game_mrkts_edge = df_game_mrkts_edge.sort_values(by='Spread', ascending=True)\n",
    "df_game_mrkts_edge"
   ]
  },
  {
   "cell_type": "markdown",
   "metadata": {},
   "source": [
    "## Record and save in pickle file"
   ]
  },
  {
   "cell_type": "code",
   "execution_count": null,
   "metadata": {},
   "outputs": [],
   "source": [
    "import pickle\n",
    "\n",
    "if False:\n",
    "    data_dir = os.path.join(parent_dir, 'Data')\n",
    "    file_dir = os.path.join(data_dir, 'historic_markets.pickle')\n",
    "\n",
    "    historic_markets = pickle.load(open(file_dir, 'rb'))\n",
    "\n",
    "    market_today = [(dt.datetime.now(), best_markets)]\n",
    "\n",
    "    historic_markets.extend(market_today)\n",
    "\n",
    "    pickle.dump(historic_markets, open(file_dir, 'wb'))\n",
    "    \n",
    "    print('Markets saved at {}'.format(dt.datetime.now()))"
   ]
  }
 ],
 "metadata": {
  "kernelspec": {
   "display_name": "Python 3",
   "language": "python",
   "name": "python3"
  },
  "language_info": {
   "codemirror_mode": {
    "name": "ipython",
    "version": 3
   },
   "file_extension": ".py",
   "mimetype": "text/x-python",
   "name": "python",
   "nbconvert_exporter": "python",
   "pygments_lexer": "ipython3",
   "version": "3.6.3"
  }
 },
 "nbformat": 4,
 "nbformat_minor": 2
}

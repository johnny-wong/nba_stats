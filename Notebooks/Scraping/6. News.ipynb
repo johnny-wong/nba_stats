{
 "cells": [
  {
   "cell_type": "code",
   "execution_count": 75,
   "metadata": {
    "collapsed": true
   },
   "outputs": [],
   "source": [
    "import requests\n",
    "import bs4\n",
    "import re\n",
    "import datetime as dt\n",
    "import pandas as pd\n",
    "import pdb"
   ]
  },
  {
   "cell_type": "code",
   "execution_count": 80,
   "metadata": {},
   "outputs": [],
   "source": [
    "def print_news(term):\n",
    "    \"\"\"\n",
    "    Prints the headlines from a google search of term. Sorts by most recent.\n",
    "    \"\"\"\n",
    "    term = term.replace(' ', '+')\n",
    "    url = 'https://www.google.com/search?q={}&source=lnms&tbm=nws'.format(term)\n",
    "\n",
    "    r = requests.get(url)\n",
    "    assert r.status_code == 200\n",
    "\n",
    "    soup = bs4.BeautifulSoup(r.text, 'lxml')\n",
    "    headlines = soup.find_all('div', {'class':'g'})\n",
    "\n",
    "    headline_list = []\n",
    "    source_list = []\n",
    "    time_list = []\n",
    "\n",
    "    for headline in headlines:\n",
    "        link = headline.find('h3')\n",
    "        source = headline.find('div', {'class':'slp'})\n",
    "\n",
    "        headline = link.text\n",
    "        source_time = source.text\n",
    "\n",
    "        # Record headline\n",
    "        headline_list.append(headline)\n",
    "\n",
    "        # Record source\n",
    "        source_text = re.search(r'^(.*) - ', source_time).group(1)\n",
    "        source_list.append(source_text)\n",
    "\n",
    "        # Convert dates\n",
    "        time_string = re.search(r' - (.*)$', source_time).group(1)\n",
    "\n",
    "        # Check if in format x days ago\n",
    "        days_ago_format = re.search(r'^(\\d+) (.*) ago$', time_string)\n",
    "\n",
    "        if days_ago_format:\n",
    "            if days_ago_format.group(2) == 'days':\n",
    "                \n",
    "                days_ago = int(days_ago_format.group(1))\n",
    "                timestamp = dt.datetime.today() - dt.timedelta(days_ago)\n",
    "            else:\n",
    "                timestamp = dt.datetime.today()\n",
    "        else:\n",
    "            date_string = re.search(r'^\\d{1,2} \\D{3} \\d{4}', time_string)\n",
    "            if date_string:\n",
    "                timestamp = dt.datetime.strptime(date_string.group(), '%d %b %Y')\n",
    "            else:\n",
    "                timestamp = None\n",
    "\n",
    "        time_list.append(timestamp)\n",
    "\n",
    "    news_list = zip(time_list, headline_list, source_list)\n",
    "    for time, headline, source in sorted(news_list, reverse=True):\n",
    "        print(time.date())\n",
    "        print(headline)\n",
    "        print(source)\n",
    "        print()"
   ]
  },
  {
   "cell_type": "code",
   "execution_count": 82,
   "metadata": {},
   "outputs": [
    {
     "name": "stdout",
     "output_type": "stream",
     "text": [
      "2019-01-08\n",
      "Damian Lillard on Blazers' upcoming schedule, 'I like where we are'\n",
      "Blazer's Edge\n",
      "\n",
      "2019-01-06\n",
      "Trail Blazers' Damian Lillard: Leads team in scoring with 23 points\n",
      "CBSSports.com\n",
      "\n",
      "2019-01-06\n",
      "Don't Fret Over Damian Lillard's Early NBA All-Star Game Returns\n",
      "Blazer's Edge\n",
      "\n",
      "2019-01-04\n",
      "NBA All-Star voting: Trail Blazers' Damian Lillard 6th among ...\n",
      "OregonLive.com\n",
      "\n",
      "2019-01-04\n",
      "Damian Lillard Sits No. 6 in First NBA All-Star Returns\n",
      "Blazer's Edge\n",
      "\n",
      "2019-01-03\n",
      "Trail Blazers' Damian Lillard: Scores team-high 25 points in win\n",
      "CBSSports.com\n",
      "\n",
      "2019-01-03\n",
      "Eggers Shares Two Touching Damian Lillard Stories\n",
      "Blazer's Edge\n",
      "\n",
      "2018-12-28\n",
      "Oakland's Damian Lillard comes up clutch for Portland's last game at ...\n",
      "ESPN\n",
      "\n",
      "2018-12-18\n",
      "Trail Blazers' Damian Lillard playing 'stronger ... more efficient'\n",
      "USA TODAY\n",
      "\n",
      "2018-12-11\n",
      "Portland Trail Blazers: Has Damian Lillard surpassed Chris Paul?\n",
      "Rip City Project\n",
      "\n"
     ]
    }
   ],
   "source": [
    "term = 'Damian Lillard'\n",
    "\n",
    "print_news(term)"
   ]
  }
 ],
 "metadata": {
  "kernelspec": {
   "display_name": "Python 3",
   "language": "python",
   "name": "python3"
  },
  "language_info": {
   "codemirror_mode": {
    "name": "ipython",
    "version": 3
   },
   "file_extension": ".py",
   "mimetype": "text/x-python",
   "name": "python",
   "nbconvert_exporter": "python",
   "pygments_lexer": "ipython3",
   "version": "3.6.3"
  }
 },
 "nbformat": 4,
 "nbformat_minor": 2
}

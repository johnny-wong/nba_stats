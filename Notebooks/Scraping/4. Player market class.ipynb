{
 "cells": [
  {
   "cell_type": "markdown",
   "metadata": {},
   "source": [
    "# Standardise bets\n",
    "I need a way to view bets from different platforms though the same lense. To do this, I want to create a class with all necessary information about a particular market."
   ]
  },
  {
   "cell_type": "markdown",
   "metadata": {},
   "source": [
    "## PlayerMarket\n",
    "* Exchange\n",
    "* Player\n",
    "* Stat\n",
    "* Baseline\n",
    "* Odds over\n",
    "* Odds under"
   ]
  },
  {
   "cell_type": "code",
   "execution_count": 2,
   "metadata": {
    "collapsed": true
   },
   "outputs": [],
   "source": [
    "import re"
   ]
  },
  {
   "cell_type": "code",
   "execution_count": 1,
   "metadata": {
    "collapsed": true
   },
   "outputs": [],
   "source": [
    "class PlayerMarket():\n",
    "    def __init__(self, exchange, player, stat, baseline, odds_over, odds_under):\n",
    "        self.exchange = exchange\n",
    "        self.player = player\n",
    "        self.stat = stat\n",
    "        self.baseline = baseline\n",
    "        self.odds_over = odds_over\n",
    "        self.odds_under = odds_under\n",
    "    \n",
    "    def get_exchange(self):\n",
    "        return self.exchange\n",
    "    \n",
    "    def get_player(self):\n",
    "        return self.player\n",
    "    \n",
    "    def get_stat(self):\n",
    "        return self.stat\n",
    "    \n",
    "    def get_baseline(self):\n",
    "        return self.baseline\n",
    "    \n",
    "    def get_odds_over(self):\n",
    "        return self.odds_over\n",
    "    \n",
    "    def get_odds_under(self):\n",
    "        return self.odds_under"
   ]
  },
  {
   "cell_type": "code",
   "execution_count": null,
   "metadata": {
    "collapsed": true
   },
   "outputs": [],
   "source": [
    "class PlayerMarketSportsBet(PlayerMarket):\n",
    "    def __init__(self, odds_str):\n",
    "        '''\n",
    "        Parses the string output scraped from sportsbet website and creates a PlayerMarket instance\n",
    "        '''\n",
    "        self.player_name_dict = {} # Converts all names to format I have in NBA_Stats\n",
    "        "
   ]
  }
 ],
 "metadata": {
  "kernelspec": {
   "display_name": "Python 3",
   "language": "python",
   "name": "python3"
  },
  "language_info": {
   "codemirror_mode": {
    "name": "ipython",
    "version": 3
   },
   "file_extension": ".py",
   "mimetype": "text/x-python",
   "name": "python",
   "nbconvert_exporter": "python",
   "pygments_lexer": "ipython3",
   "version": "3.6.3"
  }
 },
 "nbformat": 4,
 "nbformat_minor": 2
}

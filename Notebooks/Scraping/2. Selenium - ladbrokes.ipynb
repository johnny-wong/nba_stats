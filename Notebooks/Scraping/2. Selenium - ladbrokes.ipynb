{
 "cells": [
  {
   "cell_type": "markdown",
   "metadata": {},
   "source": [
    "https://www.youtube.com/watch?v=bhYulVzYRng\n"
   ]
  },
  {
   "cell_type": "code",
   "execution_count": 1,
   "metadata": {
    "collapsed": true
   },
   "outputs": [],
   "source": [
    "from selenium import webdriver"
   ]
  },
  {
   "cell_type": "code",
   "execution_count": 5,
   "metadata": {},
   "outputs": [],
   "source": [
    "def get_links_LB(chrome_path=r\"C:\\Users\\johnn\\chromedriver\\chromedriver.exe\",\n",
    "                 url = \"https://www.ladbrokes.com.au/sports/basketball/69460051-basketball-usa-nba/\"):\n",
    "    '''\n",
    "    Goes through ladbroke's NBA games page and returns a list of links to all open markets.\n",
    "    '''\n",
    "    driver = webdriver.Chrome(chrome_path)\n",
    "    driver.get(url)\n",
    "\n",
    "    boxes = driver.find_elements_by_class_name(\"fullbox-hdr\")\n",
    "    \n",
    "    # Filter out promotional markets\n",
    "    games = [box for box in boxes if 'BASKETBALL USA' in box.text]\n",
    "    links = []\n",
    "\n",
    "    for game in games:\n",
    "        try:\n",
    "            link = game.find_element_by_tag_name(\"a\")\n",
    "            links.append(link.get_attribute('href'))\n",
    "        except:\n",
    "            None\n",
    "\n",
    "    driver.close()\n",
    "    \n",
    "    return links"
   ]
  },
  {
   "cell_type": "code",
   "execution_count": 6,
   "metadata": {
    "collapsed": true
   },
   "outputs": [],
   "source": [
    "links = get_links_LB()"
   ]
  },
  {
   "cell_type": "code",
   "execution_count": 7,
   "metadata": {},
   "outputs": [
    {
     "name": "stdout",
     "output_type": "stream",
     "text": [
      "https://www.ladbrokes.com.au/sports/basketball/69772480-basketball-usa-nba/69772480-denver-nuggets-v-charlotte-hornets/\n",
      "https://www.ladbrokes.com.au/sports/basketball/69772480-basketball-usa-nba/69781534-detroit-pistons-v-utah-jazz/\n",
      "https://www.ladbrokes.com.au/sports/basketball/69772480-basketball-usa-nba/69781536-philadelphia-76ers-v-dallas-mavericks/\n",
      "https://www.ladbrokes.com.au/sports/basketball/69772480-basketball-usa-nba/69781556-cleveland-cavaliers-v-new-orleans-pelicans/\n",
      "https://www.ladbrokes.com.au/sports/basketball/69772480-basketball-usa-nba/69781577-milwaukee-bucks-v-toronto-raptors/\n",
      "https://www.ladbrokes.com.au/sports/basketball/69772480-basketball-usa-nba/69781572-san-antonio-spurs-v-memphis-grizzlies/\n",
      "https://www.ladbrokes.com.au/sports/basketball/69772480-basketball-usa-nba/69781566-portland-trail-blazers-v-houston-rockets/\n",
      "https://www.ladbrokes.com.au/sports/basketball/69772480-basketball-usa-nba/69781602-sacramento-kings-v-golden-state-warriors/\n"
     ]
    }
   ],
   "source": [
    "for link in links:\n",
    "    print(link)"
   ]
  }
 ],
 "metadata": {
  "kernelspec": {
   "display_name": "Python 3",
   "language": "python",
   "name": "python3"
  },
  "language_info": {
   "codemirror_mode": {
    "name": "ipython",
    "version": 3
   },
   "file_extension": ".py",
   "mimetype": "text/x-python",
   "name": "python",
   "nbconvert_exporter": "python",
   "pygments_lexer": "ipython3",
   "version": "3.6.3"
  }
 },
 "nbformat": 4,
 "nbformat_minor": 2
}

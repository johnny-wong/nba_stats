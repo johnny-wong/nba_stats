{
 "cells": [
  {
   "cell_type": "markdown",
   "metadata": {},
   "source": [
    "https://www.youtube.com/watch?v=bhYulVzYRng\n"
   ]
  },
  {
   "cell_type": "code",
   "execution_count": 1,
   "metadata": {
    "collapsed": true
   },
   "outputs": [],
   "source": [
    "from selenium import webdriver"
   ]
  },
  {
   "cell_type": "markdown",
   "metadata": {},
   "source": [
    "See if this url changes day to day\n",
    "\n",
    "https://www.ladbrokes.com.au/sports/basketball/69460051-basketball-usa-nba/"
   ]
  },
  {
   "cell_type": "code",
   "execution_count": null,
   "metadata": {
    "collapsed": true
   },
   "outputs": [],
   "source": [
    "chrome_path = r\"C:\\Users\\johnn\\chromedriver\\chromedriver.exe\"\n",
    "url = \"https://www.ladbrokes.com.au/\""
   ]
  },
  {
   "cell_type": "code",
   "execution_count": 78,
   "metadata": {},
   "outputs": [
    {
     "name": "stdout",
     "output_type": "stream",
     "text": [
      "['https://www.ladbrokes.com.au/sports/basketball/69735267-basketball-usa-nba/69735267-cleveland-cavaliers-v-utah-jazz/', 'https://www.ladbrokes.com.au/sports/basketball/69735267-basketball-usa-nba/69735283-chicago-bulls-v-indiana-pacers/', 'https://www.ladbrokes.com.au/sports/basketball/69735267-basketball-usa-nba/69735282-miami-heat-v-washington-wizards/', 'https://www.ladbrokes.com.au/sports/basketball/69735267-basketball-usa-nba/69490128-boston-celtics-v-dallas-mavericks/', 'https://www.ladbrokes.com.au/sports/basketball/69735267-basketball-usa-nba/69735308-minnesota-timberwolves-v-orlando-magic/', 'https://www.ladbrokes.com.au/sports/basketball/69735267-basketball-usa-nba/69735333-milwaukee-bucks-v-atlanta-hawks/', 'https://www.ladbrokes.com.au/sports/basketball/69735267-basketball-usa-nba/69735327-phoenix-suns-v-los-angeles-clippers/', 'https://www.ladbrokes.com.au/sports/basketball/69735267-basketball-usa-nba/69735364-portland-trail-blazers-v-oklahoma-city-thunder/']\n"
     ]
    }
   ],
   "source": [
    "driver = webdriver.Chrome(chrome_path)\n",
    "driver.get(url)\n",
    "driver.find_element_by_xpath(\"\"\"//*[@id=\"sideNavQuickLinks\"]/ul/li[4]/a/span\"\"\").click()\n",
    "\n",
    "boxes = driver.find_elements_by_class_name(\"fullbox-hdr\")\n",
    "promos = driver.find_elements_by_class_name(\"promotional-market\")\n",
    "promos_txt = [promo.text for promo in promos]\n",
    "\n",
    "games = [box for box in boxes if 'BASKETBALL USA' in box.text]\n",
    "links = []\n",
    "\n",
    "for game in games:\n",
    "    try:\n",
    "        link = game.find_element_by_tag_name(\"a\")\n",
    "        links.append(link.get_attribute('href'))\n",
    "    except:\n",
    "        None\n",
    "\n",
    "driver.close()"
   ]
  },
  {
   "cell_type": "code",
   "execution_count": 79,
   "metadata": {},
   "outputs": [
    {
     "name": "stdout",
     "output_type": "stream",
     "text": [
      "https://www.ladbrokes.com.au/sports/basketball/69735267-basketball-usa-nba/69735267-cleveland-cavaliers-v-utah-jazz/\n",
      "https://www.ladbrokes.com.au/sports/basketball/69735267-basketball-usa-nba/69735283-chicago-bulls-v-indiana-pacers/\n",
      "https://www.ladbrokes.com.au/sports/basketball/69735267-basketball-usa-nba/69735282-miami-heat-v-washington-wizards/\n",
      "https://www.ladbrokes.com.au/sports/basketball/69735267-basketball-usa-nba/69490128-boston-celtics-v-dallas-mavericks/\n",
      "https://www.ladbrokes.com.au/sports/basketball/69735267-basketball-usa-nba/69735308-minnesota-timberwolves-v-orlando-magic/\n",
      "https://www.ladbrokes.com.au/sports/basketball/69735267-basketball-usa-nba/69735333-milwaukee-bucks-v-atlanta-hawks/\n",
      "https://www.ladbrokes.com.au/sports/basketball/69735267-basketball-usa-nba/69735327-phoenix-suns-v-los-angeles-clippers/\n",
      "https://www.ladbrokes.com.au/sports/basketball/69735267-basketball-usa-nba/69735364-portland-trail-blazers-v-oklahoma-city-thunder/\n"
     ]
    }
   ],
   "source": [
    "for link in links:\n",
    "    print(link)"
   ]
  }
 ],
 "metadata": {
  "kernelspec": {
   "display_name": "Python 3",
   "language": "python",
   "name": "python3"
  },
  "language_info": {
   "codemirror_mode": {
    "name": "ipython",
    "version": 3
   },
   "file_extension": ".py",
   "mimetype": "text/x-python",
   "name": "python",
   "nbconvert_exporter": "python",
   "pygments_lexer": "ipython3",
   "version": "3.6.3"
  }
 },
 "nbformat": 4,
 "nbformat_minor": 2
}

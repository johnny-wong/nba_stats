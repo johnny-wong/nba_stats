{
 "cells": [
  {
   "cell_type": "markdown",
   "metadata": {},
   "source": [
    "https://www.youtube.com/watch?v=bhYulVzYRng\n"
   ]
  },
  {
   "cell_type": "code",
   "execution_count": null,
   "metadata": {
    "collapsed": true
   },
   "outputs": [],
   "source": [
    "from selenium import webdriver\n",
    "from selenium.webdriver.common.keys import Keys\n",
    "import datetime as dt\n",
    "import re\n",
    "import time"
   ]
  },
  {
   "cell_type": "code",
   "execution_count": null,
   "metadata": {
    "collapsed": true
   },
   "outputs": [],
   "source": [
    "def get_links_LB(date=dt.date.today().strftime(\"%d/%m/%Y\"),\n",
    "                 chrome_path=r\"C:\\Users\\johnn\\chromedriver\\chromedriver.exe\",\n",
    "                 url = \"https://www.ladbrokes.com.au/sports/basketball/69460051-basketball-usa-nba/\"):\n",
    "    '''\n",
    "    Goes through ladbroke's NBA games page and returns a list of links to all open markets.\n",
    "    '''\n",
    "    driver = webdriver.Chrome(chrome_path)\n",
    "    driver.get(url)\n",
    "\n",
    "    boxes = driver.find_elements_by_class_name(\"fullbox\")\n",
    "    \n",
    "    # Filter out promotional markets\n",
    "    games = [box for box in boxes if 'BASKETBALL USA' in box.text]\n",
    "    links = []\n",
    "\n",
    "    \n",
    "    for game in games:\n",
    "        # filter out games not in today\n",
    "        table = game.find_element_by_tag_name('table')\n",
    "        if date not in table.text:\n",
    "            # Not today\n",
    "            continue\n",
    "\n",
    "        elif 'Phone Betting Only' in table.text:\n",
    "            # Today but already started\n",
    "            continue\n",
    "        \n",
    "        try:\n",
    "            link = game.find_element_by_tag_name(\"a\")\n",
    "            links.append(link.get_attribute('href'))\n",
    "        except:\n",
    "            None\n",
    "\n",
    "    driver.close()\n",
    "    \n",
    "    return links"
   ]
  },
  {
   "cell_type": "code",
   "execution_count": null,
   "metadata": {
    "collapsed": true
   },
   "outputs": [],
   "source": [
    "links = get_links_LB()"
   ]
  },
  {
   "cell_type": "code",
   "execution_count": null,
   "metadata": {},
   "outputs": [],
   "source": [
    "for link in links:\n",
    "    teams = re.search(r'nba/\\d+-(.*)-v-(.*)/$', link)\n",
    "    home_team = teams.group(1)\n",
    "    away_team = teams.group(2)\n",
    "    print(link)\n",
    "    print('Home team {}'.format(home_team))\n",
    "    print('Away team {}\\n'.format(away_team))"
   ]
  },
  {
   "cell_type": "code",
   "execution_count": null,
   "metadata": {
    "collapsed": true
   },
   "outputs": [],
   "source": [
    "def get_player_markets_LB(link,\n",
    "                         chrome_path=r\"C:\\Users\\johnn\\chromedriver\\chromedriver.exe\"):\n",
    "    '''\n",
    "    Returns a list of strings parsed from ladbrokes player markets.\n",
    "    '''\n",
    "    driver = webdriver.Chrome(chrome_path)\n",
    "    driver.get(link)\n",
    "\n",
    "    # markets = driver.find_elements_by_class_name('additional-market-description')\n",
    "    markets = driver.find_elements_by_class_name('additional-market')\n",
    "    markets_of_interest = [\n",
    "        'Total Points',\n",
    "        'Total Rebounds',\n",
    "        'Total Assists'\n",
    "    ]\n",
    "\n",
    "    main_markets = [market for market in markets if re.search(r'Total (Points|Rebounds|Assists)$', market.text)]\n",
    "\n",
    "    # Scroll to top so that the first box isn't hidden by ladbrokes's ribbon\n",
    "    driver.find_element_by_tag_name('body').send_keys(Keys.CONTROL + Keys.HOME)\n",
    "    time.sleep(1) # Wait for page to finish scrolling\n",
    "\n",
    "    # Click on all markets of interest so that their odds appear and record what the odds are\n",
    "    market_list = []\n",
    "    prev_market_text = '' # There seems to be triples of every market for some reason\n",
    "    for market in main_markets:\n",
    "        market.click()\n",
    "        time.sleep(1)\n",
    "        market_text = market.text\n",
    "\n",
    "        if market_text == prev_market_text:\n",
    "            # Checks if \n",
    "            continue\n",
    "        else:\n",
    "            market_list.append(market_text)\n",
    "            prev_market_text = market_text\n",
    "\n",
    "    driver.close()\n",
    "    return market_list"
   ]
  },
  {
   "cell_type": "code",
   "execution_count": null,
   "metadata": {
    "collapsed": true
   },
   "outputs": [],
   "source": [
    "link = links[0]\n",
    "market_list = get_player_markets_LB(link)"
   ]
  },
  {
   "cell_type": "code",
   "execution_count": null,
   "metadata": {},
   "outputs": [],
   "source": [
    "market_list"
   ]
  },
  {
   "cell_type": "code",
   "execution_count": null,
   "metadata": {},
   "outputs": [],
   "source": [
    "odds_str = market_list[8]\n",
    "odds_str"
   ]
  },
  {
   "cell_type": "code",
   "execution_count": null,
   "metadata": {},
   "outputs": [],
   "source": [
    "re_name = r'^(.*) Total '\n",
    "re.search(re_name, odds_str).group(1)"
   ]
  },
  {
   "cell_type": "code",
   "execution_count": null,
   "metadata": {},
   "outputs": [],
   "source": [
    "re_stat = r' Total (.+)\\n'\n",
    "re.search(re_stat, odds_str).group(1)"
   ]
  },
  {
   "cell_type": "code",
   "execution_count": null,
   "metadata": {},
   "outputs": [],
   "source": [
    "re_baseline = r'Over \\((\\d+\\.5)\\)'\n",
    "re.search(re_baseline, odds_str).group(1)"
   ]
  },
  {
   "cell_type": "code",
   "execution_count": null,
   "metadata": {},
   "outputs": [],
   "source": [
    "re_odds_over = r'\\n(\\d+.*)\\n'\n",
    "float(re.search(re_odds_over, odds_str).group(1))"
   ]
  },
  {
   "cell_type": "code",
   "execution_count": null,
   "metadata": {},
   "outputs": [],
   "source": [
    "re_odds_under = r'\\n(\\d+.*)$'\n",
    "float(re.search(re_odds_under, odds_str).group(1))"
   ]
  },
  {
   "cell_type": "code",
   "execution_count": null,
   "metadata": {
    "collapsed": true
   },
   "outputs": [],
   "source": [
    "class PlayerMarket():\n",
    "    def __init__(self, exchange, player, stat, baseline, odds_over, odds_under):\n",
    "        self.exchange = exchange\n",
    "        self.player = player\n",
    "        self.stat = stat\n",
    "        self.baseline = baseline\n",
    "        self.odds_over = odds_over\n",
    "        self.odds_under = odds_under\n",
    "    \n",
    "    def get_exchange(self):\n",
    "        return self.exchange\n",
    "    \n",
    "    def get_player(self):\n",
    "        return self.player\n",
    "    \n",
    "    def get_stat(self):\n",
    "        return self.stat\n",
    "    \n",
    "    def get_baseline(self):\n",
    "        return self.baseline\n",
    "    \n",
    "    def get_odds_over(self):\n",
    "        return self.odds_over\n",
    "    \n",
    "    def get_odds_under(self):\n",
    "        return self.odds_under\n",
    "\n",
    "    def __repr__(self):\n",
    "        string_repr = '{} - {}\\nOver {:^5}Under {:^4}\\n{:^10}{:^10}'.format(\n",
    "            self.get_player(), self.get_stat(),\n",
    "            self.get_baseline(), self.get_baseline(),\n",
    "            self.get_odds_over(), self.get_odds_under())\n",
    "        return string_repr\n",
    "\n",
    "    def __string__(self):\n",
    "        return self.__repr__()"
   ]
  },
  {
   "cell_type": "code",
   "execution_count": null,
   "metadata": {
    "collapsed": true
   },
   "outputs": [],
   "source": [
    "class PlayerMarketLadbrokes(PlayerMarket):\n",
    "    def __init__(self, odds_str):\n",
    "        '''\n",
    "        Parses the string output scraped from sportsbet website and creates a PlayerMarket instance\n",
    "        String of format:\n",
    "        'Reggie Jackson Total Assists\\nOver (4.5)\\n1.87\\nUnder (4.5)\\n1.87'\n",
    "        '''\n",
    "        # Converts all names to format I have in NBA_Stats\n",
    "        player_name_dict = {\n",
    "            }\n",
    "        # Converts all stat headings to format I have in NBA_Stats\n",
    "        stat_dict = {\n",
    "            'Points':'PTS',\n",
    "            'Rebounds':'REB',\n",
    "            'Assists':'AST'\n",
    "            }\n",
    "        \n",
    "        # Name\n",
    "        re_name = r'^(.*) Total '\n",
    "        name = re.search(re_name, odds_str).group(1)\n",
    "        \n",
    "        name = re.sub(r' Jr(\\s|$)', ' Jr.', name) # Replace Jr with Jr.\n",
    "        if name in player_name_dict.keys():\n",
    "            # Replace ladbrokes' name with nba_stats\n",
    "            player = player_name_dict[name]\n",
    "        else:\n",
    "            player = name\n",
    "\n",
    "        # Stat\n",
    "        re_stat = r' Total (.+)\\n'\n",
    "        stat = re.search(re_stat, odds_str).group(1)\n",
    "        stat_NBA = stat_dict[stat]\n",
    "\n",
    "        # Baseline\n",
    "        re_baseline = r'Over \\((\\d+\\.5)\\)'\n",
    "        baseline = re.search(re_baseline, odds_str).group(1)\n",
    "        baseline_num = float(baseline)\n",
    "\n",
    "        # Odds over\n",
    "        re_odds_over = r'\\n(\\d+.*)\\n'\n",
    "        odds_over = re.search(re_odds_over, odds_str).group(1)\n",
    "        odds_over_num = float(odds_over)\n",
    "        \n",
    "        # Odds under\n",
    "        re_odds_under = r'\\n(\\d+.*)$'\n",
    "        odds_under = re.search(re_odds_under, odds_str).group(1)\n",
    "        odds_under_num = float(odds_under)\n",
    "        \n",
    "        PlayerMarket.__init__(self, 'sportsbet', \n",
    "                             player, stat_NBA,\n",
    "                             baseline_num, odds_over_num, \n",
    "                              odds_under_num)\n",
    "        return None"
   ]
  }
 ],
 "metadata": {
  "kernelspec": {
   "display_name": "Python 3",
   "language": "python",
   "name": "python3"
  },
  "language_info": {
   "codemirror_mode": {
    "name": "ipython",
    "version": 3
   },
   "file_extension": ".py",
   "mimetype": "text/x-python",
   "name": "python",
   "nbconvert_exporter": "python",
   "pygments_lexer": "ipython3",
   "version": "3.6.3"
  }
 },
 "nbformat": 4,
 "nbformat_minor": 2
}

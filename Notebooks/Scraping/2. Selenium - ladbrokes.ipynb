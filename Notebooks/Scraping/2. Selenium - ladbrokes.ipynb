{
 "cells": [
  {
   "cell_type": "markdown",
   "metadata": {},
   "source": [
    "https://www.youtube.com/watch?v=bhYulVzYRng\n"
   ]
  },
  {
   "cell_type": "code",
   "execution_count": 20,
   "metadata": {
    "collapsed": true
   },
   "outputs": [],
   "source": [
    "from selenium import webdriver\n",
    "from selenium.webdriver.common.keys import Keys\n",
    "import pdb\n",
    "import datetime as dt\n",
    "import re\n",
    "import time"
   ]
  },
  {
   "cell_type": "code",
   "execution_count": 4,
   "metadata": {},
   "outputs": [],
   "source": [
    "def get_links_LB(date=dt.date.today().strftime(\"%d/%m/%Y\"),\n",
    "                 chrome_path=r\"C:\\Users\\johnn\\chromedriver\\chromedriver.exe\",\n",
    "                 url = \"https://www.ladbrokes.com.au/sports/basketball/69460051-basketball-usa-nba/\"):\n",
    "    '''\n",
    "    Goes through ladbroke's NBA games page and returns a list of links to all open markets.\n",
    "    '''\n",
    "    driver = webdriver.Chrome(chrome_path)\n",
    "    driver.get(url)\n",
    "\n",
    "    boxes = driver.find_elements_by_class_name(\"fullbox\")\n",
    "    \n",
    "    # Filter out promotional markets\n",
    "    games = [box for box in boxes if 'BASKETBALL USA' in box.text]\n",
    "    links = []\n",
    "\n",
    "    \n",
    "    for game in games:\n",
    "        # filter out games not in today\n",
    "        table = game.find_element_by_tag_name('table')\n",
    "        if date not in table.text:\n",
    "            # Not today\n",
    "            continue\n",
    "\n",
    "        elif 'Phone Betting Only' in table.text:\n",
    "            # Today but already started\n",
    "            continue\n",
    "        \n",
    "        try:\n",
    "            link = game.find_element_by_tag_name(\"a\")\n",
    "            links.append(link.get_attribute('href'))\n",
    "        except:\n",
    "            None\n",
    "\n",
    "    driver.close()\n",
    "    \n",
    "    return links"
   ]
  },
  {
   "cell_type": "code",
   "execution_count": 5,
   "metadata": {},
   "outputs": [],
   "source": [
    "links = get_links_LB()"
   ]
  },
  {
   "cell_type": "code",
   "execution_count": 6,
   "metadata": {},
   "outputs": [
    {
     "name": "stdout",
     "output_type": "stream",
     "text": [
      "https://www.ladbrokes.com.au/sports/basketball/69781536-basketball-usa-nba/69781566-portland-trail-blazers-v-houston-rockets/\n",
      "https://www.ladbrokes.com.au/sports/basketball/69781536-basketball-usa-nba/69781602-sacramento-kings-v-golden-state-warriors/\n"
     ]
    }
   ],
   "source": [
    "for link in links:\n",
    "    print(link)"
   ]
  },
  {
   "cell_type": "code",
   "execution_count": null,
   "metadata": {
    "collapsed": true
   },
   "outputs": [],
   "source": [
    "link = links[0]\n",
    "\n",
    "chrome_path=r\"C:\\Users\\johnn\\chromedriver\\chromedriver.exe\"\n",
    "\n",
    "driver = webdriver.Chrome(chrome_path)\n",
    "driver.get(link)"
   ]
  },
  {
   "cell_type": "code",
   "execution_count": 21,
   "metadata": {},
   "outputs": [],
   "source": [
    "markets = driver.find_elements_by_class_name('additional-market-description')\n",
    "markets_of_interest = [\n",
    "    'Total Points',\n",
    "    'Total Rebounds',\n",
    "    'Total Assists'\n",
    "]\n",
    "\n",
    "main_markets = [market for market in markets if re.search(r'Total (Points|Rebounds|Assists)$', market.text)]\n",
    "\n",
    "# Scroll to top so that the first box isn't hidden by ladbrokes's ribbon\n",
    "driver.find_element_by_tag_name('body').send_keys(Keys.CONTROL + Keys.HOME)\n",
    "time.sleep(1) # Wait for page to finish scrolling\n",
    "\n",
    "# Click on all markets of interest\n",
    "for market in main_markets:\n",
    "    market.click()\n",
    "    time.sleep(1)\n"
   ]
  },
  {
   "cell_type": "code",
   "execution_count": null,
   "metadata": {
    "collapsed": true
   },
   "outputs": [],
   "source": []
  }
 ],
 "metadata": {
  "kernelspec": {
   "display_name": "Python 3",
   "language": "python",
   "name": "python3"
  },
  "language_info": {
   "codemirror_mode": {
    "name": "ipython",
    "version": 3
   },
   "file_extension": ".py",
   "mimetype": "text/x-python",
   "name": "python",
   "nbconvert_exporter": "python",
   "pygments_lexer": "ipython3",
   "version": "3.6.3"
  }
 },
 "nbformat": 4,
 "nbformat_minor": 2
}

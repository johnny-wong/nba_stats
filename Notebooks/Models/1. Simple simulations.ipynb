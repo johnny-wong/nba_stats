{
 "cells": [
  {
   "cell_type": "code",
   "execution_count": 12,
   "metadata": {
    "collapsed": true
   },
   "outputs": [],
   "source": [
    "import random\n",
    "import matplotlib.pyplot as plt\n",
    "%matplotlib inline\n",
    "import numpy as np"
   ]
  },
  {
   "cell_type": "markdown",
   "metadata": {},
   "source": [
    "# Background\n",
    "Create game simulations as a stochastic tool to estimate stat probabilities:\n",
    "- Points\n",
    "- Rebounds\n",
    "- Assists"
   ]
  },
  {
   "cell_type": "markdown",
   "metadata": {},
   "source": [
    "## Points"
   ]
  },
  {
   "cell_type": "code",
   "execution_count": 8,
   "metadata": {
    "collapsed": true
   },
   "outputs": [],
   "source": [
    "# Simulation parameters\n",
    "n_sim = 100\n",
    "\n",
    "# Player Parameters\n",
    "mu_minutes = 30\n",
    "sigma_minutes = 4\n",
    "\n",
    "lambda_FTA = 5\n",
    "lambda_FGA = 10\n",
    "prop_FG3A = 0.2\n",
    "\n",
    "prop_FG2 = 0.45\n",
    "prop_FG3 = 0.3\n",
    "prop_FT = 0.8\n",
    "\n",
    "pts_list = []\n",
    "\n",
    "for i in range(n_sim):\n",
    "    \n",
    "    # Simulate number of minutes\n",
    "    minutes = random.gauss(mu_minutes, sigma_minutes)\n",
    "    \n",
    "    # Simulate FGA\n",
    "    FG2A = np.random.poisson(lambda_FGA * prop_FG2)\n",
    "    FG3A = np.random.poisson(lambda_FGA * prop_FG3)\n",
    "    FG_FTA = np.random.poisson(lambda_FTA)\n",
    "    \n",
    "    # Simulate FGM\n",
    "    FG2M = np.random.binomial(FG2A, prop_FG2)\n",
    "    FG3M = np.random.binomial(FG3A, prop_FG3)\n",
    "    FTM = np.random.binomial(FG_FTA, prop_FT)\n",
    "    \n",
    "    # Calculate points\n",
    "    total_points = FG2M * 2 + FG3M * 3 + FTM\n",
    "    \n",
    "    pts_list.append(total_points)"
   ]
  },
  {
   "cell_type": "code",
   "execution_count": 13,
   "metadata": {},
   "outputs": [
    {
     "data": {
      "text/plain": [
       "(array([  3.,  15.,  29.,  15.,  16.,  12.,   8.,   1.,   0.,   1.]),\n",
       " array([  1. ,   3.8,   6.6,   9.4,  12.2,  15. ,  17.8,  20.6,  23.4,\n",
       "         26.2,  29. ]),\n",
       " <a list of 10 Patch objects>)"
      ]
     },
     "execution_count": 13,
     "metadata": {},
     "output_type": "execute_result"
    },
    {
     "data": {
      "image/png": "[encoded data removed]",
      "text/plain": [
       "<matplotlib.figure.Figure at 0x1d7004a8b00>"
      ]
     },
     "metadata": {},
     "output_type": "display_data"
    }
   ],
   "source": [
    "plt.hist(pts_list)"
   ]
  }
 ],
 "metadata": {
  "kernelspec": {
   "display_name": "Python 3",
   "language": "python",
   "name": "python3"
  },
  "language_info": {
   "codemirror_mode": {
    "name": "ipython",
    "version": 3
   },
   "file_extension": ".py",
   "mimetype": "text/x-python",
   "name": "python",
   "nbconvert_exporter": "python",
   "pygments_lexer": "ipython3",
   "version": "3.6.3"
  }
 },
 "nbformat": 4,
 "nbformat_minor": 2
}

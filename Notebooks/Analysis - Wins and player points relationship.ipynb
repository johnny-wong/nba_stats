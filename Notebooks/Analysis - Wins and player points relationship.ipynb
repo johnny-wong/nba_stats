{
 "cells": [
  {
   "cell_type": "code",
   "execution_count": 1,
   "metadata": {},
   "outputs": [],
   "source": [
    "import sys\n",
    "import os\n",
    "import matplotlib.pyplot as plt\n",
    "% matplotlib inline\n",
    "import pickle\n",
    "# Import class\n",
    "parent_dir = os.path.dirname(os.getcwd())\n",
    "class_dir = os.path.join(parent_dir, 'Scripts')\n",
    "sys.path.insert(0, class_dir)\n",
    "import NBAStats\n",
    "import numpy as np\n",
    "import datetime as dt\n",
    "import pandas as pd"
   ]
  },
  {
   "cell_type": "code",
   "execution_count": 66,
   "metadata": {
    "collapsed": true
   },
   "outputs": [],
   "source": [
    "from statsmodels.stats.proportion import proportions_ztest"
   ]
  },
  {
   "cell_type": "code",
   "execution_count": 2,
   "metadata": {},
   "outputs": [
    {
     "name": "stdout",
     "output_type": "stream",
     "text": [
      "C:\\Users\\johnn\\Desktop\\github\\nba_stats\\Data\\nba_stats.pickle\n"
     ]
    }
   ],
   "source": [
    "parent_dir = os.path.dirname(os.getcwd())\n",
    "stats_file = os.path.join(parent_dir, 'Data', 'nba_stats.pickle')\n",
    "print(stats_file)\n",
    "nba_stats = pickle.load(open(stats_file, 'rb'))"
   ]
  },
  {
   "cell_type": "code",
   "execution_count": 3,
   "metadata": {
    "collapsed": true
   },
   "outputs": [],
   "source": [
    "def get_player_df(nba_stats, player, player_id=False):\n",
    "    ''' Get the dataframe containing info on referenced player. If player_id=True, player id given instead of name'''\n",
    "    if player_id:\n",
    "        if player not in nba_stats.get_player_stats().keys():\n",
    "            raise ValueError('player_id {} not found'.format(player))\n",
    "        \n",
    "        return nba_stats.get_player_stats()[player].sort_index(ascending=False)\n",
    "    else:\n",
    "        if player not in nba_stats.get_player_name_id_dict().keys():\n",
    "            raise ValueError('player name {} not found'.format(player))\n",
    "        \n",
    "        return nba_stats.get_player_stats()[nba_stats.get_player_name_id_dict()[player]].sort_index(ascending=False)"
   ]
  },
  {
   "cell_type": "code",
   "execution_count": 10,
   "metadata": {
    "collapsed": true
   },
   "outputs": [],
   "source": [
    "def player_df_convert_numeric(player_df):\n",
    "    ''' Returns a dataframe that converts relevant columns to numeric \n",
    "    Columns converted:\n",
    "    MIN\n",
    "    '''\n",
    "    player_df['MIN'] = player_df['MIN'].apply(\n",
    "        lambda str_min: int(str_min[:-3]) + int(str_min[-2:])/60.0 if str_min is not None else 0 )\n",
    "\n",
    "    return player_df"
   ]
  },
  {
   "cell_type": "markdown",
   "metadata": {},
   "source": [
    "# Motivation\n",
    "\n",
    "Bet on the spread between the team's winning odds and the player points odds. If we can find a significant relationship between how much a player scores and the result of the game, we can capture deviations from the implied probabilities. Suppose in the case below, it seems like the probability that James Harden scores more than 25.5 points is significantly higher for wins that for losses.\n",
    "\n",
    "Using this, we can work out our theo probability based off the game's implied probability. We can then either back the player and lay the team or vice versa (assuming there is a positive relationship). Although this probability can be reversed (working out team's odds based on player's odds), the spread for the team odds would be much tighter, and with more turnover, it is likely to be more accurate.\n",
    "\n",
    "Suppose we back the player and lay the team. What we are essentially betting on is either the team is overpriced or the player is underpriced. More likely than not, the player is underpriced. The worst case scenario here is that the team wins and the player doesn't score the baseline."
   ]
  },
  {
   "cell_type": "markdown",
   "metadata": {},
   "source": [
    "## Use\n",
    "From what I've seen, there doesn't seem to be a very active market in the player points market. So I might try to use this as a market making tool."
   ]
  },
  {
   "cell_type": "code",
   "execution_count": 123,
   "metadata": {},
   "outputs": [
    {
     "data": {
      "image/png": "[encoded data removed]",
      "text/plain": [
       "<matplotlib.figure.Figure at 0x1d9adc22710>"
      ]
     },
     "metadata": {},
     "output_type": "display_data"
    }
   ],
   "source": [
    "player_name = 'James Harden'\n",
    "stat = 'PTS'\n",
    "baseline = 25.5\n",
    "team_win_IP = 0.8\n",
    "\n",
    "player_df = get_player_df(nba_stats, player_name)\n",
    "player_df = player_df_convert_numeric(player_df)\n",
    "player_df_played = player_df[player_df.MIN > 0]\n",
    "player_df_past_100 = player_df_played.head(100)\n",
    "\n",
    "# Merge each game with outcome\n",
    "df_games = nba_stats.get_games()\n",
    "player_df_past_100_wl = player_df_past_100.merge(df_games[['GAME_ID', 'TEAM_ID', 'WL']])\n",
    "stat_win = player_df_past_100_wl[player_df_past_100_wl['WL'] == 'W'][stat]\n",
    "stat_lose = player_df_past_100_wl[player_df_past_100_wl['WL'] == 'L'][stat]\n",
    "\n",
    "stat_win.plot(kind='hist', density=True, alpha=0.5, color='green')\n",
    "stat_lose.plot(kind='hist', density=True, alpha=0.5, color='red')\n",
    "\n",
    "# plot baseline\n",
    "plt.axvline(x=baseline, color='black')\n",
    "\n",
    "# Calculate proportions\n",
    "n_over_baseline_win = len(stat_win[stat_win>baseline])\n",
    "n_over_baseline_lose = len(stat_lose[stat_lose>baseline])\n",
    "\n",
    "n_win = len(stat_win)\n",
    "n_lose = len(stat_lose)\n",
    "n = n_win + n_lose\n",
    "\n",
    "pr_over_baseline_win = n_over_baseline_win/n_win\n",
    "pr_over_baseline_lose = n_over_baseline_lose/n_lose\n",
    "\n",
    "# Conduct hypothesis test\n",
    "counts = [n_over_baseline_win, n_over_baseline_lose]\n",
    "nobs = [n_win, n_lose]\n",
    "\n",
    "test_stat, pval = proportions_ztest(counts, nobs)\n",
    "\n",
    "plt.title('Significance {:3.2f}\\n {:2.0%} win, {:2.0%} lose'.format(pval, pr_over_baseline_win,\n",
    "                                                                  pr_over_baseline_lose))\n",
    "plt.xlabel('PTS')\n",
    "\n",
    "theo_player_base_pr = team_win_IP * pr_over_baseline_win + (1-team_win_IP) * pr_over_baseline_lose\n"
   ]
  },
  {
   "cell_type": "code",
   "execution_count": 124,
   "metadata": {},
   "outputs": [
    {
     "data": {
      "text/plain": [
       "0.7365079365079364"
      ]
     },
     "execution_count": 124,
     "metadata": {},
     "output_type": "execute_result"
    }
   ],
   "source": [
    "theo_player_base_pr"
   ]
  }
 ],
 "metadata": {
  "kernelspec": {
   "display_name": "Python 3",
   "language": "python",
   "name": "python3"
  },
  "language_info": {
   "codemirror_mode": {
    "name": "ipython",
    "version": 3
   },
   "file_extension": ".py",
   "mimetype": "text/x-python",
   "name": "python",
   "nbconvert_exporter": "python",
   "pygments_lexer": "ipython3",
   "version": "3.6.3"
  }
 },
 "nbformat": 4,
 "nbformat_minor": 2
}

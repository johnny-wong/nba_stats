{
 "cells": [
  {
   "cell_type": "code",
   "execution_count": 1,
   "metadata": {
    "collapsed": true
   },
   "outputs": [],
   "source": [
    "import sys\n",
    "import os\n",
    "import matplotlib.pyplot as plt\n",
    "% matplotlib inline\n",
    "import pickle\n",
    "# Import class\n",
    "parent_dir = os.path.dirname(os.getcwd())\n",
    "class_dir = os.path.join(parent_dir, 'Scripts')\n",
    "sys.path.insert(0, class_dir)\n",
    "import NBAStats\n",
    "import numpy as np\n",
    "import datetime as dt\n",
    "import pandas as pd"
   ]
  },
  {
   "cell_type": "code",
   "execution_count": 2,
   "metadata": {
    "collapsed": true
   },
   "outputs": [],
   "source": [
    "from statsmodels.stats.proportion import proportions_ztest"
   ]
  },
  {
   "cell_type": "code",
   "execution_count": 3,
   "metadata": {},
   "outputs": [
    {
     "name": "stdout",
     "output_type": "stream",
     "text": [
      "C:\\Users\\johnn\\Desktop\\github\\nba_stats\\Data\\nba_stats.pickle\n"
     ]
    }
   ],
   "source": [
    "parent_dir = os.path.dirname(os.getcwd())\n",
    "stats_file = os.path.join(parent_dir, 'Data', 'nba_stats.pickle')\n",
    "print(stats_file)\n",
    "nba_stats = pickle.load(open(stats_file, 'rb'))"
   ]
  },
  {
   "cell_type": "code",
   "execution_count": 4,
   "metadata": {
    "collapsed": true
   },
   "outputs": [],
   "source": [
    "def get_player_df(nba_stats, player, player_id=False):\n",
    "    ''' Get the dataframe containing info on referenced player. If player_id=True, player id given instead of name'''\n",
    "    if player_id:\n",
    "        if player not in nba_stats.get_player_stats().keys():\n",
    "            raise ValueError('player_id {} not found'.format(player))\n",
    "        \n",
    "        return nba_stats.get_player_stats()[player].sort_index(ascending=False)\n",
    "    else:\n",
    "        if player not in nba_stats.get_player_name_id_dict().keys():\n",
    "            raise ValueError('player name {} not found'.format(player))\n",
    "        \n",
    "        return nba_stats.get_player_stats()[nba_stats.get_player_name_id_dict()[player]].sort_index(ascending=False)"
   ]
  },
  {
   "cell_type": "code",
   "execution_count": 5,
   "metadata": {
    "collapsed": true
   },
   "outputs": [],
   "source": [
    "def player_df_convert_numeric(player_df):\n",
    "    ''' Returns a dataframe that converts relevant columns to numeric \n",
    "    Columns converted:\n",
    "    MIN\n",
    "    '''\n",
    "    player_df['MIN'] = player_df['MIN'].apply(\n",
    "        lambda str_min: int(str_min[:-3]) + int(str_min[-2:])/60.0 if str_min is not None else 0 )\n",
    "\n",
    "    return player_df"
   ]
  },
  {
   "cell_type": "markdown",
   "metadata": {},
   "source": [
    "# Motivation\n",
    "\n",
    "Bet on the spread between the team's winning odds and the player points odds. If we can find a significant relationship between how much a player scores and the result of the game, we can capture deviations from the implied probabilities. Suppose in the case below, it seems like the probability that James Harden scores more than 25.5 points is significantly higher for wins that for losses.\n",
    "\n",
    "Using this, we can work out our theo probability based off the game's implied probability. We can then either back the player and lay the team or vice versa (assuming there is a positive relationship). Although this probability can be reversed (working out team's odds based on player's odds), the spread for the team odds would be much tighter, and with more turnover, it is likely to be more accurate.\n",
    "\n",
    "Suppose we back the player and lay the team. What we are essentially betting on is either the team is overpriced or the player is underpriced. More likely than not, the player is underpriced. The worst case scenario here is that the team wins and the player doesn't score the baseline."
   ]
  },
  {
   "cell_type": "markdown",
   "metadata": {},
   "source": [
    "## Use\n",
    "From what I've seen, there doesn't seem to be a very active market in the player points market. So I might try to use this as a market making tool."
   ]
  },
  {
   "cell_type": "code",
   "execution_count": 60,
   "metadata": {},
   "outputs": [
    {
     "name": "stdout",
     "output_type": "stream",
     "text": [
      "Can back player overs at 3.66 and player unders at 1.375957\n"
     ]
    },
    {
     "data": {
      "text/html": [
       "<div>\n",
       "<style>\n",
       "    .dataframe thead tr:only-child th {\n",
       "        text-align: right;\n",
       "    }\n",
       "\n",
       "    .dataframe thead th {\n",
       "        text-align: left;\n",
       "    }\n",
       "\n",
       "    .dataframe tbody tr th {\n",
       "        vertical-align: top;\n",
       "    }\n",
       "</style>\n",
       "<table border=\"1\" class=\"dataframe\">\n",
       "  <thead>\n",
       "    <tr style=\"text-align: right;\">\n",
       "      <th></th>\n",
       "      <th>Over</th>\n",
       "      <th>Under</th>\n",
       "    </tr>\n",
       "  </thead>\n",
       "  <tbody>\n",
       "    <tr>\n",
       "      <th>Win</th>\n",
       "      <td>0.058322</td>\n",
       "      <td>0.418871</td>\n",
       "    </tr>\n",
       "    <tr>\n",
       "      <th>Lose</th>\n",
       "      <td>0.163280</td>\n",
       "      <td>0.308418</td>\n",
       "    </tr>\n",
       "  </tbody>\n",
       "</table>\n",
       "</div>"
      ],
      "text/plain": [
       "          Over     Under\n",
       "Win   0.058322  0.418871\n",
       "Lose  0.163280  0.308418"
      ]
     },
     "execution_count": 60,
     "metadata": {},
     "output_type": "execute_result"
    },
    {
     "data": {
      "image/png": "[encoded data removed]",
      "text/plain": [
       "<matplotlib.figure.Figure at 0x2144d8998d0>"
      ]
     },
     "metadata": {},
     "output_type": "display_data"
    }
   ],
   "source": [
    "player_name = 'Kyle Kuzma'\n",
    "stat = 'PTS'\n",
    "baseline = 20.5\n",
    "team_opp_odds = (1.89, 2.12) # A tuple containing the odds for the player's team and their opponent\n",
    "past_n_games = 100\n",
    "\n",
    "player_df = get_player_df(nba_stats, player_name)\n",
    "player_df = player_df_convert_numeric(player_df)\n",
    "player_df_played = player_df[player_df.MIN > 0]\n",
    "player_df_past_100 = player_df_played.head(past_n_games)\n",
    "\n",
    "# Merge each game with outcome\n",
    "df_games = nba_stats.get_games()\n",
    "player_df_past_100_wl = player_df_past_100.merge(df_games[['GAME_ID', 'TEAM_ID', 'WL']])\n",
    "stat_win = player_df_past_100_wl[player_df_past_100_wl['WL'] == 'W'][stat]\n",
    "stat_lose = player_df_past_100_wl[player_df_past_100_wl['WL'] == 'L'][stat]\n",
    "\n",
    "stat_win.plot(kind='hist', density=True, alpha=0.5, color='green')\n",
    "stat_lose.plot(kind='hist', density=True, alpha=0.5, color='red')\n",
    "\n",
    "# plot baseline\n",
    "plt.axvline(x=baseline, color='black')\n",
    "\n",
    "# Calculate proportions\n",
    "n_over_baseline_win = len(stat_win[stat_win>baseline])\n",
    "n_over_baseline_lose = len(stat_lose[stat_lose>baseline])\n",
    "\n",
    "n_win = len(stat_win)\n",
    "n_lose = len(stat_lose)\n",
    "n = n_win + n_lose\n",
    "\n",
    "pr_over_baseline_win = n_over_baseline_win/n_win\n",
    "pr_over_baseline_lose = n_over_baseline_lose/n_lose\n",
    "\n",
    "# Conduct hypothesis test\n",
    "counts = [n_over_baseline_win, n_over_baseline_lose]\n",
    "nobs = [n_win, n_lose]\n",
    "\n",
    "test_stat, pval = proportions_ztest(counts, nobs)\n",
    "\n",
    "plt.title('Significance {:3.2f}\\n {:2.0%} over if win, {:2.0%} over if lose'.format(pval, pr_over_baseline_win,\n",
    "                                                                  pr_over_baseline_lose))\n",
    "plt.xlabel('PTS')\n",
    "\n",
    "team_win_IP = 1/float(team_opp_odds[0])\n",
    "team_lose_IP = 1/float(team_opp_odds[1])\n",
    "\n",
    "# If I want to back the player to score over, I have to back the opponent's team\n",
    "theo_player_over_pr = (1-team_lose_IP) * pr_over_baseline_win + (team_lose_IP) * pr_over_baseline_lose\n",
    "\n",
    "# If I want to back the player to score under, I have to back the player's team\n",
    "theo_player_under_pr = 1 - ((team_win_IP) * pr_over_baseline_win + (1-team_win_IP) * pr_over_baseline_lose)\n",
    "\n",
    "# Print conclusion\n",
    "print('Can back player overs at {:.2f} and player unders at {:2f}'.format(1/theo_player_over_pr,\n",
    "                                                                         1/theo_player_under_pr))\n",
    "\n",
    "df_IP = pd.DataFrame({'Under':[team_win_IP * (1-pr_over_baseline_win), \n",
    "                                          team_lose_IP * (1-pr_over_baseline_lose)],\n",
    "                      'Over':[team_win_IP * team_win_IP * pr_over_baseline_win,\n",
    "                              team_lose_IP * pr_over_baseline_lose]},\n",
    "                    index=['Win', 'Lose'])\n",
    "df_IP\n"
   ]
  },
  {
   "cell_type": "code",
   "execution_count": 61,
   "metadata": {},
   "outputs": [
    {
     "name": "stdout",
     "output_type": "stream",
     "text": [
      "Based on past 100 games empirical\n",
      "Can back over at 3.571429 and unders at 1.388889\n"
     ]
    },
    {
     "data": {
      "image/png": "[encoded data removed]",
      "text/plain": [
       "<matplotlib.figure.Figure at 0x2144d461a58>"
      ]
     },
     "metadata": {},
     "output_type": "display_data"
    }
   ],
   "source": [
    "player_df_past_100['PTS'].plot(kind='hist')\n",
    "plt.axvline(x=baseline, color='black')\n",
    "pr_over_baseline = (n_over_baseline_lose + n_over_baseline_win)/float(n)\n",
    "\n",
    "assert n_over_baseline_lose + n_over_baseline_win == (player_df_past_100['PTS'] > baseline).sum()\n",
    "print('Based on past 100 games empirical\\nCan back over at {:2f} and unders at {:2f}'.format(1/pr_over_baseline,\n",
    "                                                                                            1/(1-pr_over_baseline)))"
   ]
  },
  {
   "cell_type": "code",
   "execution_count": 63,
   "metadata": {},
   "outputs": [
    {
     "data": {
      "text/plain": [
       "<matplotlib.axes._subplots.AxesSubplot at 0x2144d236518>"
      ]
     },
     "execution_count": 63,
     "metadata": {},
     "output_type": "execute_result"
    },
    {
     "data": {
      "image/png": "[encoded data removed]",
      "text/plain": [
       "<matplotlib.figure.Figure at 0x2144da7de48>"
      ]
     },
     "metadata": {},
     "output_type": "display_data"
    }
   ],
   "source": [
    "player_df_past_100.plot(y='PTS')"
   ]
  }
 ],
 "metadata": {
  "kernelspec": {
   "display_name": "Python 3",
   "language": "python",
   "name": "python3"
  },
  "language_info": {
   "codemirror_mode": {
    "name": "ipython",
    "version": 3
   },
   "file_extension": ".py",
   "mimetype": "text/x-python",
   "name": "python",
   "nbconvert_exporter": "python",
   "pygments_lexer": "ipython3",
   "version": "3.6.3"
  }
 },
 "nbformat": 4,
 "nbformat_minor": 2
}

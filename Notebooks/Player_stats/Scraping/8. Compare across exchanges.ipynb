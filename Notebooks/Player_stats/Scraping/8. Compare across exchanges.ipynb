{
 "cells": [
  {
   "cell_type": "code",
   "execution_count": null,
   "metadata": {
    "collapsed": true
   },
   "outputs": [],
   "source": [
    "# Import class\n",
    "import os\n",
    "import sys\n",
    "parent_dir = os.path.dirname(os.path.dirname(os.getcwd()))\n",
    "class_dir = os.path.join(parent_dir, 'Scripts')\n",
    "sys.path.insert(0, class_dir)\n",
    "\n",
    "import player_market_class\n",
    "import scraper\n",
    "import scraper_SB\n",
    "import scraper_LB\n",
    "import pandas as pd\n",
    "import datetime as dt"
   ]
  },
  {
   "cell_type": "markdown",
   "metadata": {},
   "source": [
    "# Motivation\n",
    "Being able to see the best prices across multiple exchanges.\n",
    "* Find arbs\n",
    "* Save manual search\n",
    "\n",
    "# Plan\n",
    "* Get lists of PlayerMarket class items\n",
    "* Write a function to return a consolidated list of the best odds"
   ]
  },
  {
   "cell_type": "code",
   "execution_count": null,
   "metadata": {
    "collapsed": true
   },
   "outputs": [],
   "source": [
    "market_date = dt.date(2019, 1, 20)\n",
    "market_date_LB = market_date.strftime(\"%d/%m/%Y\")\n",
    "market_date_SB = market_date.strftime(\"%d/%m/%y\")"
   ]
  },
  {
   "cell_type": "code",
   "execution_count": null,
   "metadata": {
    "collapsed": true
   },
   "outputs": [],
   "source": [
    "odds_str_SB = scraper_SB.get_all_odds_str(market_date_SB)\n",
    "odds_str_LB = scraper_LB.get_all_odds_str(market_date_LB)"
   ]
  },
  {
   "cell_type": "code",
   "execution_count": null,
   "metadata": {
    "collapsed": true
   },
   "outputs": [],
   "source": [
    "player_markets_LB = []\n",
    "for odds_str in odds_str_LB:\n",
    "    try:\n",
    "        player_markets_LB.append(player_market_class.PlayerMarketLadbrokes(odds_str))\n",
    "    except:\n",
    "        continue\n",
    "\n",
    "player_markets_SB = []\n",
    "for odds_str in odds_str_SB:\n",
    "    try:\n",
    "        player_markets_SB.append(player_market_class.PlayerMarketSportsBet(odds_str))\n",
    "    except:\n",
    "        continue"
   ]
  },
  {
   "cell_type": "code",
   "execution_count": null,
   "metadata": {},
   "outputs": [],
   "source": [
    "best_markets = scraper.get_best_markets(player_markets_LB, player_markets_SB)"
   ]
  },
  {
   "cell_type": "markdown",
   "metadata": {},
   "source": [
    "## Arb finder\n",
    "\n",
    "Sort markets by spread, all arbs will be at the top"
   ]
  },
  {
   "cell_type": "code",
   "execution_count": null,
   "metadata": {},
   "outputs": [],
   "source": [
    "# Import class\n",
    "import os\n",
    "import sys\n",
    "parent_dir = os.path.dirname(os.path.dirname(os.getcwd()))\n",
    "class_dir = os.path.join(parent_dir, 'Scripts')\n",
    "sys.path.insert(0, class_dir)\n",
    "import datetime as dt\n",
    "\n",
    "import scraper\n",
    "best_markets = scraper.get_best_player_markets(dt.date(2019, 1, 20))"
   ]
  },
  {
   "cell_type": "code",
   "execution_count": null,
   "metadata": {},
   "outputs": [],
   "source": [
    "bookie_pr_edge_list = []\n",
    "for market in best_markets:\n",
    "    odds_over = market.get_odds_over()\n",
    "    odds_under = market.get_odds_under()\n",
    "    \n",
    "    bookie_pr_edge = 1/float(odds_over) + 1/float(odds_under) - 1\n",
    "    bookie_pr_edge_list.append(bookie_pr_edge)\n",
    "\n",
    "for edge, market in sorted(zip(bookie_pr_edge_list, best_markets), key=lambda t:t[0]):\n",
    "    print('Bookie edge {:.2%}'.format(edge))\n",
    "    print(market, end='\\n\\n')"
   ]
  }
 ],
 "metadata": {
  "kernelspec": {
   "display_name": "Python 3",
   "language": "python",
   "name": "python3"
  },
  "language_info": {
   "codemirror_mode": {
    "name": "ipython",
    "version": 3
   },
   "file_extension": ".py",
   "mimetype": "text/x-python",
   "name": "python",
   "nbconvert_exporter": "python",
   "pygments_lexer": "ipython3",
   "version": "3.6.3"
  }
 },
 "nbformat": 4,
 "nbformat_minor": 2
}

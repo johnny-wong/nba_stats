{
 "cells": [
  {
   "cell_type": "code",
   "execution_count": 1,
   "metadata": {
    "collapsed": true
   },
   "outputs": [],
   "source": [
    "import requests\n",
    "import datetime as dt\n",
    "import time"
   ]
  },
  {
   "cell_type": "code",
   "execution_count": 4,
   "metadata": {
    "collapsed": true
   },
   "outputs": [],
   "source": [
    "date = dt.date(2019, 1, 9)\n",
    "season_type='Regular Season'\n",
    "season = '2018-19'"
   ]
  },
  {
   "cell_type": "code",
   "execution_count": 9,
   "metadata": {},
   "outputs": [
    {
     "name": "stdout",
     "output_type": "stream",
     "text": [
      "Accessing stats.nba.com for games on 2019-01-09.....Successful\n"
     ]
    }
   ],
   "source": [
    "USER_AGENT=('Mozilla/5.0 (Windows NT 10.0; Win64; x64) ' +\n",
    "    'AppleWebKit/537.36 (KHTML, like Gecko) ' +\n",
    "    'Chrome/70.0.3538.77 Safari/537.36')\n",
    "\n",
    "REQUEST_HEADERS = {'user-agent': USER_AGENT}\n",
    "\n",
    "NBA_ID = '00'\n",
    "NBA_URL = 'https://stats.nba.com/stats/teamgamelogs'\n",
    "date_from = date\n",
    "date_to = date_from\n",
    "date_from_string = date_from.strftime('%m/%d/%Y')\n",
    "date_to_string = date_from_string\n",
    "\n",
    "nba_params = {\n",
    "    'LeagueID': NBA_ID,\n",
    "    'Season': season,\n",
    "    'SeasonType': season_type,\n",
    "    'DateFrom': date_from_string, \n",
    "    'DateTo': date_to_string,\n",
    "    'Outcome': '' # Can set to 'W' or 'L' to just get winners or losers\n",
    "}\n",
    "\n",
    "print('Accessing stats.nba.com for games on {}'.format(date), end='.....')\n",
    "\n",
    "time.sleep(5)\n",
    "r = requests.get(NBA_URL, params=nba_params, headers=REQUEST_HEADERS, \n",
    "    allow_redirects=False, timeout=15)\n",
    "assert r.status_code == 200\n",
    "print('Successful')"
   ]
  },
  {
   "cell_type": "code",
   "execution_count": 15,
   "metadata": {},
   "outputs": [
    {
     "data": {
      "text/plain": [
       "{'DateFrom': '01/09/2019',\n",
       " 'DateTo': '01/09/2019',\n",
       " 'LeagueID': '00',\n",
       " 'Outcome': '',\n",
       " 'Season': '2018-19',\n",
       " 'SeasonType': 'Regular Season'}"
      ]
     },
     "execution_count": 15,
     "metadata": {},
     "output_type": "execute_result"
    }
   ],
   "source": [
    "nba_params"
   ]
  },
  {
   "cell_type": "code",
   "execution_count": 10,
   "metadata": {
    "collapsed": true
   },
   "outputs": [],
   "source": [
    "json_dict = r.json() # Turns the json text into a python dict\n",
    "games_dict = json_dict['resultSets'][0] # Only has one element\n",
    "headers = games_dict['headers']"
   ]
  },
  {
   "cell_type": "code",
   "execution_count": null,
   "metadata": {
    "collapsed": true
   },
   "outputs": [],
   "source": [
    "GAME_ID_COL = headers.index('GAME_ID')\n",
    "DATE_COL = headers.index('GAME_DATE')\n",
    "MATCHUP_COL = headers.index('MATCHUP')\n",
    "games_list = games_dict['rowSet'] # List of list\n",
    "\n",
    "df_games = pd.DataFrame(columns=headers, data=games_list)\n",
    "df_games = df_games[['SEASON_YEAR', 'TEAM_ID', 'TEAM_ABBREVIATION',\n",
    "                     'GAME_ID', 'GAME_DATE', 'MATCHUP', 'WL',\n",
    "                     'PTS']]\n",
    "df_games['HOME_AWAY'] = df_games['MATCHUP'].apply(lambda x: 'HOME' if  'vs.' in x else 'AWAY')\n",
    "\n",
    "# Get the opponent's info\n",
    "df_games['TEAM_ABBREVIATION_OPP'] = df_games['MATCHUP'].apply(lambda x: x[-3:])\n",
    "df_games = pd.merge(df_games, df_games[['TEAM_ID', 'TEAM_ABBREVIATION', 'PTS']], \n",
    "                    left_on='TEAM_ABBREVIATION_OPP', right_on = 'TEAM_ABBREVIATION',\n",
    "                    suffixes=('', '_OPP'))\n",
    "df_games = df_games.rename(columns={'TEAM_ABBREVIATION_OPP': 'OPP_TEAM_ABBREVIATION',\n",
    "                         'PTS_OPP': 'OPP_PTS',\n",
    "                         'TEAM_ID_OPP': 'OPP_TEAM_ID'\n",
    "                        })\n",
    "\n",
    "# Remove duplicate column of 'OPP_TEAM_ABBREVIATION'\n",
    "df_games = df_games.loc[:,~df_games.columns.duplicated()]\n",
    "\n",
    "if len(df_games) == 0:\n",
    "    print('No games on {}'.format(date))"
   ]
  }
 ],
 "metadata": {
  "kernelspec": {
   "display_name": "Python 3",
   "language": "python",
   "name": "python3"
  },
  "language_info": {
   "codemirror_mode": {
    "name": "ipython",
    "version": 3
   },
   "file_extension": ".py",
   "mimetype": "text/x-python",
   "name": "python",
   "nbconvert_exporter": "python",
   "pygments_lexer": "ipython3",
   "version": "3.6.3"
  }
 },
 "nbformat": 4,
 "nbformat_minor": 2
}

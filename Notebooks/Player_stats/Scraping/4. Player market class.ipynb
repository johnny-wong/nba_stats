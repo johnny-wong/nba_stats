{
 "cells": [
  {
   "cell_type": "markdown",
   "metadata": {},
   "source": [
    "# Standardise bets\n",
    "I need a way to view bets from different platforms though the same lense. To do this, I want to create a class with all necessary information about a particular market."
   ]
  },
  {
   "cell_type": "markdown",
   "metadata": {},
   "source": [
    "## PlayerMarket\n",
    "* Exchange\n",
    "* Player\n",
    "* Stat\n",
    "* Baseline\n",
    "* Odds over\n",
    "* Odds under"
   ]
  },
  {
   "cell_type": "code",
   "execution_count": 1,
   "metadata": {
    "collapsed": true
   },
   "outputs": [],
   "source": [
    "import re"
   ]
  },
  {
   "cell_type": "code",
   "execution_count": 2,
   "metadata": {
    "collapsed": true
   },
   "outputs": [],
   "source": [
    "class PlayerMarket():\n",
    "    def __init__(self, exchange, player, stat, baseline, odds_over, odds_under):\n",
    "        self.exchange = exchange\n",
    "        self.player = player\n",
    "        self.stat = stat\n",
    "        self.baseline = baseline\n",
    "        self.odds_over = odds_over\n",
    "        self.odds_under = odds_under\n",
    "    \n",
    "    def get_exchange(self):\n",
    "        return self.exchange\n",
    "    \n",
    "    def get_player(self):\n",
    "        return self.player\n",
    "    \n",
    "    def get_stat(self):\n",
    "        return self.stat\n",
    "    \n",
    "    def get_baseline(self):\n",
    "        return self.baseline\n",
    "    \n",
    "    def get_odds_over(self):\n",
    "        return self.odds_over\n",
    "    \n",
    "    def get_odds_under(self):\n",
    "        return self.odds_under"
   ]
  },
  {
   "cell_type": "code",
   "execution_count": 11,
   "metadata": {
    "collapsed": true
   },
   "outputs": [],
   "source": [
    "class PlayerMarketSportsBet(PlayerMarket):\n",
    "    def __init__(self, odds_str):\n",
    "        '''\n",
    "        Parses the string output scraped from sportsbet website and creates a PlayerMarket instance\n",
    "        String of format:\n",
    "        'Kemba Walker - Points\\nKemba Walker Over (+23.5)\\nKemba Walker Under (+23.5)\\n1.90\\n1.83'\n",
    "        '''\n",
    "        player_name_dict = {} # Converts all names to format I have in NBA_Stats\n",
    "        stat_dict = {'Points':'PTS',\n",
    "                    'Rebounds':'REB',\n",
    "                    'Assists':'AST'}\n",
    "        \n",
    "        re_name = r'(.+) - '\n",
    "        name = re.match(re_name, odds_str).group(1)\n",
    "        if name in player_name_dict.keys():\n",
    "            player = player_name_dict[name]\n",
    "        else:\n",
    "            player = name\n",
    "\n",
    "        re_stat = r' - (.+)\\n'\n",
    "        stat = re.search(re_stat, odds_str).group(1)\n",
    "        stat_NBA = stat_dict[stat]\n",
    "\n",
    "        re_baseline = r'\\+(\\d+\\.5)'\n",
    "        baseline = re.search(re_baseline, odds_str).group(1)\n",
    "        baseline_num = float(baseline)\n",
    "\n",
    "        re_odds_over = r'^(\\d\\.\\d{2})$'\n",
    "        odds_over = re.search(re_odds_over, odds_str, re.M).group(1)\n",
    "        odds_over_num = float(odds_over)\n",
    "        \n",
    "        re_odds_under = r'(\\d\\.\\d{2})$'\n",
    "        odds_under = re.search(re_odds_under, odds_str).group(1)\n",
    "        odds_under_num = float(odds_under)\n",
    "        \n",
    "        PlayerMarket.__init__(self, 'sportsbet', \n",
    "                             player, stat_NBA,\n",
    "                             baseline_num, odds_over_num, \n",
    "                              odds_under_num)\n",
    "        \n",
    "        return None"
   ]
  }
 ],
 "metadata": {
  "kernelspec": {
   "display_name": "Python 3",
   "language": "python",
   "name": "python3"
  },
  "language_info": {
   "codemirror_mode": {
    "name": "ipython",
    "version": 3
   },
   "file_extension": ".py",
   "mimetype": "text/x-python",
   "name": "python",
   "nbconvert_exporter": "python",
   "pygments_lexer": "ipython3",
   "version": "3.6.3"
  }
 },
 "nbformat": 4,
 "nbformat_minor": 2
}

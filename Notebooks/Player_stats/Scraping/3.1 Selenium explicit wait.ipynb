{
 "cells": [
  {
   "cell_type": "code",
   "execution_count": 1,
   "metadata": {
    "collapsed": true
   },
   "outputs": [],
   "source": [
    "from selenium import webdriver\n",
    "from selenium.webdriver.common.keys import Keys\n",
    "import time\n",
    "import datetime as dt\n",
    "import re\n",
    "import pdb"
   ]
  },
  {
   "cell_type": "markdown",
   "metadata": {},
   "source": [
    "Get the links for today's markets"
   ]
  },
  {
   "cell_type": "code",
   "execution_count": 2,
   "metadata": {
    "collapsed": true
   },
   "outputs": [],
   "source": [
    "date=dt.date.today().strftime(\"%d/%m/%y\")\n",
    "chrome_path=r\"C:\\Users\\johnn\\chromedriver\\chromedriver.exe\"\n",
    "url=\"https://www.sportsbet.com.au/betting/basketball-us/nba-matches\"\n",
    "\n",
    "driver = webdriver.Chrome(chrome_path)\n",
    "driver.get(url)\n",
    "\n",
    "games = driver.find_elements_by_class_name(\"linkMultiMarket_fcmecz0\")\n",
    "\n",
    "# Filter for date's games that haven't started already\n",
    "today_games = [game for game in games if date in game.find_element_by_class_name('time_fbgyqei').text]\n",
    "\n",
    "links = [game.get_attribute('href') for game in today_games]\n",
    "driver.close()"
   ]
  },
  {
   "cell_type": "code",
   "execution_count": 3,
   "metadata": {},
   "outputs": [
    {
     "name": "stdout",
     "output_type": "stream",
     "text": [
      "https://www.sportsbet.com.au/betting/basketball-us/nba-matches/los-angeles-lakers-at-indiana-pacers-4499358\n"
     ]
    }
   ],
   "source": [
    "link = links[0]\n",
    "print(link)"
   ]
  },
  {
   "cell_type": "markdown",
   "metadata": {},
   "source": [
    "Go through link and get player markets"
   ]
  },
  {
   "cell_type": "code",
   "execution_count": 6,
   "metadata": {
    "collapsed": true
   },
   "outputs": [],
   "source": [
    "options = webdriver.ChromeOptions()\n",
    "options.add_argument(\"--start-maximized\")\n",
    "\n",
    "driver = webdriver.Chrome(chrome_path, options=options)\n",
    "driver.get(link)\n",
    "\n",
    "markets = driver.find_elements_by_class_name(\"touchArea_fgteabt\")\n",
    "\n",
    "markets_of_interest = ['Top Markets', # To minimise\n",
    "                       'Player Points Markets', \n",
    "                       'Player Rebounds Markets', \n",
    "                       'Player Assists Markets']\n",
    "main_markets = [market for market in markets if market.text in markets_of_interest]\n",
    "\n",
    "for market in main_markets:\n",
    "    market.click()\n",
    "    time.sleep(1)\n",
    "\n",
    "# Find player markets e.g. Donovan Mitchell - Points\n",
    "# Must be maximised windows for class name accordionItemDesktop_f1pa6f05\n",
    "player_markets = driver.find_elements_by_class_name(\"accordionItemDesktop_f1pa6f05\")\n",
    "\n",
    "player_markets_of_interest = ['- Points', '- Rebounds', '- Assists']\n",
    "main_player_markets = [market for market in player_markets if any(\n",
    "    stat in market.text for stat in player_markets_of_interest)]\n",
    "\n",
    "# Scroll to top so that the first box isn't hidden by Sportsbet's ribbon\n",
    "driver.find_element_by_tag_name('body').send_keys(Keys.CONTROL + Keys.HOME)\n",
    "time.sleep(1) # Wait for page to finish scrolling\n",
    "\n",
    "# Open all the markets to see odds and record them\n",
    "market_list = []\n",
    "for player_market in main_player_markets:\n",
    "    player_market.click()\n",
    "    time.sleep(0.5)\n",
    "\n",
    "    market_list.append(player_market.text)"
   ]
  },
  {
   "cell_type": "code",
   "execution_count": 5,
   "metadata": {},
   "outputs": [
    {
     "data": {
      "text/plain": [
       "['LeBron James - Points\\nLeBron James Over (+26.5)\\nLeBron James Under (+26.5)\\n1.87\\n1.86',\n",
       " 'Kyle Kuzma - Points\\nKyle Kuzma Over (+16.5)\\nKyle Kuzma Under (+16.5)\\n1.85\\n1.88',\n",
       " 'Brandon Ingram - Points\\nBrandon Ingram Over (+16.5)\\nBrandon Ingram Under (+16.5)\\n1.74\\n2.01',\n",
       " 'Rajon Rondo - Points\\nRajon Rondo Over (+10.5)\\nRajon Rondo Under (+10.5)\\n2.03\\n1.73',\n",
       " 'Bojan Bogdanovic - Points\\nBojan Bogdanovic Over (+17.5)\\nBojan Bogdanovic Under (+17.5)\\n1.77\\n1.97',\n",
       " 'Darren Collison - Points\\nDarren Collison Over (+13.5)\\nDarren Collison Under (+13.5)\\n1.73\\n2.02',\n",
       " 'Myles Turner - Points\\nMyles Turner Over (+14.5)\\nMyles Turner Under (+14.5)\\n1.98\\n1.77',\n",
       " 'Thaddeus Young - Points\\nThaddeus Young Over (+13.5)\\nThaddeus Young Under (+13.5)\\n1.80\\n1.93',\n",
       " 'Domantas Sabonis - Points\\nDomantas Sabonis Over (+14.5)\\nDomantas Sabonis Under (+14.5)\\n1.78\\n1.95',\n",
       " 'LeBron James - Rebounds\\nLeBron James Over (+7.5)\\nLeBron James Under (+7.5)\\n1.67\\n2.11',\n",
       " 'Kyle Kuzma - Rebounds\\nKyle Kuzma Over (+4.5)\\nKyle Kuzma Under (+4.5)\\n1.66\\n2.13',\n",
       " 'Brandon Ingram - Rebounds\\nBrandon Ingram Over (+4.5)\\nBrandon Ingram Under (+4.5)\\n1.72\\n2.04',\n",
       " 'Rajon Rondo - Rebounds\\nRajon Rondo Over (+5.5)\\nRajon Rondo Under (+5.5)\\n1.91\\n1.83',\n",
       " 'Bojan Bogdanovic - Rebounds\\nBojan Bogdanovic Over (+3.5)\\nBojan Bogdanovic Under (+3.5)\\n1.62\\n2.21',\n",
       " 'Myles Turner - Rebounds\\nMyles Turner Over (+7.5)\\nMyles Turner Under (+7.5)\\n1.69\\n2.08',\n",
       " 'Thaddeus Young - Rebounds\\nThaddeus Young Over (+7.5)\\nThaddeus Young Under (+7.5)\\n2.12\\n1.67',\n",
       " 'Domantas Sabonis - Rebounds\\nDomantas Sabonis Over (+9.5)\\nDomantas Sabonis Under (+9.5)\\n1.81\\n1.92',\n",
       " 'LeBron James - Assists\\nLeBron James Over (+6.5)\\nLeBron James Under (+6.5)\\n1.78\\n1.96',\n",
       " 'Brandon Ingram - Assists\\nBrandon Ingram Over (+2.5)\\nBrandon Ingram Under (+2.5)\\n1.82\\n1.91',\n",
       " 'Rajon Rondo - Assists\\nRajon Rondo Over (+7.5)\\nRajon Rondo Under (+7.5)\\n1.73\\n2.03',\n",
       " 'Darren Collison - Assists\\nDarren Collison Over (+6.5)\\nDarren Collison Under (+6.5)\\n1.71\\n2.05',\n",
       " 'Domantas Sabonis - Assists\\nDomantas Sabonis Over (+2.5)\\nDomantas Sabonis Under (+2.5)\\n1.79\\n1.95']"
      ]
     },
     "execution_count": 5,
     "metadata": {},
     "output_type": "execute_result"
    }
   ],
   "source": [
    "market_list"
   ]
  }
 ],
 "metadata": {
  "kernelspec": {
   "display_name": "Python 3",
   "language": "python",
   "name": "python3"
  },
  "language_info": {
   "codemirror_mode": {
    "name": "ipython",
    "version": 3
   },
   "file_extension": ".py",
   "mimetype": "text/x-python",
   "name": "python",
   "nbconvert_exporter": "python",
   "pygments_lexer": "ipython3",
   "version": "3.6.3"
  }
 },
 "nbformat": 4,
 "nbformat_minor": 2
}

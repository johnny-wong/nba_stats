{
 "cells": [
  {
   "cell_type": "markdown",
   "metadata": {},
   "source": [
    "# Motivation\n",
    "I'm thinking of creating a simulation of players games.\n",
    "- Minutes\n",
    "- Poisson FGA|minutes\n",
    "- Binomial FGM|minutes\n",
    "\n",
    "The first step is to get an idea of how many minutes a player plays in a game"
   ]
  },
  {
   "cell_type": "code",
   "execution_count": 1,
   "metadata": {},
   "outputs": [
    {
     "name": "stdout",
     "output_type": "stream",
     "text": [
      "C:\\Users\\johnn\\Desktop\\github\\nba_stats\\Data\\nba_stats.pickle\n"
     ]
    }
   ],
   "source": [
    "import sys\n",
    "import os\n",
    "import matplotlib.pyplot as plt\n",
    "%matplotlib inline\n",
    "import pickle\n",
    "# Import class\n",
    "parent_dir = os.path.dirname(os.path.dirname(os.getcwd()))\n",
    "class_dir = os.path.join(parent_dir, 'Scripts')\n",
    "sys.path.insert(0, class_dir)\n",
    "import NBAStats\n",
    "import numpy as np\n",
    "import datetime as dt\n",
    "import pandas as pd\n",
    "stats_file = os.path.join(parent_dir, 'Data', 'nba_stats.pickle')\n",
    "print(stats_file)\n",
    "nba_stats = pickle.load(open(stats_file, 'rb'))"
   ]
  },
  {
   "cell_type": "code",
   "execution_count": 2,
   "metadata": {
    "collapsed": true
   },
   "outputs": [],
   "source": [
    "def get_player_df(nba_stats, player, player_id=False):\n",
    "    ''' Get the dataframe containing info on referenced player. If player_id=True, player id given instead of name'''\n",
    "    if player_id:\n",
    "        if player not in nba_stats.get_player_stats().keys():\n",
    "            raise ValueError('player_id {} not found'.format(player))\n",
    "        \n",
    "        return nba_stats.get_player_stats()[player].sort_index(ascending=False)\n",
    "    else:\n",
    "        if player not in nba_stats.get_player_name_id_dict().keys():\n",
    "            raise ValueError('player name {} not found'.format(player))\n",
    "        \n",
    "        return nba_stats.get_player_stats()[nba_stats.get_player_name_id_dict()[player]].sort_index(ascending=False)"
   ]
  },
  {
   "cell_type": "code",
   "execution_count": 3,
   "metadata": {
    "collapsed": true
   },
   "outputs": [],
   "source": [
    "def player_df_convert_numeric(player_df):\n",
    "    ''' Returns a dataframe that converts relevant columns to numeric \n",
    "    Columns converted:\n",
    "    MIN\n",
    "    '''\n",
    "    player_df['MIN'] = player_df['MIN'].apply(\n",
    "        lambda str_min: int(str_min[:-3]) + int(str_min[-2:])/60.0 if str_min is not None else 0 )\n",
    "\n",
    "    return player_df"
   ]
  },
  {
   "cell_type": "code",
   "execution_count": 4,
   "metadata": {},
   "outputs": [
    {
     "name": "stderr",
     "output_type": "stream",
     "text": [
      "C:\\Users\\johnn\\Anaconda3\\lib\\site-packages\\ipykernel_launcher.py:3: SettingWithCopyWarning: \n",
      "A value is trying to be set on a copy of a slice from a DataFrame.\n",
      "Try using .loc[row_indexer,col_indexer] = value instead\n",
      "\n",
      "See the caveats in the documentation: http://pandas.pydata.org/pandas-docs/stable/indexing.html#indexing-view-versus-copy\n",
      "  This is separate from the ipykernel package so we can avoid doing imports until\n"
     ]
    },
    {
     "data": {
      "text/html": [
       "<div>\n",
       "<style>\n",
       "    .dataframe thead tr:only-child th {\n",
       "        text-align: right;\n",
       "    }\n",
       "\n",
       "    .dataframe thead th {\n",
       "        text-align: left;\n",
       "    }\n",
       "\n",
       "    .dataframe tbody tr th {\n",
       "        vertical-align: top;\n",
       "    }\n",
       "</style>\n",
       "<table border=\"1\" class=\"dataframe\">\n",
       "  <thead>\n",
       "    <tr style=\"text-align: right;\">\n",
       "      <th></th>\n",
       "      <th>GAME_ID</th>\n",
       "      <th>TEAM_ID</th>\n",
       "      <th>PTS</th>\n",
       "      <th>OPP_PTS</th>\n",
       "      <th>PTS_DIFF</th>\n",
       "    </tr>\n",
       "  </thead>\n",
       "  <tbody>\n",
       "    <tr>\n",
       "      <th>0</th>\n",
       "      <td>0021800001</td>\n",
       "      <td>1610612738</td>\n",
       "      <td>105</td>\n",
       "      <td>87</td>\n",
       "      <td>18</td>\n",
       "    </tr>\n",
       "    <tr>\n",
       "      <th>1</th>\n",
       "      <td>0021800002</td>\n",
       "      <td>1610612744</td>\n",
       "      <td>108</td>\n",
       "      <td>100</td>\n",
       "      <td>8</td>\n",
       "    </tr>\n",
       "    <tr>\n",
       "      <th>2</th>\n",
       "      <td>0021800002</td>\n",
       "      <td>1610612760</td>\n",
       "      <td>100</td>\n",
       "      <td>108</td>\n",
       "      <td>-8</td>\n",
       "    </tr>\n",
       "    <tr>\n",
       "      <th>3</th>\n",
       "      <td>0021800001</td>\n",
       "      <td>1610612755</td>\n",
       "      <td>87</td>\n",
       "      <td>105</td>\n",
       "      <td>-18</td>\n",
       "    </tr>\n",
       "    <tr>\n",
       "      <th>0</th>\n",
       "      <td>0021800005</td>\n",
       "      <td>1610612763</td>\n",
       "      <td>83</td>\n",
       "      <td>111</td>\n",
       "      <td>-28</td>\n",
       "    </tr>\n",
       "  </tbody>\n",
       "</table>\n",
       "</div>"
      ],
      "text/plain": [
       "      GAME_ID     TEAM_ID  PTS OPP_PTS PTS_DIFF\n",
       "0  0021800001  1610612738  105      87       18\n",
       "1  0021800002  1610612744  108     100        8\n",
       "2  0021800002  1610612760  100     108       -8\n",
       "3  0021800001  1610612755   87     105      -18\n",
       "0  0021800005  1610612763   83     111      -28"
      ]
     },
     "execution_count": 4,
     "metadata": {},
     "output_type": "execute_result"
    }
   ],
   "source": [
    "df_games = nba_stats.get_games()\n",
    "df_games_PTS = df_games[['GAME_ID', 'TEAM_ID', 'PTS', 'OPP_PTS']]\n",
    "df_games_PTS['PTS_DIFF'] = df_games_PTS['PTS'] - df_games_PTS['OPP_PTS']\n",
    "df_games_PTS.head()"
   ]
  },
  {
   "cell_type": "code",
   "execution_count": 5,
   "metadata": {
    "collapsed": true
   },
   "outputs": [],
   "source": [
    "player_name = 'Stephen Curry'\n",
    "player_id = nba_stats.get_player_name_id_dict()[player_name]\n",
    "df_player = player_df_convert_numeric(nba_stats.get_player_stats()[player_id].copy())\n",
    "df_player = df_player[df_player['MIN'] > 0]"
   ]
  },
  {
   "cell_type": "code",
   "execution_count": 6,
   "metadata": {},
   "outputs": [
    {
     "data": {
      "text/html": [
       "<div>\n",
       "<style>\n",
       "    .dataframe thead tr:only-child th {\n",
       "        text-align: right;\n",
       "    }\n",
       "\n",
       "    .dataframe thead th {\n",
       "        text-align: left;\n",
       "    }\n",
       "\n",
       "    .dataframe tbody tr th {\n",
       "        vertical-align: top;\n",
       "    }\n",
       "</style>\n",
       "<table border=\"1\" class=\"dataframe\">\n",
       "  <thead>\n",
       "    <tr style=\"text-align: right;\">\n",
       "      <th></th>\n",
       "      <th>Date</th>\n",
       "      <th>GAME_ID</th>\n",
       "      <th>TEAM_ABBREVIATION</th>\n",
       "      <th>OPP_TEAM_ABBREVIATION</th>\n",
       "      <th>PLAYER_ID</th>\n",
       "      <th>PLAYER_NAME</th>\n",
       "      <th>MIN</th>\n",
       "      <th>PTS_x</th>\n",
       "      <th>PTS_DIFF</th>\n",
       "    </tr>\n",
       "  </thead>\n",
       "  <tbody>\n",
       "    <tr>\n",
       "      <th>0</th>\n",
       "      <td>2018-10-16</td>\n",
       "      <td>0021800002</td>\n",
       "      <td>GSW</td>\n",
       "      <td>OKC</td>\n",
       "      <td>201939</td>\n",
       "      <td>Stephen Curry</td>\n",
       "      <td>36.616667</td>\n",
       "      <td>32</td>\n",
       "      <td>8</td>\n",
       "    </tr>\n",
       "    <tr>\n",
       "      <th>1</th>\n",
       "      <td>2018-10-19</td>\n",
       "      <td>0021800024</td>\n",
       "      <td>GSW</td>\n",
       "      <td>UTA</td>\n",
       "      <td>201939</td>\n",
       "      <td>Stephen Curry</td>\n",
       "      <td>37.133333</td>\n",
       "      <td>31</td>\n",
       "      <td>1</td>\n",
       "    </tr>\n",
       "    <tr>\n",
       "      <th>2</th>\n",
       "      <td>2018-10-21</td>\n",
       "      <td>0021800038</td>\n",
       "      <td>GSW</td>\n",
       "      <td>DEN</td>\n",
       "      <td>201939</td>\n",
       "      <td>Stephen Curry</td>\n",
       "      <td>39.216667</td>\n",
       "      <td>30</td>\n",
       "      <td>-2</td>\n",
       "    </tr>\n",
       "    <tr>\n",
       "      <th>3</th>\n",
       "      <td>2018-10-22</td>\n",
       "      <td>0021800047</td>\n",
       "      <td>GSW</td>\n",
       "      <td>PHX</td>\n",
       "      <td>201939</td>\n",
       "      <td>Stephen Curry</td>\n",
       "      <td>29.666667</td>\n",
       "      <td>29</td>\n",
       "      <td>20</td>\n",
       "    </tr>\n",
       "    <tr>\n",
       "      <th>4</th>\n",
       "      <td>2018-10-24</td>\n",
       "      <td>0021800062</td>\n",
       "      <td>GSW</td>\n",
       "      <td>WAS</td>\n",
       "      <td>201939</td>\n",
       "      <td>Stephen Curry</td>\n",
       "      <td>31.583333</td>\n",
       "      <td>51</td>\n",
       "      <td>22</td>\n",
       "    </tr>\n",
       "  </tbody>\n",
       "</table>\n",
       "</div>"
      ],
      "text/plain": [
       "         Date     GAME_ID TEAM_ABBREVIATION OPP_TEAM_ABBREVIATION PLAYER_ID  \\\n",
       "0  2018-10-16  0021800002               GSW                   OKC    201939   \n",
       "1  2018-10-19  0021800024               GSW                   UTA    201939   \n",
       "2  2018-10-21  0021800038               GSW                   DEN    201939   \n",
       "3  2018-10-22  0021800047               GSW                   PHX    201939   \n",
       "4  2018-10-24  0021800062               GSW                   WAS    201939   \n",
       "\n",
       "     PLAYER_NAME        MIN PTS_x PTS_DIFF  \n",
       "0  Stephen Curry  36.616667    32        8  \n",
       "1  Stephen Curry  37.133333    31        1  \n",
       "2  Stephen Curry  39.216667    30       -2  \n",
       "3  Stephen Curry  29.666667    29       20  \n",
       "4  Stephen Curry  31.583333    51       22  "
      ]
     },
     "execution_count": 6,
     "metadata": {},
     "output_type": "execute_result"
    }
   ],
   "source": [
    "df_player_team_pts = df_player.reset_index().merge(df_games_PTS, on=['GAME_ID', 'TEAM_ID'])\n",
    "df_player_team_pts = df_player_team_pts[['Date', 'GAME_ID', 'TEAM_ABBREVIATION', 'OPP_TEAM_ABBREVIATION',\n",
    "                                         'PLAYER_ID', 'PLAYER_NAME', 'MIN', 'PTS_x', 'PTS_DIFF']]\n",
    "df_player_team_pts.head()"
   ]
  },
  {
   "cell_type": "markdown",
   "metadata": {},
   "source": [
    "# Correlation with points difference\n",
    "I suspect that star players will player more minutes when the game is close, and be rested when the game is a blowout either way. This seems to be supported for Stephen Curry."
   ]
  },
  {
   "cell_type": "code",
   "execution_count": 7,
   "metadata": {},
   "outputs": [
    {
     "ename": "SyntaxError",
     "evalue": "invalid syntax (<ipython-input-7-e67b7a93ce23>, line 12)",
     "output_type": "error",
     "traceback": [
      "\u001b[1;36m  File \u001b[1;32m\"<ipython-input-7-e67b7a93ce23>\"\u001b[1;36m, line \u001b[1;32m12\u001b[0m\n\u001b[1;33m    fig.\u001b[0m\n\u001b[1;37m        ^\u001b[0m\n\u001b[1;31mSyntaxError\u001b[0m\u001b[1;31m:\u001b[0m invalid syntax\n"
     ]
    }
   ],
   "source": [
    "# Convert to float otherwise numeric error is raised (no idea why)\n",
    "df_player_team_pts['PTS_DIFF'] = df_player_team_pts['PTS_DIFF'].apply(lambda x: float(x))\n",
    "df_player_team_pts['PTS_x'] = df_player_team_pts['PTS_x'].apply(lambda x: float(x))\n",
    "\n",
    "df_player_team_pts['PTS_DIFF_ABS'] = df_player_team_pts['PTS_DIFF'].abs()\n",
    "\n",
    "# Plot\n",
    "fig, ax = plt.subplots(nrows=1, ncols=2, sharey=True, figsize=(15, 7))\n",
    "\n",
    "df_player_team_pts.plot.scatter(x='PTS_DIFF', y='MIN', alpha=0.6, ax=ax[0])\n",
    "df_player_team_pts.plot.scatter(x='PTS_DIFF_ABS', y='MIN', alpha=0.6, ax=ax[1])\n",
    "fig."
   ]
  },
  {
   "cell_type": "code",
   "execution_count": 72,
   "metadata": {},
   "outputs": [
    {
     "data": {
      "text/plain": [
       "Text(0.5,1,'Effect of player points on team win margin')"
      ]
     },
     "execution_count": 72,
     "metadata": {},
     "output_type": "execute_result"
    },
    {
     "data": {
      "image/png": "[encoded data removed]",
      "text/plain": [
       "<matplotlib.figure.Figure at 0x1ed216dbc88>"
      ]
     },
     "metadata": {},
     "output_type": "display_data"
    }
   ],
   "source": [
    "df_player_team_pts.plot.scatter(x='PTS_x', y='PTS_DIFF', alpha=0.6)\n",
    "plt.xlabel('Player points')\n",
    "plt.ylabel('Team win margin')\n",
    "plt.title('Effect of player points on team win margin')"
   ]
  },
  {
   "cell_type": "markdown",
   "metadata": {},
   "source": [
    "### Create a simple linear model"
   ]
  },
  {
   "cell_type": "code",
   "execution_count": null,
   "metadata": {
    "collapsed": true
   },
   "outputs": [],
   "source": []
  }
 ],
 "metadata": {
  "kernelspec": {
   "display_name": "Python 3",
   "language": "python",
   "name": "python3"
  },
  "language_info": {
   "codemirror_mode": {
    "name": "ipython",
    "version": 3
   },
   "file_extension": ".py",
   "mimetype": "text/x-python",
   "name": "python",
   "nbconvert_exporter": "python",
   "pygments_lexer": "ipython3",
   "version": "3.6.3"
  }
 },
 "nbformat": 4,
 "nbformat_minor": 2
}

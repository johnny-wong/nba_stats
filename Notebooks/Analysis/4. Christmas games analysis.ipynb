{
 "cells": [
  {
   "cell_type": "code",
   "execution_count": 1,
   "metadata": {},
   "outputs": [
    {
     "name": "stderr",
     "output_type": "stream",
     "text": [
      "C:\\Users\\johnn\\Anaconda3\\lib\\site-packages\\statsmodels\\compat\\pandas.py:56: FutureWarning: The pandas.core.datetools module is deprecated and will be removed in a future version. Please use the pandas.tseries module instead.\n",
      "  from pandas.core import datetools\n"
     ]
    },
    {
     "name": "stdout",
     "output_type": "stream",
     "text": [
      "C:\\Users\\johnn\\Desktop\\github\\nba_stats\\Data\\nba_stats.pickle\n"
     ]
    }
   ],
   "source": [
    "import sys\n",
    "import os\n",
    "import matplotlib.pyplot as plt\n",
    "% matplotlib inline\n",
    "import pickle\n",
    "# Import class\n",
    "parent_dir = os.path.dirname(os.path.dirname(os.getcwd()))\n",
    "class_dir = os.path.join(parent_dir, 'Scripts')\n",
    "sys.path.insert(0, class_dir)\n",
    "import NBAStats\n",
    "import numpy as np\n",
    "import datetime as dt\n",
    "import random\n",
    "import seaborn as sns\n",
    "import pandas as pd\n",
    "import statsmodels.api as sm\n",
    "\n",
    "stats_file = os.path.join(parent_dir, 'Data', 'nba_stats.pickle')\n",
    "print(stats_file)\n",
    "nba_stats = pickle.load(open(stats_file, 'rb'))"
   ]
  },
  {
   "cell_type": "markdown",
   "metadata": {},
   "source": [
    "# Christmas game effect\n",
    "Do players play differently on Christmas day?\n",
    "For each player who's played on christmas day, compare how they've performed against their previous 50 game average."
   ]
  },
  {
   "cell_type": "code",
   "execution_count": 49,
   "metadata": {},
   "outputs": [],
   "source": [
    "df_excess = pd.DataFrame()\n",
    "\n",
    "for year in [2007, 2008, 2009, 2010, 2011, 2012, 2013, 2014, 2015, 2016, 2017]:\n",
    "    christmas_day = dt.date(year, 12, 25)\n",
    "    games_info = nba_stats.get_games().copy()\n",
    "\n",
    "    # Convert GAME_DATE from str to dt.date\n",
    "    games_info['GAME_DATE'] = games_info['GAME_DATE'].apply(\n",
    "        lambda date: dt.datetime.strptime(date[:10], '%Y-%m-%d'))\n",
    "\n",
    "    xmas_games = games_info[games_info['GAME_DATE'] == christmas_day]\n",
    "    xmas_game_ids = xmas_games['GAME_ID'].unique()\n",
    "    \n",
    "    for game_id in xmas_game_ids:\n",
    "\n",
    "        game_boxscore = nba_stats.get_boxscores()[game_id]\n",
    "        player_ids = game_boxscore['PLAYER_ID']\n",
    "\n",
    "        for player_id in player_ids:\n",
    "\n",
    "            df_player = nba_stats.get_player_stats()[player_id]\n",
    "            df_player = df_player[df_player.index <= christmas_day].sort_index().tail(51)\n",
    "            player_name = df_player['PLAYER_NAME'][0]\n",
    "\n",
    "            df_player = df_player[['PTS', 'AST', 'REB']]\n",
    "            xmas_stats = df_player.iloc[-1]\n",
    "            avg_prev_stats = df_player.iloc[:50].mean()\n",
    "\n",
    "            xmas_excess = pd.DataFrame(xmas_stats.subtract(avg_prev_stats)).T\n",
    "            xmas_excess['PLAYER_NAME'] = player_name\n",
    "            xmas_excess['DATE'] = christmas_day\n",
    "\n",
    "            df_excess = df_excess.append(xmas_excess)"
   ]
  },
  {
   "cell_type": "code",
   "execution_count": 67,
   "metadata": {},
   "outputs": [
    {
     "data": {
      "image/png": "[encoded data removed]",
      "text/plain": [
       "<matplotlib.figure.Figure at 0x19a78448e80>"
      ]
     },
     "metadata": {},
     "output_type": "display_data"
    }
   ],
   "source": [
    "fig, ax = plt.subplots(1, 3, figsize=(15, 5))\n",
    "\n",
    "for i, stat in enumerate(['PTS', 'REB', 'AST']):\n",
    "    \n",
    "    df_excess.plot(y=stat, kind='hist', ax=ax[i])\n",
    "    ax[i].axvline(df_excess[stat].mean(), color='black')"
   ]
  },
  {
   "cell_type": "markdown",
   "metadata": {},
   "source": [
    "## Conclusion\n",
    "There doesn't seem to be any significant difference between how players play on Christmas compared to other regular season games. Not going to pursue this analysis any further"
   ]
  }
 ],
 "metadata": {
  "kernelspec": {
   "display_name": "Python 3",
   "language": "python",
   "name": "python3"
  },
  "language_info": {
   "codemirror_mode": {
    "name": "ipython",
    "version": 3
   },
   "file_extension": ".py",
   "mimetype": "text/x-python",
   "name": "python",
   "nbconvert_exporter": "python",
   "pygments_lexer": "ipython3",
   "version": "3.6.3"
  }
 },
 "nbformat": 4,
 "nbformat_minor": 2
}

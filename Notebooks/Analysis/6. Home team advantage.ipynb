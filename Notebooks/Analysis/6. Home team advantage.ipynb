{
 "cells": [
  {
   "cell_type": "code",
   "execution_count": 1,
   "metadata": {},
   "outputs": [
    {
     "name": "stdout",
     "output_type": "stream",
     "text": [
      "C:\\Users\\johnn\\Desktop\\github\\nba_stats\\Data\\nba_stats.pickle\n"
     ]
    }
   ],
   "source": [
    "import sys\n",
    "import os\n",
    "import matplotlib.pyplot as plt\n",
    "%matplotlib inline\n",
    "import pickle\n",
    "# Import class\n",
    "parent_dir = os.path.dirname(os.path.dirname(os.getcwd()))\n",
    "class_dir = os.path.join(parent_dir, 'Scripts')\n",
    "sys.path.insert(0, class_dir)\n",
    "import NBAStats\n",
    "import numpy as np\n",
    "import datetime as dt\n",
    "import pandas as pd\n",
    "\n",
    "stats_file = os.path.join(parent_dir, 'Data', 'nba_stats.pickle')\n",
    "print(stats_file)\n",
    "nba_stats = pickle.load(open(stats_file, 'rb'))"
   ]
  },
  {
   "cell_type": "code",
   "execution_count": 2,
   "metadata": {
    "collapsed": true
   },
   "outputs": [],
   "source": [
    "from scipy.stats import ttest_ind"
   ]
  },
  {
   "cell_type": "code",
   "execution_count": 3,
   "metadata": {
    "collapsed": true
   },
   "outputs": [],
   "source": [
    "def player_df_convert_numeric(player_df):\n",
    "    ''' Returns a dataframe that converts relevant columns to numeric \n",
    "    Columns converted:\n",
    "    MIN\n",
    "    '''\n",
    "    player_df['MIN'] = player_df['MIN'].apply(\n",
    "        lambda str_min: int(str_min[:-3]) + int(str_min[-2:])/60.0 if str_min is not None else 0 )\n",
    "\n",
    "    return player_df"
   ]
  },
  {
   "cell_type": "markdown",
   "metadata": {},
   "source": [
    "# Playing at home\n",
    "Quick easy analysis to see how much an effect playing at home has."
   ]
  },
  {
   "cell_type": "code",
   "execution_count": 10,
   "metadata": {},
   "outputs": [
    {
     "name": "stdout",
     "output_type": "stream",
     "text": [
      "Home advantage of 0.88 with p-value 0.379\n"
     ]
    },
    {
     "data": {
      "text/plain": [
       "Text(0.5,1,'Derrick Rose')"
      ]
     },
     "execution_count": 10,
     "metadata": {},
     "output_type": "execute_result"
    },
    {
     "data": {
      "image/png": "[encoded data removed]",
      "text/plain": [
       "<matplotlib.figure.Figure at 0x29d88dd6828>"
      ]
     },
     "metadata": {},
     "output_type": "display_data"
    }
   ],
   "source": [
    "player_name = 'Derrick Rose'\n",
    "player_id = nba_stats.get_player_name_id_dict()[player_name]\n",
    "stat = 'PTS'\n",
    "\n",
    "df_player = player_df_convert_numeric(nba_stats.get_player_stats()[player_id].copy())\n",
    "df_player = df_player[df_player['MIN'] > 0]\n",
    "df_home = df_player[df_player['HOME_AWAY'] == 'HOME']\n",
    "df_away = df_player[df_player['HOME_AWAY'] == 'AWAY']\n",
    "\n",
    "# Find stats\n",
    "home_stats = df_home[stat]\n",
    "away_stats = df_away[stat]\n",
    "\n",
    "home_adv, p_value = ttest_ind(home_stats, away_stats)\n",
    "print('Home advantage of {:.2f} with p-value {:.3f}'.format(home_adv, p_value))\n",
    "\n",
    "# Graph\n",
    "fig, ax = plt.subplots(1, 1, figsize=(10, 7))\n",
    "df_home[stat].plot(kind='hist', alpha=0.2, color='blue', ax=ax, density=True)\n",
    "df_away[stat].plot(kind='hist', alpha=0.2, color='red', ax=ax, density=True)\n",
    "ax.axvline(x=home_stats.mean(), color='blue')\n",
    "ax.axvline(x=away_stats.mean(), color='red')\n",
    "ax.set_title(player_name)"
   ]
  },
  {
   "cell_type": "markdown",
   "metadata": {},
   "source": [
    "## Repeat analysis for all players\n",
    "It doesn't seem like Stephen Curry is particularly affected by home court advantage. He scores just as much (if not more) when he's on the road! Repeat this analysis for all other players in the database and see if there's any overwhelming trend. I suspect that players would play better at home court due to the favourable atmosphere."
   ]
  },
  {
   "cell_type": "code",
   "execution_count": 5,
   "metadata": {
    "collapsed": true
   },
   "outputs": [],
   "source": [
    "def player_home_away_ttest(player_id, stat):\n",
    "    ''' Run t test for specific player and stat. Returns home overs and p-value '''\n",
    "    df_player = player_df_convert_numeric(nba_stats.get_player_stats()[player_id].copy())\n",
    "    df_player = df_player[df_player['MIN'] > 0]\n",
    "    df_home = df_player[df_player['HOME_AWAY'] == 'HOME']\n",
    "    df_away = df_player[df_player['HOME_AWAY'] == 'AWAY']\n",
    "\n",
    "    # Find stats\n",
    "    home_stats = df_home[stat]\n",
    "    away_stats = df_away[stat]\n",
    "\n",
    "    if len(home_stats) > 1 and len(away_stats) > 1:\n",
    "        # Can only conduct test if ast least 2 observations in each sample\n",
    "        t_stat, p_value = ttest_ind(home_stats, away_stats)\n",
    "    else:\n",
    "        return None, None\n",
    "    \n",
    "    home_overs = home_stats.mean() - away_stats.mean()\n",
    "    \n",
    "    return home_overs, p_value"
   ]
  },
  {
   "cell_type": "code",
   "execution_count": 6,
   "metadata": {
    "collapsed": true
   },
   "outputs": [],
   "source": [
    "def home_away_ttest(stat):\n",
    "    ''' Run player t test for all players and return a dataframe of their name, home advantage, and p-value'''\n",
    "    df = pd.DataFrame()\n",
    "    for player in nba_stats.get_player_name_id_dict().keys():\n",
    "        player_id = nba_stats.get_player_name_id_dict()[player]\n",
    "        \n",
    "        home_overs, p_value = player_home_away_ttest(player_id, stat)\n",
    "        df_player = pd.DataFrame({'player':[player], 'Stat':[stat], \n",
    "                                 'home_mean_overs':[home_overs], 'p_value': [p_value]})\n",
    "        df = df.append(df_player)\n",
    "        \n",
    "    return df"
   ]
  },
  {
   "cell_type": "code",
   "execution_count": 7,
   "metadata": {},
   "outputs": [
    {
     "name": "stderr",
     "output_type": "stream",
     "text": [
      "C:\\Users\\johnn\\Anaconda3\\lib\\site-packages\\scipy\\stats\\_distn_infrastructure.py:879: RuntimeWarning: invalid value encountered in greater\n",
      "  return (self.a < x) & (x < self.b)\n",
      "C:\\Users\\johnn\\Anaconda3\\lib\\site-packages\\scipy\\stats\\_distn_infrastructure.py:879: RuntimeWarning: invalid value encountered in less\n",
      "  return (self.a < x) & (x < self.b)\n",
      "C:\\Users\\johnn\\Anaconda3\\lib\\site-packages\\scipy\\stats\\_distn_infrastructure.py:1818: RuntimeWarning: invalid value encountered in less_equal\n",
      "  cond2 = cond0 & (x <= self.a)\n"
     ]
    }
   ],
   "source": [
    "df_home_adv_pts = home_away_ttest('PTS')\n",
    "df_home_adv_reb = home_away_ttest('REB')\n",
    "df_home_adv_ast = home_away_ttest('AST')"
   ]
  },
  {
   "cell_type": "code",
   "execution_count": 8,
   "metadata": {},
   "outputs": [
    {
     "data": {
      "text/plain": [
       "Text(0.5,1,'AST\\n0.074 proportion of p values under 0.05')"
      ]
     },
     "execution_count": 8,
     "metadata": {},
     "output_type": "execute_result"
    },
    {
     "data": {
      "image/png": "[encoded data removed]",
      "text/plain": [
       "<matplotlib.figure.Figure at 0x29d8b65fa20>"
      ]
     },
     "metadata": {},
     "output_type": "display_data"
    }
   ],
   "source": [
    "fig, ax = plt.subplots(1, 3, figsize=(15, 5))\n",
    "\n",
    "df_home_adv_pts.plot.scatter(x='home_mean_overs', y='p_value', ax=ax[0])\n",
    "fr_sig = (df_home_adv_pts['p_value']<0.05).sum()/float(len(df_home_adv_pts))\n",
    "ax[0].set_title('PTS\\n{:.3f} proportion of p values under 0.05'.format(fr_sig))\n",
    "\n",
    "df_home_adv_reb.plot.scatter(x='home_mean_overs', y='p_value', ax=ax[1])\n",
    "fr_sig = (df_home_adv_reb['p_value']<0.05).sum()/float(len(df_home_adv_reb))\n",
    "ax[1].set_title('REB\\n{:.3f} proportion of p values under 0.05'.format(fr_sig))\n",
    "\n",
    "df_home_adv_ast.plot.scatter(x='home_mean_overs', y='p_value', ax=ax[2])\n",
    "fr_sig = (df_home_adv_ast['p_value']<0.05).sum()/float(len(df_home_adv_ast))\n",
    "ax[2].set_title('AST\\n{:.3f} proportion of p values under 0.05'.format(fr_sig))"
   ]
  },
  {
   "cell_type": "markdown",
   "metadata": {},
   "source": [
    "# Conclusion\n",
    "Surprisingly, doesn't seem to be much evidence of a home team advantage. Wonder if this is different for team wins."
   ]
  },
  {
   "cell_type": "code",
   "execution_count": 42,
   "metadata": {},
   "outputs": [],
   "source": [
    "team_ids = nba_stats.get_games()['TEAM_ID'].unique()\n",
    "\n",
    "list_team_home_away_pts = list()\n",
    "for team_id in team_ids:\n",
    "    team_df = nba_stats.get_games()[nba_stats.get_games()['TEAM_ID'] == team_id]\n",
    "    home_away_pts = team_df.groupby('HOME_AWAY')['PTS'].sum()\n",
    "    home_pts = home_away_pts[0]\n",
    "    away_pts = home_away_pts[1]\n",
    "    list_team_home_away_pts.append([team_id, home_pts, away_pts])\n",
    "df_team_home_away_pts = pd.DataFrame(list_team_home_away_pts, columns=['Team id', 'home pts', 'away pts'])\n",
    "df_team_home_away_pts['HOME_ADV'] = df_team_home_away_pts['home pts'] - df_team_home_away_pts['away pts']\n",
    "df_team_home_away_pts['HOME_ADV %'] = df_team_home_away_pts['HOME_ADV'].div(df_team_home_away_pts['home pts'])"
   ]
  },
  {
   "cell_type": "code",
   "execution_count": 43,
   "metadata": {},
   "outputs": [
    {
     "data": {
      "text/html": [
       "<div>\n",
       "<style>\n",
       "    .dataframe thead tr:only-child th {\n",
       "        text-align: right;\n",
       "    }\n",
       "\n",
       "    .dataframe thead th {\n",
       "        text-align: left;\n",
       "    }\n",
       "\n",
       "    .dataframe tbody tr th {\n",
       "        vertical-align: top;\n",
       "    }\n",
       "</style>\n",
       "<table border=\"1\" class=\"dataframe\">\n",
       "  <thead>\n",
       "    <tr style=\"text-align: right;\">\n",
       "      <th></th>\n",
       "      <th>Team id</th>\n",
       "      <th>home pts</th>\n",
       "      <th>away pts</th>\n",
       "      <th>HOME_ADV</th>\n",
       "      <th>HOME_ADV %</th>\n",
       "    </tr>\n",
       "  </thead>\n",
       "  <tbody>\n",
       "    <tr>\n",
       "      <th>0</th>\n",
       "      <td>1610612738</td>\n",
       "      <td>27005</td>\n",
       "      <td>27571</td>\n",
       "      <td>-566</td>\n",
       "      <td>-0.020959</td>\n",
       "    </tr>\n",
       "    <tr>\n",
       "      <th>1</th>\n",
       "      <td>1610612744</td>\n",
       "      <td>29105</td>\n",
       "      <td>29707</td>\n",
       "      <td>-602</td>\n",
       "      <td>-0.020684</td>\n",
       "    </tr>\n",
       "    <tr>\n",
       "      <th>2</th>\n",
       "      <td>1610612760</td>\n",
       "      <td>28268</td>\n",
       "      <td>28732</td>\n",
       "      <td>-464</td>\n",
       "      <td>-0.016414</td>\n",
       "    </tr>\n",
       "    <tr>\n",
       "      <th>3</th>\n",
       "      <td>1610612755</td>\n",
       "      <td>26357</td>\n",
       "      <td>27262</td>\n",
       "      <td>-905</td>\n",
       "      <td>-0.034336</td>\n",
       "    </tr>\n",
       "    <tr>\n",
       "      <th>4</th>\n",
       "      <td>1610612763</td>\n",
       "      <td>25829</td>\n",
       "      <td>26412</td>\n",
       "      <td>-583</td>\n",
       "      <td>-0.022572</td>\n",
       "    </tr>\n",
       "    <tr>\n",
       "      <th>5</th>\n",
       "      <td>1610612742</td>\n",
       "      <td>26725</td>\n",
       "      <td>27659</td>\n",
       "      <td>-934</td>\n",
       "      <td>-0.034949</td>\n",
       "    </tr>\n",
       "    <tr>\n",
       "      <th>6</th>\n",
       "      <td>1610612745</td>\n",
       "      <td>28277</td>\n",
       "      <td>29433</td>\n",
       "      <td>-1156</td>\n",
       "      <td>-0.040881</td>\n",
       "    </tr>\n",
       "    <tr>\n",
       "      <th>7</th>\n",
       "      <td>1610612737</td>\n",
       "      <td>27306</td>\n",
       "      <td>27413</td>\n",
       "      <td>-107</td>\n",
       "      <td>-0.003919</td>\n",
       "    </tr>\n",
       "    <tr>\n",
       "      <th>8</th>\n",
       "      <td>1610612739</td>\n",
       "      <td>27240</td>\n",
       "      <td>28029</td>\n",
       "      <td>-789</td>\n",
       "      <td>-0.028965</td>\n",
       "    </tr>\n",
       "    <tr>\n",
       "      <th>9</th>\n",
       "      <td>1610612746</td>\n",
       "      <td>28481</td>\n",
       "      <td>28610</td>\n",
       "      <td>-129</td>\n",
       "      <td>-0.004529</td>\n",
       "    </tr>\n",
       "    <tr>\n",
       "      <th>10</th>\n",
       "      <td>1610612758</td>\n",
       "      <td>27147</td>\n",
       "      <td>27634</td>\n",
       "      <td>-487</td>\n",
       "      <td>-0.017939</td>\n",
       "    </tr>\n",
       "    <tr>\n",
       "      <th>11</th>\n",
       "      <td>1610612750</td>\n",
       "      <td>27600</td>\n",
       "      <td>27830</td>\n",
       "      <td>-230</td>\n",
       "      <td>-0.008333</td>\n",
       "    </tr>\n",
       "    <tr>\n",
       "      <th>12</th>\n",
       "      <td>1610612748</td>\n",
       "      <td>26085</td>\n",
       "      <td>27573</td>\n",
       "      <td>-1488</td>\n",
       "      <td>-0.057044</td>\n",
       "    </tr>\n",
       "    <tr>\n",
       "      <th>13</th>\n",
       "      <td>1610612751</td>\n",
       "      <td>26983</td>\n",
       "      <td>27349</td>\n",
       "      <td>-366</td>\n",
       "      <td>-0.013564</td>\n",
       "    </tr>\n",
       "    <tr>\n",
       "      <th>14</th>\n",
       "      <td>1610612766</td>\n",
       "      <td>26631</td>\n",
       "      <td>27257</td>\n",
       "      <td>-626</td>\n",
       "      <td>-0.023506</td>\n",
       "    </tr>\n",
       "    <tr>\n",
       "      <th>15</th>\n",
       "      <td>1610612749</td>\n",
       "      <td>26412</td>\n",
       "      <td>27510</td>\n",
       "      <td>-1098</td>\n",
       "      <td>-0.041572</td>\n",
       "    </tr>\n",
       "    <tr>\n",
       "      <th>16</th>\n",
       "      <td>1610612753</td>\n",
       "      <td>25819</td>\n",
       "      <td>26998</td>\n",
       "      <td>-1179</td>\n",
       "      <td>-0.045664</td>\n",
       "    </tr>\n",
       "    <tr>\n",
       "      <th>17</th>\n",
       "      <td>1610612765</td>\n",
       "      <td>26093</td>\n",
       "      <td>27157</td>\n",
       "      <td>-1064</td>\n",
       "      <td>-0.040777</td>\n",
       "    </tr>\n",
       "    <tr>\n",
       "      <th>18</th>\n",
       "      <td>1610612759</td>\n",
       "      <td>27279</td>\n",
       "      <td>28462</td>\n",
       "      <td>-1183</td>\n",
       "      <td>-0.043367</td>\n",
       "    </tr>\n",
       "    <tr>\n",
       "      <th>19</th>\n",
       "      <td>1610612762</td>\n",
       "      <td>26026</td>\n",
       "      <td>26741</td>\n",
       "      <td>-715</td>\n",
       "      <td>-0.027473</td>\n",
       "    </tr>\n",
       "    <tr>\n",
       "      <th>20</th>\n",
       "      <td>1610612743</td>\n",
       "      <td>27333</td>\n",
       "      <td>29260</td>\n",
       "      <td>-1927</td>\n",
       "      <td>-0.070501</td>\n",
       "    </tr>\n",
       "    <tr>\n",
       "      <th>21</th>\n",
       "      <td>1610612761</td>\n",
       "      <td>27755</td>\n",
       "      <td>28253</td>\n",
       "      <td>-498</td>\n",
       "      <td>-0.017943</td>\n",
       "    </tr>\n",
       "    <tr>\n",
       "      <th>22</th>\n",
       "      <td>1610612752</td>\n",
       "      <td>26757</td>\n",
       "      <td>26661</td>\n",
       "      <td>96</td>\n",
       "      <td>0.003588</td>\n",
       "    </tr>\n",
       "    <tr>\n",
       "      <th>23</th>\n",
       "      <td>1610612740</td>\n",
       "      <td>27314</td>\n",
       "      <td>27809</td>\n",
       "      <td>-495</td>\n",
       "      <td>-0.018123</td>\n",
       "    </tr>\n",
       "    <tr>\n",
       "      <th>24</th>\n",
       "      <td>1610612756</td>\n",
       "      <td>27243</td>\n",
       "      <td>27629</td>\n",
       "      <td>-386</td>\n",
       "      <td>-0.014169</td>\n",
       "    </tr>\n",
       "    <tr>\n",
       "      <th>25</th>\n",
       "      <td>1610612754</td>\n",
       "      <td>26122</td>\n",
       "      <td>27377</td>\n",
       "      <td>-1255</td>\n",
       "      <td>-0.048044</td>\n",
       "    </tr>\n",
       "    <tr>\n",
       "      <th>26</th>\n",
       "      <td>1610612757</td>\n",
       "      <td>27379</td>\n",
       "      <td>28550</td>\n",
       "      <td>-1171</td>\n",
       "      <td>-0.042770</td>\n",
       "    </tr>\n",
       "    <tr>\n",
       "      <th>27</th>\n",
       "      <td>1610612764</td>\n",
       "      <td>26841</td>\n",
       "      <td>28113</td>\n",
       "      <td>-1272</td>\n",
       "      <td>-0.047390</td>\n",
       "    </tr>\n",
       "    <tr>\n",
       "      <th>28</th>\n",
       "      <td>1610612747</td>\n",
       "      <td>27463</td>\n",
       "      <td>27563</td>\n",
       "      <td>-100</td>\n",
       "      <td>-0.003641</td>\n",
       "    </tr>\n",
       "    <tr>\n",
       "      <th>29</th>\n",
       "      <td>1610612741</td>\n",
       "      <td>26402</td>\n",
       "      <td>26499</td>\n",
       "      <td>-97</td>\n",
       "      <td>-0.003674</td>\n",
       "    </tr>\n",
       "  </tbody>\n",
       "</table>\n",
       "</div>"
      ],
      "text/plain": [
       "       Team id  home pts  away pts  HOME_ADV  HOME_ADV %\n",
       "0   1610612738     27005     27571      -566   -0.020959\n",
       "1   1610612744     29105     29707      -602   -0.020684\n",
       "2   1610612760     28268     28732      -464   -0.016414\n",
       "3   1610612755     26357     27262      -905   -0.034336\n",
       "4   1610612763     25829     26412      -583   -0.022572\n",
       "5   1610612742     26725     27659      -934   -0.034949\n",
       "6   1610612745     28277     29433     -1156   -0.040881\n",
       "7   1610612737     27306     27413      -107   -0.003919\n",
       "8   1610612739     27240     28029      -789   -0.028965\n",
       "9   1610612746     28481     28610      -129   -0.004529\n",
       "10  1610612758     27147     27634      -487   -0.017939\n",
       "11  1610612750     27600     27830      -230   -0.008333\n",
       "12  1610612748     26085     27573     -1488   -0.057044\n",
       "13  1610612751     26983     27349      -366   -0.013564\n",
       "14  1610612766     26631     27257      -626   -0.023506\n",
       "15  1610612749     26412     27510     -1098   -0.041572\n",
       "16  1610612753     25819     26998     -1179   -0.045664\n",
       "17  1610612765     26093     27157     -1064   -0.040777\n",
       "18  1610612759     27279     28462     -1183   -0.043367\n",
       "19  1610612762     26026     26741      -715   -0.027473\n",
       "20  1610612743     27333     29260     -1927   -0.070501\n",
       "21  1610612761     27755     28253      -498   -0.017943\n",
       "22  1610612752     26757     26661        96    0.003588\n",
       "23  1610612740     27314     27809      -495   -0.018123\n",
       "24  1610612756     27243     27629      -386   -0.014169\n",
       "25  1610612754     26122     27377     -1255   -0.048044\n",
       "26  1610612757     27379     28550     -1171   -0.042770\n",
       "27  1610612764     26841     28113     -1272   -0.047390\n",
       "28  1610612747     27463     27563      -100   -0.003641\n",
       "29  1610612741     26402     26499       -97   -0.003674"
      ]
     },
     "execution_count": 43,
     "metadata": {},
     "output_type": "execute_result"
    }
   ],
   "source": [
    "df_team_home_away_pts"
   ]
  },
  {
   "cell_type": "markdown",
   "metadata": {},
   "source": [
    "# Home court advantage for teams\n",
    "There are plenty of articles and analyses conducted to show that home court advantage is quite significant in the NBA. And especially for teams such as Utah and Denver which are hard to get to and have a high altitude visiting teams aren't as used to. I'm just going to do a quick analysis to confirm."
   ]
  },
  {
   "cell_type": "code",
   "execution_count": 9,
   "metadata": {
    "collapsed": true
   },
   "outputs": [],
   "source": [
    "from statsmodels.stats.proportion import proportions_ztest"
   ]
  },
  {
   "cell_type": "code",
   "execution_count": 10,
   "metadata": {},
   "outputs": [
    {
     "name": "stdout",
     "output_type": "stream",
     "text": [
      "test stat of 15.761618390173574 and p-value of 5.7150518610883055e-56\n"
     ]
    },
    {
     "data": {
      "image/png": "[encoded data removed]",
      "text/plain": [
       "<Figure size 432x288 with 1 Axes>"
      ]
     },
     "metadata": {
      "needs_background": "light"
     },
     "output_type": "display_data"
    }
   ],
   "source": [
    "df_home_games = nba_stats.get_games()[nba_stats.get_games()['HOME_AWAY'] == 'HOME']\n",
    "df_home_games = df_home_games[~df_home_games.duplicated()]\n",
    "\n",
    "n_win = (df_home_games['WL'] == 'W').sum()\n",
    "n_lose = (df_home_games['WL'] == 'L').sum()\n",
    "\n",
    "assert len(df_home_games) == n_win + n_lose\n",
    "\n",
    "counts = [n_win, n_lose]\n",
    "\n",
    "plt.bar(x=[0, 1], height=counts)\n",
    "plt.xticks([0, 1], ['Win', 'lose'])\n",
    "for i, height in enumerate(counts):\n",
    "    plt.text(x=i-0.1, y=height - 500, s=height)\n",
    "\n",
    "test_stat, pval = proportions_ztest(n_win, n_win + n_lose, 0.5)\n",
    "print('test stat of {} and p-value of {}'.format(test_stat, pval))"
   ]
  },
  {
   "cell_type": "markdown",
   "metadata": {},
   "source": [
    "# Conclusion\n",
    "Clearly, home court has an advantage. It would be interesting to break this down across seasons"
   ]
  },
  {
   "cell_type": "code",
   "execution_count": 11,
   "metadata": {},
   "outputs": [
    {
     "data": {
      "image/png": "[encoded data removed]",
      "text/plain": [
       "<Figure size 720x432 with 1 Axes>"
      ]
     },
     "metadata": {
      "needs_background": "light"
     },
     "output_type": "display_data"
    }
   ],
   "source": [
    "df_home_games['HOME_WIN'] = df_home_games['WL'].apply(lambda wl: 1 if wl == 'W' else 0)\n",
    "df_home_games.head()\n",
    "\n",
    "df_home_wins_per_season = df_home_games[['SEASON_YEAR', 'HOME_WIN']].groupby(by='SEASON_YEAR').mean()\n",
    "df_home_wins_per_season['HOME_LOSE'] = df_home_wins_per_season['HOME_WIN'].apply(lambda win: 1-win)\n",
    "\n",
    "fig = plt.figure(figsize=(10, 6))\n",
    "plt.bar(df_home_wins_per_season.index, df_home_wins_per_season['HOME_WIN'])\n",
    "plt.bar(df_home_wins_per_season.index, df_home_wins_per_season['HOME_LOSE'],\n",
    "       bottom=df_home_wins_per_season['HOME_WIN'])\n",
    "plt.xticks(rotation=-90)\n",
    "plt.title('Proportion of home team wins by season')\n",
    "\n",
    "for i, prop in enumerate(df_home_wins_per_season['HOME_WIN']):\n",
    "    plt.text(i-0.25, prop + 0.05, round(prop,2))"
   ]
  },
  {
   "cell_type": "markdown",
   "metadata": {},
   "source": [
    "Seems like the home court advantage stays pretty consistent across seasons"
   ]
  }
 ],
 "metadata": {
  "kernelspec": {
   "display_name": "Python 3",
   "language": "python",
   "name": "python3"
  },
  "language_info": {
   "codemirror_mode": {
    "name": "ipython",
    "version": 3
   },
   "file_extension": ".py",
   "mimetype": "text/x-python",
   "name": "python",
   "nbconvert_exporter": "python",
   "pygments_lexer": "ipython3",
   "version": "3.6.3"
  }
 },
 "nbformat": 4,
 "nbformat_minor": 2
}
